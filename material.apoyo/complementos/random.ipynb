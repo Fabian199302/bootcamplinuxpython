{
  "cells": [
    {
      "cell_type": "markdown",
      "metadata": {
        "id": "AL3v4_LVt37x"
      },
      "source": [
        "<p><img src=\"https://i.postimg.cc/cCjTSn8r/ss-cumf.png\" alt=\"\" width=\"1280\" height=\"300\" /></p>"
      ]
    },
    {
      "cell_type": "markdown",
      "metadata": {
        "id": "OvEAUwiet37z"
      },
      "source": [
        "# **VALORES ALEATORIOS (RANDOM)**\n",
        "\n",
        "\n",
        "Los datos aleatorios son valores generados de manera impredecible o al azar, sin seguir un patrón específico. Estos datos se utilizan en una variedad de aplicaciones, como simulaciones, juegos, estadísticas, criptografía y pruebas de software. En Python, puedes generar datos aleatorios utilizando la librería `random`.\n"
      ]
    },
    {
      "cell_type": "markdown",
      "metadata": {
        "id": "mgE4zMyst37z"
      },
      "source": [
        "## **IMPORTANDO LIBRERÍA**"
      ]
    },
    {
      "cell_type": "code",
      "execution_count": 1,
      "metadata": {
        "id": "gxNqlJnyt370"
      },
      "outputs": [],
      "source": [
        "import random"
      ]
    },
    {
      "cell_type": "markdown",
      "metadata": {
        "id": "WSDvqXlgt371"
      },
      "source": [
        "## **NÚMEROS ALEATORIOS ENTEROS**"
      ]
    },
    {
      "cell_type": "code",
      "execution_count": 2,
      "metadata": {
        "colab": {
          "base_uri": "https://localhost:8080/"
        },
        "id": "QXdxzPw4t371",
        "outputId": "78dd6f73-2b41-4306-bd35-ca9b86ea9088"
      },
      "outputs": [
        {
          "output_type": "stream",
          "name": "stdout",
          "text": [
            "56\n"
          ]
        }
      ],
      "source": [
        "numero_aleatorio = random.randint(1, 100)\n",
        "print(numero_aleatorio)"
      ]
    },
    {
      "cell_type": "markdown",
      "metadata": {
        "id": "n8yfLAc2t372"
      },
      "source": [
        "## **NÚMEROS ALEATORIOS PUNTO FLOTANTE**\n",
        "\n",
        "Decimales aleatorios en el rango (0, 1)"
      ]
    },
    {
      "cell_type": "code",
      "execution_count": 3,
      "metadata": {
        "colab": {
          "base_uri": "https://localhost:8080/"
        },
        "id": "cdGLj_9ft372",
        "outputId": "12935a76-3c33-44dc-cf1c-707b9c560c05"
      },
      "outputs": [
        {
          "output_type": "stream",
          "name": "stdout",
          "text": [
            "0.3403467794709487\n"
          ]
        }
      ],
      "source": [
        "numero_decimal_aleatorio = random.random()\n",
        "print(numero_decimal_aleatorio)"
      ]
    },
    {
      "cell_type": "markdown",
      "metadata": {
        "id": "BijDEqY3t372"
      },
      "source": [
        "## **TEXTO ALEATORIOS**"
      ]
    },
    {
      "cell_type": "code",
      "execution_count": 4,
      "metadata": {
        "colab": {
          "base_uri": "https://localhost:8080/"
        },
        "id": "ujEEJzRVt373",
        "outputId": "421061d7-abf0-460f-e438-d7f6796b9633"
      },
      "outputs": [
        {
          "output_type": "stream",
          "name": "stdout",
          "text": [
            "Manzana\n"
          ]
        }
      ],
      "source": [
        "opciones = [\"Manzana\", \"Banana\", \"Naranja\", \"Pera\"]\n",
        "fruta_aleatoria = random.choice(opciones)\n",
        "print(fruta_aleatoria)"
      ]
    }
  ],
  "metadata": {
    "kernelspec": {
      "display_name": "ss",
      "language": "python",
      "name": "python3"
    },
    "language_info": {
      "codemirror_mode": {
        "name": "ipython",
        "version": 3
      },
      "file_extension": ".py",
      "mimetype": "text/x-python",
      "name": "python",
      "nbconvert_exporter": "python",
      "pygments_lexer": "ipython3",
      "version": "3.10.11"
    },
    "colab": {
      "provenance": []
    }
  },
  "nbformat": 4,
  "nbformat_minor": 0
}