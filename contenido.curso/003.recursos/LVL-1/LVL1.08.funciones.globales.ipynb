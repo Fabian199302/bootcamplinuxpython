{
  "cells": [
    {
      "cell_type": "markdown",
      "metadata": {
        "id": "TiebQshlQiGx"
      },
      "source": [
        "<p><img src=\"https://i.postimg.cc/cCjTSn8r/ss-cumf.png\" alt=\"\" width=\"1280\" height=\"300\" /></p>"
      ]
    },
    {
      "cell_type": "markdown",
      "metadata": {
        "id": "wyutNVH_Qj_B"
      },
      "source": [
        "# **FUNCIONES GLOBALES ELEMENTALES**\n",
        "\n",
        "Las funciones globales son funciones que están disponibles en todo el alcance de un programa sin la necesidad de importar módulos específicos. Son parte de las funciones incorporadas en el lenguaje de programación y se pueden utilizar en cualquier lugar del código sin tener que hacer ninguna importación adicional."
      ]
    },
    {
      "cell_type": "markdown",
      "metadata": {
        "id": "YaBAO_XxBglZ"
      },
      "source": [
        "# **PRINT**\n",
        "\n",
        "Imprime un mensaje en la consola."
      ]
    },
    {
      "cell_type": "code",
      "execution_count": 49,
      "metadata": {
        "colab": {
          "base_uri": "https://localhost:8080/"
        },
        "id": "z2nfm0TUCNGw",
        "outputId": "5b5fb66d-4979-4238-d934-c801a08d5d34"
      },
      "outputs": [
        {
          "name": "stdout",
          "output_type": "stream",
          "text": [
            "algo\n"
          ]
        }
      ],
      "source": [
        "print(\"algo\")"
      ]
    },
    {
      "cell_type": "markdown",
      "metadata": {
        "id": "aL5rbMY6CRMK"
      },
      "source": [
        "# **TYPE**\n",
        "\n",
        "Devuelve el tipo de un objeto."
      ]
    },
    {
      "cell_type": "code",
      "execution_count": 50,
      "metadata": {
        "colab": {
          "base_uri": "https://localhost:8080/"
        },
        "id": "VAVMgESJCVQn",
        "outputId": "03d60686-2658-494b-8829-10dc5d9da0ef"
      },
      "outputs": [
        {
          "data": {
            "text/plain": [
              "float"
            ]
          },
          "execution_count": 50,
          "metadata": {},
          "output_type": "execute_result"
        }
      ],
      "source": [
        "type(1.2)"
      ]
    },
    {
      "cell_type": "markdown",
      "metadata": {
        "id": "gNMxLWhyBgnu"
      },
      "source": [
        "# **INPUT**\n",
        "\n",
        "Lee una entrada del usuario desde la consola."
      ]
    },
    {
      "cell_type": "code",
      "execution_count": 51,
      "metadata": {
        "colab": {
          "base_uri": "https://localhost:8080/"
        },
        "id": "gB3HHtOtBz5i",
        "outputId": "8b168e14-78da-4487-ce45-718e72adec7d"
      },
      "outputs": [
        {
          "name": "stdout",
          "output_type": "stream",
          "text": [
            "\n"
          ]
        }
      ],
      "source": [
        "algo: str = input(\"ingrese un valor: \")\n",
        "print(algo)"
      ]
    },
    {
      "cell_type": "markdown",
      "metadata": {
        "id": "pfWPK1UaBgqT"
      },
      "source": [
        "# **ABS**\n",
        "\n",
        "Devuelve el valor absoluto de un número."
      ]
    },
    {
      "cell_type": "code",
      "execution_count": 52,
      "metadata": {
        "colab": {
          "base_uri": "https://localhost:8080/"
        },
        "id": "ocsqnsLnCZ59",
        "outputId": "12342bb1-a215-44b4-8688-9de21f3fdba6"
      },
      "outputs": [
        {
          "data": {
            "text/plain": [
              "5"
            ]
          },
          "execution_count": 52,
          "metadata": {},
          "output_type": "execute_result"
        }
      ],
      "source": [
        "abs(-5)"
      ]
    },
    {
      "cell_type": "markdown",
      "metadata": {
        "id": "LaWGQqaJBgjD"
      },
      "source": [
        "# **ROUND**\n",
        "\n",
        "\n"
      ]
    },
    {
      "cell_type": "code",
      "execution_count": 53,
      "metadata": {
        "colab": {
          "base_uri": "https://localhost:8080/"
        },
        "id": "5g52BbdtCju-",
        "outputId": "410e57ef-c032-458d-d6ed-1f1036bef392"
      },
      "outputs": [
        {
          "data": {
            "text/plain": [
              "3"
            ]
          },
          "execution_count": 53,
          "metadata": {},
          "output_type": "execute_result"
        }
      ],
      "source": [
        "# 1. Redondea un número al número entero más cercano\n",
        "round(3.14159)"
      ]
    },
    {
      "cell_type": "code",
      "execution_count": 54,
      "metadata": {
        "colab": {
          "base_uri": "https://localhost:8080/"
        },
        "id": "6LaP8gz-CreD",
        "outputId": "27093491-4a25-4d5b-e095-79484f66ad70"
      },
      "outputs": [
        {
          "data": {
            "text/plain": [
              "3.14"
            ]
          },
          "execution_count": 54,
          "metadata": {},
          "output_type": "execute_result"
        }
      ],
      "source": [
        "# 2. Indicar decimales\n",
        "round(3.14159, 2)"
      ]
    },
    {
      "cell_type": "markdown",
      "metadata": {
        "id": "V6Er4MJKBggb"
      },
      "source": [
        "# **LEN**\n",
        "\n",
        "Devuelve la longitud de una secuencia (iterable)."
      ]
    },
    {
      "cell_type": "code",
      "execution_count": 55,
      "metadata": {
        "colab": {
          "base_uri": "https://localhost:8080/"
        },
        "id": "CydzcD4kC7AM",
        "outputId": "7cd6d1d9-a680-4b5a-af24-827925e96f2d"
      },
      "outputs": [
        {
          "name": "stdout",
          "output_type": "stream",
          "text": [
            "3\n",
            "4\n"
          ]
        }
      ],
      "source": [
        "print(len([1, 2, 3]))\n",
        "print(len(\"abcd\"))"
      ]
    },
    {
      "cell_type": "markdown",
      "metadata": {
        "id": "83zluE3tBgeC"
      },
      "source": [
        "# **SUM**\n",
        "\n",
        "Calcula la suma de los elementos en una secuencia numérica."
      ]
    },
    {
      "cell_type": "code",
      "execution_count": 56,
      "metadata": {
        "colab": {
          "base_uri": "https://localhost:8080/"
        },
        "id": "jT-So8lMDGfv",
        "outputId": "d8cf88e1-8cbe-4a31-dc3e-2fd6cf8f9393"
      },
      "outputs": [
        {
          "data": {
            "text/plain": [
              "15"
            ]
          },
          "execution_count": 56,
          "metadata": {},
          "output_type": "execute_result"
        }
      ],
      "source": [
        "sum([1, 2, 3, 4, 5])"
      ]
    },
    {
      "cell_type": "markdown",
      "metadata": {
        "id": "5kReKNJSBgbl"
      },
      "source": [
        "# **MAX**\n",
        "\n",
        "\n",
        "Devuelve el valor máximo en una secuencia."
      ]
    },
    {
      "cell_type": "code",
      "execution_count": 57,
      "metadata": {
        "colab": {
          "base_uri": "https://localhost:8080/"
        },
        "id": "y-XlLTdxDRsc",
        "outputId": "e3b1cbc3-147b-443f-bb76-0c0e9c0a6d19"
      },
      "outputs": [
        {
          "data": {
            "text/plain": [
              "5"
            ]
          },
          "execution_count": 57,
          "metadata": {},
          "output_type": "execute_result"
        }
      ],
      "source": [
        "max([1, 2, 3, 4, 5])"
      ]
    },
    {
      "cell_type": "markdown",
      "metadata": {
        "id": "OAp0r_gXBgZN"
      },
      "source": [
        "# **MIN**\n",
        "\n",
        "Devuelve el valor mínimo en una secuencia."
      ]
    },
    {
      "cell_type": "code",
      "execution_count": 58,
      "metadata": {
        "colab": {
          "base_uri": "https://localhost:8080/"
        },
        "id": "fz4d01AiDUVH",
        "outputId": "143caec8-c571-4678-922c-b7a449d87c43"
      },
      "outputs": [
        {
          "data": {
            "text/plain": [
              "1"
            ]
          },
          "execution_count": 58,
          "metadata": {},
          "output_type": "execute_result"
        }
      ],
      "source": [
        "min([1, 2, 3, 4, 5])"
      ]
    },
    {
      "cell_type": "markdown",
      "metadata": {
        "id": "WgiglRaRBgWn"
      },
      "source": [
        "# **RANGE**\n",
        "\n",
        "Genera una secuencia de números en un rango.\n",
        "\n",
        "Nota: slice para acceder, range para generar con la lógica de slices\n",
        "\n",
        "\n",
        "\n",
        "```\n",
        "rango(inicial, final, salteo)\n",
        "```\n",
        "\n"
      ]
    },
    {
      "cell_type": "code",
      "execution_count": 59,
      "metadata": {
        "colab": {
          "base_uri": "https://localhost:8080/"
        },
        "id": "BaecA-dFDfVY",
        "outputId": "906692c5-90a3-4726-9966-60d0f184bfca"
      },
      "outputs": [
        {
          "name": "stdout",
          "output_type": "stream",
          "text": [
            "range(0, 5)\n",
            "[0, 1, 2, 3, 4]\n"
          ]
        }
      ],
      "source": [
        "# forma 1\n",
        "rango = range(5)\n",
        "print(rango)\n",
        "print(list(rango))"
      ]
    },
    {
      "cell_type": "code",
      "execution_count": 60,
      "metadata": {
        "colab": {
          "base_uri": "https://localhost:8080/"
        },
        "id": "Q_V4NjELD4N9",
        "outputId": "6c2ae3bd-5e4d-43de-8236-be5793416ada"
      },
      "outputs": [
        {
          "name": "stdout",
          "output_type": "stream",
          "text": [
            "[2, 3, 4]\n"
          ]
        }
      ],
      "source": [
        "# forma 2\n",
        "rango = range(2,5)\n",
        "print(list(rango))"
      ]
    },
    {
      "cell_type": "code",
      "execution_count": 61,
      "metadata": {
        "colab": {
          "base_uri": "https://localhost:8080/"
        },
        "id": "d5U3yEgVD74e",
        "outputId": "08027253-404a-4a74-eb05-dd2191cb8607"
      },
      "outputs": [
        {
          "name": "stdout",
          "output_type": "stream",
          "text": [
            "[0, 2, 4, 6, 8, 10]\n"
          ]
        }
      ],
      "source": [
        "# forma 3\n",
        "rango = range(0,11,2)\n",
        "print(list(rango))"
      ]
    },
    {
      "cell_type": "markdown",
      "metadata": {
        "id": "WztWM5nCBgUM"
      },
      "source": [
        "# **SORTED**\n",
        "\n",
        "Devuelve una lista ordenada de una secuencia."
      ]
    },
    {
      "cell_type": "code",
      "execution_count": 62,
      "metadata": {
        "colab": {
          "base_uri": "https://localhost:8080/"
        },
        "id": "qb1lNtQOEHw6",
        "outputId": "686787bf-dc34-4245-84bc-30753dc932d4"
      },
      "outputs": [
        {
          "data": {
            "text/plain": [
              "[1, 2, 3, 4, 5]"
            ]
          },
          "execution_count": 62,
          "metadata": {},
          "output_type": "execute_result"
        }
      ],
      "source": [
        "sorted([2, 1, 3, 5, 4])"
      ]
    },
    {
      "cell_type": "markdown",
      "metadata": {
        "id": "P-OAMHAJBgRp"
      },
      "source": [
        "# **CHR**\n",
        "\n",
        "Devuelve una cadena representando un caracter ASCII.\n",
        "\n",
        "\n",
        "El Código **ASCII** (*American Standard Code for Information Interchange*) es un sistema de codificación de caracteres utilizado para representar letras, números, símbolos y otros caracteres en formato digital. Cada caracter se asigna a un número único en el rango de 0 a 127. Esto permite que las computadoras y otros dispositivos de comunicación interpreten y representen estos caracteres de manera consistente.\n",
        "\n",
        "\n"
      ]
    },
    {
      "cell_type": "code",
      "execution_count": 63,
      "metadata": {
        "colab": {
          "base_uri": "https://localhost:8080/",
          "height": 35
        },
        "id": "20BCLUsiEyfR",
        "outputId": "6b46c5e5-9349-4a41-8e07-5a9966cf07bc"
      },
      "outputs": [
        {
          "data": {
            "text/plain": [
              "'@'"
            ]
          },
          "execution_count": 63,
          "metadata": {},
          "output_type": "execute_result"
        }
      ],
      "source": [
        "chr(64)"
      ]
    },
    {
      "cell_type": "code",
      "execution_count": 64,
      "metadata": {
        "colab": {
          "base_uri": "https://localhost:8080/",
          "height": 35
        },
        "id": "_GE9bO9s6XXr",
        "outputId": "33b400e5-8b4b-424d-da13-7daff40000b2"
      },
      "outputs": [
        {
          "data": {
            "text/plain": [
              "'p'"
            ]
          },
          "execution_count": 64,
          "metadata": {},
          "output_type": "execute_result"
        }
      ],
      "source": [
        "chr(112)"
      ]
    },
    {
      "cell_type": "markdown",
      "metadata": {
        "id": "HqVB5dnGBtts"
      },
      "source": [
        "# **ORD**\n",
        "\n",
        "Devuelve el valor ASCII de un caracter"
      ]
    },
    {
      "cell_type": "code",
      "execution_count": 65,
      "metadata": {
        "colab": {
          "base_uri": "https://localhost:8080/"
        },
        "id": "tbaFQNRwFKSt",
        "outputId": "cceed948-2ad0-46ff-ac20-482473b17ccf"
      },
      "outputs": [
        {
          "data": {
            "text/plain": [
              "64"
            ]
          },
          "execution_count": 65,
          "metadata": {},
          "output_type": "execute_result"
        }
      ],
      "source": [
        "ord(\"@\")"
      ]
    },
    {
      "cell_type": "code",
      "execution_count": 66,
      "metadata": {
        "colab": {
          "base_uri": "https://localhost:8080/"
        },
        "id": "Hpa6TQ9H6d1W",
        "outputId": "078566b3-aa84-4ae9-ad37-08b4a6b61c69"
      },
      "outputs": [
        {
          "data": {
            "text/plain": [
              "112"
            ]
          },
          "execution_count": 66,
          "metadata": {},
          "output_type": "execute_result"
        }
      ],
      "source": [
        "ord(\"p\")"
      ]
    },
    {
      "cell_type": "code",
      "execution_count": 67,
      "metadata": {
        "colab": {
          "base_uri": "https://localhost:8080/"
        },
        "id": "heTiRapc6fKV",
        "outputId": "254eabc0-ba43-4a74-847f-7746fb212aac"
      },
      "outputs": [
        {
          "data": {
            "text/plain": [
              "124"
            ]
          },
          "execution_count": 67,
          "metadata": {},
          "output_type": "execute_result"
        }
      ],
      "source": [
        "ord(\"|\")"
      ]
    },
    {
      "cell_type": "markdown",
      "metadata": {
        "id": "rYPTiyPsBttt"
      },
      "source": [
        "# **POW**\n",
        "\n",
        "Calcula la potencia de un número."
      ]
    },
    {
      "cell_type": "code",
      "execution_count": 68,
      "metadata": {
        "colab": {
          "base_uri": "https://localhost:8080/"
        },
        "id": "WpJtRAGCFWWm",
        "outputId": "afce5e59-23a1-4936-ec0f-ec03a0313d3d"
      },
      "outputs": [
        {
          "data": {
            "text/plain": [
              "4"
            ]
          },
          "execution_count": 68,
          "metadata": {},
          "output_type": "execute_result"
        }
      ],
      "source": [
        "pow(2, 2)"
      ]
    },
    {
      "cell_type": "code",
      "execution_count": 69,
      "metadata": {
        "colab": {
          "base_uri": "https://localhost:8080/"
        },
        "id": "N6ygQG4y6pdb",
        "outputId": "d188d5f2-61c3-4429-fd44-aad911954c18"
      },
      "outputs": [
        {
          "data": {
            "text/plain": [
              "25"
            ]
          },
          "execution_count": 69,
          "metadata": {},
          "output_type": "execute_result"
        }
      ],
      "source": [
        "pow(5, 2)"
      ]
    },
    {
      "cell_type": "markdown",
      "metadata": {
        "id": "33dY4PStBttt"
      },
      "source": [
        "# **ENUMERATE**\n",
        "\n",
        "Enumera elementos de una secuencia junto con sus índices."
      ]
    },
    {
      "cell_type": "code",
      "execution_count": 70,
      "metadata": {
        "colab": {
          "base_uri": "https://localhost:8080/"
        },
        "id": "0zkiih74FnTl",
        "outputId": "95e19c89-38e1-4ded-fa3d-e34744b0103e"
      },
      "outputs": [
        {
          "name": "stdout",
          "output_type": "stream",
          "text": [
            "<enumerate object at 0x000001DB778794C0>\n",
            "[(0, 2), (1, 1), (2, 3), (3, 5), (4, 4)]\n"
          ]
        }
      ],
      "source": [
        "lista = [2, 1, 3, 5, 4]\n",
        "lista_enumerados = enumerate(lista)\n",
        "print(lista_enumerados)\n",
        "print(list(lista_enumerados))"
      ]
    },
    {
      "cell_type": "code",
      "execution_count": 71,
      "metadata": {
        "colab": {
          "base_uri": "https://localhost:8080/"
        },
        "id": "DpeMrA3hF87g",
        "outputId": "f3112de9-cbe5-40d9-e5a4-ebffb8a8219d"
      },
      "outputs": [
        {
          "name": "stdout",
          "output_type": "stream",
          "text": [
            "<enumerate object at 0x000001DB78D213C0>\n",
            "[(1, 2), (2, 1), (3, 3), (4, 5), (5, 4)]\n"
          ]
        }
      ],
      "source": [
        "# Indicando el índice a iniciar\n",
        "lista_enumerados = enumerate(lista, 1)\n",
        "print(lista_enumerados)\n",
        "print(list(lista_enumerados))"
      ]
    },
    {
      "cell_type": "code",
      "execution_count": 72,
      "metadata": {
        "id": "vDfazOD-7JIq"
      },
      "outputs": [
        {
          "name": "stdout",
          "output_type": "stream",
          "text": [
            "<enumerate object at 0x000001DB78D22240>\n",
            "[(100, 2), (101, 1), (102, 3), (103, 5), (104, 4)]\n"
          ]
        }
      ],
      "source": [
        "# Indicando el índice a iniciar\n",
        "lista_enumerados = enumerate(lista, 100)\n",
        "print(lista_enumerados)\n",
        "print(list(lista_enumerados))"
      ]
    },
    {
      "cell_type": "code",
      "execution_count": 73,
      "metadata": {
        "colab": {
          "base_uri": "https://localhost:8080/"
        },
        "id": "IpUTDayD7PMJ",
        "outputId": "75ef6b8d-0684-4f59-c537-e64b205f6a37"
      },
      "outputs": [
        {
          "name": "stdout",
          "output_type": "stream",
          "text": [
            "<enumerate object at 0x000001DB78D325C0>\n",
            "[(100, 2), (101, 1), (102, 3), (103, 5), (104, 4)]\n"
          ]
        }
      ],
      "source": [
        "# Indicando el índice a iniciar\n",
        "lista_enumerados = enumerate(lista, 100)\n",
        "print(lista_enumerados)\n",
        "print(list(lista_enumerados))"
      ]
    },
    {
      "cell_type": "code",
      "execution_count": 74,
      "metadata": {
        "colab": {
          "base_uri": "https://localhost:8080/"
        },
        "id": "V3NcZkYS7RvK",
        "outputId": "a51181a3-3ace-4643-f075-854004800f49"
      },
      "outputs": [
        {
          "name": "stdout",
          "output_type": "stream",
          "text": [
            "<enumerate object at 0x000001DB78D210C0>\n",
            "[(1, 'a'), (2, 'b'), (3, 'c'), (4, 'd'), (5, 'e'), (6, 'f'), (7, 'g'), (8, 'h')]\n"
          ]
        }
      ],
      "source": [
        "# Indicando el índice a iniciar\n",
        "lista_enumerados = enumerate(\"abcdefgh\", 1)\n",
        "print(lista_enumerados)\n",
        "print(list(lista_enumerados))"
      ]
    },
    {
      "cell_type": "markdown",
      "metadata": {
        "id": "GM02vU0TBttt"
      },
      "source": [
        "# **HASH**\n",
        "\n",
        "Calcula el valor hash de un objeto (no mutable).\n",
        "\n",
        "\n",
        "\n",
        "permite:\n",
        "\n",
        "\n",
        "\n",
        "1.   cadenas\n",
        "2.   números\n",
        "3.   tuplas\n",
        "4.   booleanos\n",
        "5.   Nones\n",
        "\n"
      ]
    },
    {
      "cell_type": "code",
      "execution_count": 75,
      "metadata": {
        "colab": {
          "base_uri": "https://localhost:8080/"
        },
        "id": "WRomgXviGckU",
        "outputId": "ff947320-d8ad-4388-a3a6-285c2c20e444"
      },
      "outputs": [
        {
          "data": {
            "text/plain": [
              "-4091781671333963176"
            ]
          },
          "execution_count": 75,
          "metadata": {},
          "output_type": "execute_result"
        }
      ],
      "source": [
        "hash(\"a\")"
      ]
    },
    {
      "cell_type": "code",
      "execution_count": 76,
      "metadata": {
        "colab": {
          "base_uri": "https://localhost:8080/"
        },
        "id": "6T0R7cKB7jl4",
        "outputId": "b624885c-5d31-4468-d7d7-fc9a7f049047"
      },
      "outputs": [
        {
          "data": {
            "text/plain": [
              "-4091781671333963176"
            ]
          },
          "execution_count": 76,
          "metadata": {},
          "output_type": "execute_result"
        }
      ],
      "source": [
        "hash(\"a\")"
      ]
    },
    {
      "cell_type": "code",
      "execution_count": 77,
      "metadata": {
        "colab": {
          "base_uri": "https://localhost:8080/"
        },
        "id": "4a4I_LXBGjpn",
        "outputId": "600a6164-0f44-46e1-cd20-701522fedb36"
      },
      "outputs": [
        {
          "data": {
            "text/plain": [
              "529344067295497451"
            ]
          },
          "execution_count": 77,
          "metadata": {},
          "output_type": "execute_result"
        }
      ],
      "source": [
        "hash((1,2,3))"
      ]
    },
    {
      "cell_type": "markdown",
      "metadata": {
        "id": "xoCpDBJQBuML"
      },
      "source": [
        "# **ZIP**\n",
        "<p><img src=\"https://okdiario.com/img/2018/04/19/como-barajar-cartas-de-distintas-formas-655x368.jpg\" alt=\"\" width=\"500\" height=\"300\" /></p>\n",
        "\n",
        "Combina varias secuencias en una secuencia de tuplas\n",
        "\n",
        "condición, deben tener la misma cantidad de elementos"
      ]
    },
    {
      "cell_type": "code",
      "execution_count": 78,
      "metadata": {
        "colab": {
          "base_uri": "https://localhost:8080/"
        },
        "id": "dDvXB9gQHsel",
        "outputId": "2dec59bf-8636-4386-904b-08c7710244eb"
      },
      "outputs": [
        {
          "name": "stdout",
          "output_type": "stream",
          "text": [
            "<zip object at 0x000001DB78D3C100>\n",
            "[('Ana', 25), ('Juan', 30), ('María', 28)]\n"
          ]
        }
      ],
      "source": [
        "nombres = [\"Ana\", \"Juan\", \"María\", \"Luis\"]\n",
        "edades = [25, 30, 28]\n",
        "combinados = zip(nombres, edades)\n",
        "print(combinados)\n",
        "print(list(combinados))"
      ]
    },
    {
      "cell_type": "code",
      "execution_count": 79,
      "metadata": {
        "colab": {
          "base_uri": "https://localhost:8080/"
        },
        "id": "cK0wuTSUIFxC",
        "outputId": "a5705741-e805-4924-8dd8-f2759d0d98a1"
      },
      "outputs": [
        {
          "name": "stdout",
          "output_type": "stream",
          "text": [
            "[(25, 'a'), (30, 'b'), (28, 'c')]\n"
          ]
        }
      ],
      "source": [
        "combinados = zip(edades, \"abc\")\n",
        "print(list(combinados))"
      ]
    },
    {
      "cell_type": "code",
      "execution_count": 80,
      "metadata": {
        "colab": {
          "base_uri": "https://localhost:8080/"
        },
        "id": "YxPTg9j5ILbc",
        "outputId": "0bf08b38-2e15-460c-ddae-5554173f70a2"
      },
      "outputs": [
        {
          "data": {
            "text/plain": [
              "[(1000, (25, 'a')), (1001, (30, 'b')), (1002, (28, 'c'))]"
            ]
          },
          "execution_count": 80,
          "metadata": {},
          "output_type": "execute_result"
        }
      ],
      "source": [
        "# Llamar múltiples funciones en una misma línea, se ejecuta de adentro hacia afuera\n",
        "list(enumerate(zip(edades, \"abc\"), 1000))"
      ]
    },
    {
      "cell_type": "code",
      "execution_count": 81,
      "metadata": {
        "colab": {
          "base_uri": "https://localhost:8080/"
        },
        "id": "CvbyYhn_9gfk",
        "outputId": "477ce659-3789-46e5-e9cb-8fb8c6cd8627"
      },
      "outputs": [
        {
          "name": "stdout",
          "output_type": "stream",
          "text": [
            "{'a': 25, 'b': 30, 'c': 28}\n"
          ]
        }
      ],
      "source": [
        "# TRUCO\n",
        "combinados = zip(\"abc\", edades)\n",
        "diccionario = dict(combinados)\n",
        "print(diccionario)"
      ]
    },
    {
      "cell_type": "markdown",
      "metadata": {
        "id": "AIRcvZRHBuML"
      },
      "source": [
        "# **ANY**\n",
        "\n",
        "Devuelve `True` si al menos un elemento en una secuencia es `True`."
      ]
    },
    {
      "cell_type": "code",
      "execution_count": 82,
      "metadata": {
        "colab": {
          "base_uri": "https://localhost:8080/"
        },
        "id": "4sqpoS5tIhVv",
        "outputId": "b32886a4-e9a8-47da-da85-2ec00104bd98"
      },
      "outputs": [
        {
          "data": {
            "text/plain": [
              "True"
            ]
          },
          "execution_count": 82,
          "metadata": {},
          "output_type": "execute_result"
        }
      ],
      "source": [
        "any([False, True, False])"
      ]
    },
    {
      "cell_type": "markdown",
      "metadata": {
        "id": "6O7VsbSpBuML"
      },
      "source": [
        "# **ALL**\n",
        "\n",
        "Devuelve `True` si todos los elementos en una secuencia son `True`."
      ]
    },
    {
      "cell_type": "code",
      "execution_count": 83,
      "metadata": {
        "colab": {
          "base_uri": "https://localhost:8080/"
        },
        "id": "xv9Y6cqdIsZG",
        "outputId": "8844bec6-4569-4074-b09f-f7a29ab7b0eb"
      },
      "outputs": [
        {
          "data": {
            "text/plain": [
              "False"
            ]
          },
          "execution_count": 83,
          "metadata": {},
          "output_type": "execute_result"
        }
      ],
      "source": [
        "all([False, True, False])"
      ]
    },
    {
      "cell_type": "code",
      "execution_count": 84,
      "metadata": {
        "colab": {
          "base_uri": "https://localhost:8080/"
        },
        "id": "DLE8CBN09-LT",
        "outputId": "47283f75-e02b-471c-95b1-169934ba916e"
      },
      "outputs": [
        {
          "data": {
            "text/plain": [
              "True"
            ]
          },
          "execution_count": 84,
          "metadata": {},
          "output_type": "execute_result"
        }
      ],
      "source": [
        "all([True, True, True])"
      ]
    },
    {
      "cell_type": "markdown",
      "metadata": {
        "id": "24HPxn2WBuML"
      },
      "source": [
        "# **DIVIMOD**\n",
        "\n",
        "Devuelve la división entera y el residuo de dos números."
      ]
    },
    {
      "cell_type": "code",
      "execution_count": 85,
      "metadata": {
        "colab": {
          "base_uri": "https://localhost:8080/"
        },
        "id": "JYU_9wnCIyCo",
        "outputId": "a05b1b88-5dcd-4cf6-b77d-0c7589772653"
      },
      "outputs": [
        {
          "data": {
            "text/plain": [
              "(2, 1)"
            ]
          },
          "execution_count": 85,
          "metadata": {},
          "output_type": "execute_result"
        }
      ],
      "source": [
        "divmod(5, 2)"
      ]
    },
    {
      "cell_type": "code",
      "execution_count": 86,
      "metadata": {
        "colab": {
          "base_uri": "https://localhost:8080/"
        },
        "id": "L7E__XalI9YI",
        "outputId": "1ed4872b-d9b3-495f-92c6-a6daf381e476"
      },
      "outputs": [
        {
          "data": {
            "text/plain": [
              "False"
            ]
          },
          "execution_count": 86,
          "metadata": {},
          "output_type": "execute_result"
        }
      ],
      "source": [
        "5 % 2 == 0"
      ]
    },
    {
      "cell_type": "markdown",
      "metadata": {
        "id": "_PkOsTC7BueM"
      },
      "source": [
        "# **REVERSED**\n",
        "\n",
        "Devuelve una reversión de una secuencia."
      ]
    },
    {
      "cell_type": "code",
      "execution_count": 87,
      "metadata": {
        "colab": {
          "base_uri": "https://localhost:8080/"
        },
        "id": "vNo0qVWUJH0Q",
        "outputId": "6fae6952-2b69-47e1-cf38-8e51d3bbe4c3"
      },
      "outputs": [
        {
          "name": "stdout",
          "output_type": "stream",
          "text": [
            "[4, 3, 2, 1]\n"
          ]
        }
      ],
      "source": [
        "reversed([1, 2, 3, 4])\n",
        "print(list(reversed([1, 2, 3, 4])))"
      ]
    },
    {
      "cell_type": "code",
      "execution_count": 88,
      "metadata": {
        "colab": {
          "base_uri": "https://localhost:8080/"
        },
        "id": "Spx4NFb3JZLJ",
        "outputId": "2c2eeb1c-a062-46b6-e758-b0568198b224"
      },
      "outputs": [
        {
          "data": {
            "text/plain": [
              "[4, 3, 2, 1]"
            ]
          },
          "execution_count": 88,
          "metadata": {},
          "output_type": "execute_result"
        }
      ],
      "source": [
        "[1, 2, 3, 4][::-1]"
      ]
    }
  ],
  "metadata": {
    "colab": {
      "provenance": []
    },
    "kernelspec": {
      "display_name": "Python 3",
      "name": "python3"
    },
    "language_info": {
      "codemirror_mode": {
        "name": "ipython",
        "version": 3
      },
      "file_extension": ".py",
      "mimetype": "text/x-python",
      "name": "python",
      "nbconvert_exporter": "python",
      "pygments_lexer": "ipython3",
      "version": "3.10.7"
    }
  },
  "nbformat": 4,
  "nbformat_minor": 0
}
