{
  "cells": [
    {
      "cell_type": "markdown",
      "metadata": {
        "id": "d-e-x-GRK9Ej"
      },
      "source": [
        "<p><img src=\"https://i.postimg.cc/cCjTSn8r/ss-cumf.png\" alt=\"\" width=\"1280\" height=\"300\" /></p>"
      ]
    },
    {
      "cell_type": "markdown",
      "metadata": {
        "id": "tUCMh_-8KuNY"
      },
      "source": [
        "# **SETS**\n",
        "\n",
        "El tipo set en Python es la clase utilizada por el lenguaje para representar los conjuntos.\n",
        "\n",
        "<img src=\"https://i0.wp.com/casadamatematica.com.br/wp-content/uploads/2018/02/Entendendo-os-conjuntos-e-sua-linguagem-b%C3%A1sica.png?w=2000&ssl=1\"\n",
        "     width=\"300\"\n",
        "     height=\"200\"  class=\"center\"/>\n",
        "\n",
        "\n",
        "\n",
        "1.   **Es una colección desordenada de elementos únicos, es decir, que no se repiten**\n",
        "2.   Son mutables\n",
        "3.   No son ni listas ni tuplas, ni diccionarios\n",
        "4.   No soportan acceso por indexación o por slices\n",
        "\n",
        "\n",
        "Los siguientes datos son soportados:\n",
        "\n",
        "1.   cadenas\n",
        "2.   números\n",
        "3.   tuplas\n",
        "4.   booleanos\n",
        "5.   Nones\n",
        "\n",
        "\n",
        "\n",
        "```\n",
        "valores dentro de: {}\n",
        "```\n",
        "\n",
        "\n"
      ]
    },
    {
      "cell_type": "markdown",
      "metadata": {
        "id": "lfNo-sEwNan1"
      },
      "source": [
        "## **CONSIDERACIONES**"
      ]
    },
    {
      "cell_type": "code",
      "execution_count": 62,
      "metadata": {
        "colab": {
          "base_uri": "https://localhost:8080/"
        },
        "id": "9xUeAj0esQGB",
        "outputId": "e05a54a5-3b15-4217-842b-3203a57a7a8e"
      },
      "outputs": [
        {
          "data": {
            "text/plain": [
              "dict"
            ]
          },
          "execution_count": 62,
          "metadata": {},
          "output_type": "execute_result"
        }
      ],
      "source": [
        "diccionario: dict = {\"llave\": None}\n",
        "type(diccionario)"
      ]
    },
    {
      "cell_type": "code",
      "execution_count": 63,
      "metadata": {
        "colab": {
          "base_uri": "https://localhost:8080/"
        },
        "id": "qcwV0XgKsgdy",
        "outputId": "0ae8eb88-3caf-4258-a642-fe9f2a6aaaeb"
      },
      "outputs": [
        {
          "data": {
            "text/plain": [
              "dict"
            ]
          },
          "execution_count": 63,
          "metadata": {},
          "output_type": "execute_result"
        }
      ],
      "source": [
        "mi_primer_set: set = {}\n",
        "type(mi_primer_set)"
      ]
    },
    {
      "cell_type": "code",
      "execution_count": 64,
      "metadata": {
        "colab": {
          "base_uri": "https://localhost:8080/"
        },
        "id": "ldw-pqfssvXg",
        "outputId": "b5a5a82e-0d53-4fab-ad0f-50b66153cc0f"
      },
      "outputs": [
        {
          "name": "stdout",
          "output_type": "stream",
          "text": [
            "<class 'set'> set()\n"
          ]
        }
      ],
      "source": [
        "set_real:set = set()\n",
        "print(type(set_real), set_real)"
      ]
    },
    {
      "cell_type": "code",
      "execution_count": 65,
      "metadata": {
        "colab": {
          "base_uri": "https://localhost:8080/"
        },
        "id": "BzRg6P_os-rr",
        "outputId": "bb49968c-524f-4a7f-c6ab-4ffdeaf1b2f2"
      },
      "outputs": [
        {
          "name": "stdout",
          "output_type": "stream",
          "text": [
            "{1, 2, 3}\n"
          ]
        }
      ],
      "source": [
        "valor:set = {1,2,3,1}\n",
        "print(valor)"
      ]
    },
    {
      "cell_type": "code",
      "execution_count": 66,
      "metadata": {
        "colab": {
          "base_uri": "https://localhost:8080/"
        },
        "id": "QFnLwWDUtQik",
        "outputId": "6957867b-e000-4cb0-d2d6-5492209fcf0b"
      },
      "outputs": [
        {
          "data": {
            "text/plain": [
              "{1, 2, 3}"
            ]
          },
          "execution_count": 66,
          "metadata": {},
          "output_type": "execute_result"
        }
      ],
      "source": [
        "set([1,2,3])"
      ]
    },
    {
      "cell_type": "code",
      "execution_count": 67,
      "metadata": {
        "colab": {
          "base_uri": "https://localhost:8080/"
        },
        "id": "SpP7-94stT9X",
        "outputId": "320e746b-b0fb-494b-e95a-2e9069f6738e"
      },
      "outputs": [
        {
          "data": {
            "text/plain": [
              "{1, 2, 3}"
            ]
          },
          "execution_count": 67,
          "metadata": {},
          "output_type": "execute_result"
        }
      ],
      "source": [
        "set((1,2,3))"
      ]
    },
    {
      "cell_type": "code",
      "execution_count": 68,
      "metadata": {
        "colab": {
          "base_uri": "https://localhost:8080/"
        },
        "id": "u-lHYqs6tXCV",
        "outputId": "0fa98e3c-1dfb-4c61-bc9b-5932bec10f39"
      },
      "outputs": [
        {
          "data": {
            "text/plain": [
              "{' ', 'a', 'b', 'c', 'd', 'e'}"
            ]
          },
          "execution_count": 68,
          "metadata": {},
          "output_type": "execute_result"
        }
      ],
      "source": [
        "set(\"abcde  a a a\")"
      ]
    },
    {
      "cell_type": "markdown",
      "metadata": {
        "id": "HT_-hgRAN3NY"
      },
      "source": [
        "## **OPERACIONES GENERALES**"
      ]
    },
    {
      "cell_type": "code",
      "execution_count": 69,
      "metadata": {
        "colab": {
          "base_uri": "https://localhost:8080/"
        },
        "id": "7W-1G8m0Cp07",
        "outputId": "e8e2d0bc-fedb-45b6-df8e-062adab67895"
      },
      "outputs": [
        {
          "name": "stdout",
          "output_type": "stream",
          "text": [
            "Numéricos -> tipo de dato : <class 'set'>, valor : {1, 2, 3}\n",
            "Texto     -> tipo de dato : <class 'set'>, valor : {'c', 'b', 'a'}\n",
            "Mixto     -> tipo de dato : <class 'set'>, valor : {1, 3.15, 'a'}\n"
          ]
        }
      ],
      "source": [
        "# Permite tener conjuntos de un solo tipo o mixtos\n",
        "set_numericos = {1,2,3}\n",
        "set_letras ={\"a\",\"b\",\"c\"}\n",
        "set_mixto = {\"a\",1,3.15}\n",
        "\n",
        "print(\"Numéricos -> tipo de dato : {}, valor : {}\".format(type(set_numericos),set_numericos))\n",
        "print(\"Texto     -> tipo de dato : {}, valor : {}\".format(type(set_letras),set_letras))\n",
        "print(\"Mixto     -> tipo de dato : {}, valor : {}\".format(type(set_mixto),set_mixto))"
      ]
    },
    {
      "cell_type": "markdown",
      "metadata": {
        "id": "WaHplNPwuY3E"
      },
      "source": [
        "### **APPEND**"
      ]
    },
    {
      "cell_type": "code",
      "execution_count": 70,
      "metadata": {
        "colab": {
          "base_uri": "https://localhost:8080/"
        },
        "id": "T9IAnJD6uf-x",
        "outputId": "dcb5e430-5ba8-422c-b8c1-cfa6f0bd56c1"
      },
      "outputs": [
        {
          "name": "stdout",
          "output_type": "stream",
          "text": [
            "{1, 2}\n",
            "{1, 2, 3}\n"
          ]
        }
      ],
      "source": [
        "elementos: str = {1,2}\n",
        "print(elementos)\n",
        "elementos.add(3) # similar al append en listas\n",
        "print(elementos)"
      ]
    },
    {
      "cell_type": "markdown",
      "metadata": {
        "id": "bQWoFfBfuY0N"
      },
      "source": [
        "### **UPDATE**"
      ]
    },
    {
      "cell_type": "code",
      "execution_count": 71,
      "metadata": {
        "colab": {
          "base_uri": "https://localhost:8080/"
        },
        "id": "x_GwJvtvu0HH",
        "outputId": "6f67b2a4-63c0-474e-de66-e395649e31bd"
      },
      "outputs": [
        {
          "name": "stdout",
          "output_type": "stream",
          "text": [
            "{1, 2, 3}\n",
            "{1, 2, (1, 2), 3, 'b'}\n"
          ]
        }
      ],
      "source": [
        "print(elementos)\n",
        "elementos.update([1,2,3,\"b\", (1,2)])\n",
        "print(elementos)"
      ]
    },
    {
      "cell_type": "code",
      "execution_count": 72,
      "metadata": {
        "id": "eS3SuzOrvAa4"
      },
      "outputs": [],
      "source": [
        "elementos.update(\"abcd\")"
      ]
    },
    {
      "cell_type": "code",
      "execution_count": 73,
      "metadata": {
        "colab": {
          "base_uri": "https://localhost:8080/"
        },
        "id": "u-48m4zuvDrX",
        "outputId": "2febb5f5-f1b6-4bba-bfc9-59104aea6806"
      },
      "outputs": [
        {
          "name": "stdout",
          "output_type": "stream",
          "text": [
            "{1, 2, (1, 2), 3, 'c', 'b', 'a', 'd'}\n"
          ]
        }
      ],
      "source": [
        "print(elementos)"
      ]
    },
    {
      "cell_type": "code",
      "execution_count": 74,
      "metadata": {
        "colab": {
          "base_uri": "https://localhost:8080/"
        },
        "id": "v4GY2SMiw186",
        "outputId": "2ebc07f5-8d3a-403f-fd65-d56f5ed0617a"
      },
      "outputs": [
        {
          "name": "stdout",
          "output_type": "stream",
          "text": [
            "{1, 2, 3, 4, 5, 6}\n"
          ]
        }
      ],
      "source": [
        "# Responder\n",
        "\n",
        "demo = {1,2,3}\n",
        "demo.update({4,5,6,6})\n",
        "print(demo)"
      ]
    },
    {
      "cell_type": "markdown",
      "metadata": {
        "id": "MKfX-WkFuYxr"
      },
      "source": [
        "### **DISCARD**"
      ]
    },
    {
      "cell_type": "code",
      "execution_count": 75,
      "metadata": {
        "colab": {
          "base_uri": "https://localhost:8080/"
        },
        "id": "RnrlhGZjvNyR",
        "outputId": "74f06ab5-e8f1-4f25-84b9-d4b6258ace0d"
      },
      "outputs": [
        {
          "name": "stdout",
          "output_type": "stream",
          "text": [
            "{1, 2, (1, 2), 3, 'c', 'b', 'a', 'd'}\n",
            "{2, (1, 2), 3, 'c', 'b', 'a', 'd'}\n"
          ]
        }
      ],
      "source": [
        "print(elementos)\n",
        "elementos.discard(1)\n",
        "print(elementos)"
      ]
    },
    {
      "cell_type": "code",
      "execution_count": 76,
      "metadata": {
        "id": "M2ugnuDPvYtQ"
      },
      "outputs": [],
      "source": [
        "elemntos.discard(100) # si no existe el valor no genera error"
      ]
    },
    {
      "cell_type": "markdown",
      "metadata": {
        "id": "M4jUy27nvmb0"
      },
      "source": [
        "### **REMOVE**\n"
      ]
    },
    {
      "cell_type": "code",
      "execution_count": 77,
      "metadata": {
        "colab": {
          "base_uri": "https://localhost:8080/"
        },
        "id": "HHx52DTUvi8c",
        "outputId": "f594a56c-5b5a-4dac-e5de-52759b4808bb"
      },
      "outputs": [
        {
          "name": "stdout",
          "output_type": "stream",
          "text": [
            "{2, (1, 2), 3, 'c', 'b', 'a', 'd'}\n",
            "{(1, 2), 3, 'c', 'b', 'a', 'd'}\n"
          ]
        }
      ],
      "source": [
        "print(elementos)\n",
        "elementos.remove(2)\n",
        "print(elementos)"
      ]
    },
    {
      "cell_type": "code",
      "execution_count": 78,
      "metadata": {
        "colab": {
          "base_uri": "https://localhost:8080/",
          "height": 178
        },
        "id": "J-8ReQK6vxkD",
        "outputId": "0f1e0cdf-7019-427c-bc78-1a78d481a89f"
      },
      "outputs": [
        {
          "ename": "KeyError",
          "evalue": "100",
          "output_type": "error",
          "traceback": [
            "\u001b[1;31m---------------------------------------------------------------------------\u001b[0m",
            "\u001b[1;31mKeyError\u001b[0m                                  Traceback (most recent call last)",
            "Cell \u001b[1;32mIn[78], line 1\u001b[0m\n\u001b[1;32m----> 1\u001b[0m elementos\u001b[39m.\u001b[39;49mremove(\u001b[39m100\u001b[39;49m)\n",
            "\u001b[1;31mKeyError\u001b[0m: 100"
          ]
        }
      ],
      "source": [
        "elementos.remove(100)"
      ]
    },
    {
      "cell_type": "markdown",
      "metadata": {
        "id": "7v6YFwj8uYvQ"
      },
      "source": [
        "### **POP**"
      ]
    },
    {
      "cell_type": "code",
      "execution_count": null,
      "metadata": {
        "colab": {
          "base_uri": "https://localhost:8080/"
        },
        "id": "tXdk3Sy_wOzZ",
        "outputId": "dcd894fa-a29d-479f-f33d-3a60b5afcf22"
      },
      "outputs": [
        {
          "name": "stdout",
          "output_type": "stream",
          "text": [
            "{(1, 2), 3, 'c', 'b', 'a', 'd'}\n",
            "{3, 'c', 'b', 'a', 'd'}\n"
          ]
        }
      ],
      "source": [
        "print(elementos)\n",
        "elementos.pop()\n",
        "print(elementos)"
      ]
    },
    {
      "cell_type": "code",
      "execution_count": null,
      "metadata": {
        "colab": {
          "base_uri": "https://localhost:8080/",
          "height": 231
        },
        "id": "gg1mZ2I4way8",
        "outputId": "49529eac-bd70-4703-97cd-2d4f353034a8"
      },
      "outputs": [
        {
          "name": "stdout",
          "output_type": "stream",
          "text": [
            "{3, 'c', 'b', 'a', 'd'}\n"
          ]
        },
        {
          "ename": "TypeError",
          "evalue": "set.pop() takes no arguments (1 given)",
          "output_type": "error",
          "traceback": [
            "\u001b[1;31m---------------------------------------------------------------------------\u001b[0m",
            "\u001b[1;31mTypeError\u001b[0m                                 Traceback (most recent call last)",
            "Cell \u001b[1;32mIn[50], line 2\u001b[0m\n\u001b[0;32m      1\u001b[0m \u001b[39mprint\u001b[39m(elementos)\n\u001b[1;32m----> 2\u001b[0m elementos\u001b[39m.\u001b[39;49mpop(\u001b[39m12\u001b[39;49m)\n\u001b[0;32m      3\u001b[0m \u001b[39mprint\u001b[39m(elementos)\n",
            "\u001b[1;31mTypeError\u001b[0m: set.pop() takes no arguments (1 given)"
          ]
        }
      ],
      "source": [
        "print(elementos)\n",
        "elementos.pop(12)\n",
        "print(elementos)"
      ]
    },
    {
      "cell_type": "markdown",
      "metadata": {
        "id": "IoeLrYnCYunz"
      },
      "source": [
        "## **OPERACIONES BÁSICAS DE CONJUNTOS**\n",
        "\n",
        "Estas operaciones, se pueden trabajar:\n",
        "\n",
        "1.   por operador\n",
        "2.   por función\n",
        "\n",
        "\n",
        "Nota: No es inplace, el valor resultante se debe almacenar en una variable, en caso de que la quiera persistir"
      ]
    },
    {
      "cell_type": "markdown",
      "metadata": {
        "id": "Y1F2V5GMLJVV"
      },
      "source": [
        "### **UNIÓN**\n",
        "\n",
        "Realiza una operación de unión entre dos conjuntos\n",
        "\n",
        "`| or set.union`\n",
        "\n",
        "![text](https://cdn.programiz.com/sites/tutorial2program/files/set-union.jpg)\n",
        "\n"
      ]
    },
    {
      "cell_type": "code",
      "execution_count": null,
      "metadata": {
        "colab": {
          "base_uri": "https://localhost:8080/"
        },
        "id": "OkAe0FpsY1Ax",
        "outputId": "a613be5b-9acb-4afe-a7fe-91659b13e4e5"
      },
      "outputs": [
        {
          "name": "stdout",
          "output_type": "stream",
          "text": [
            "1. forma con operador -->  {1, 2, 3, 4, 5, 6, 7, 8, 9}\n",
            "2. forma con función  -->  {1, 2, 3, 4, 5, 6, 7, 8, 9}\n",
            "3. forma con función  -->  {1, 2, 3, 4, 5, 6, 7, 8, 9}\n"
          ]
        }
      ],
      "source": [
        "set_a = {1,2,3,4,5,6}\n",
        "set_b = {4,5,6,7,8,9}\n",
        "\n",
        "print(\"1. forma con operador --> \", set_a | set_b)\n",
        "print(\"2. forma con función  --> \", set_a.union(set_b))\n",
        "print(\"3. forma con función  --> \", set_b.union(set_a))"
      ]
    },
    {
      "cell_type": "code",
      "execution_count": null,
      "metadata": {
        "colab": {
          "base_uri": "https://localhost:8080/"
        },
        "id": "POcIbfDzewq-",
        "outputId": "22577351-e33e-4b00-be29-9d314f594fc1"
      },
      "outputs": [
        {
          "name": "stdout",
          "output_type": "stream",
          "text": [
            "1. forma con operador -->  {1, 2, 3, 4, 5, 6, 7, 8, 9, 10, 11}\n",
            "2. forma con función  -->  {1, 2, 3, 4, 5, 6, 7, 8, 9, 10, 11}\n",
            "3. forma con función  -->  {1, 2, 3, 4, 5, 6, 7, 8, 9, 10, 11}\n"
          ]
        }
      ],
      "source": [
        "set_a = {1,2,3,4,5,6}\n",
        "set_b = {4,5,6,7,8,9}\n",
        "set_c = {8,9,10,11}\n",
        "\n",
        "print(\"1. forma con operador --> \", set_a | set_b | set_c )\n",
        "print(\"2. forma con función  --> \", set_a.union(set_b).union(set_c))\n",
        "print(\"3. forma con función  --> \", set_b.union(set_a).union(set_c))"
      ]
    },
    {
      "cell_type": "markdown",
      "metadata": {
        "id": "4HrFik7FLJcS"
      },
      "source": [
        "### **INTERSECCIÓN**\n",
        "\n",
        "Realizar una operación de intersección entre dos conjuntos\n",
        "\n",
        "` & or set.intersection`\n",
        "\n",
        "![alt text](https://cdn.programiz.com/sites/tutorial2program/files/set-intersection.jpg)\n"
      ]
    },
    {
      "cell_type": "code",
      "execution_count": null,
      "metadata": {
        "colab": {
          "base_uri": "https://localhost:8080/"
        },
        "id": "WyCEGC_XZvlV",
        "outputId": "382c630c-c14b-4d84-c836-7eade90f3854"
      },
      "outputs": [
        {
          "name": "stdout",
          "output_type": "stream",
          "text": [
            "1. forma con operador -->  {4, 5}\n",
            "2. forma con función  -->  {4, 5}\n",
            "3. forma con función  -->  {4, 5}\n"
          ]
        }
      ],
      "source": [
        "set_a = {1,2,3,4,5}\n",
        "set_b = {4,5,6,7,8,9}\n",
        "print(\"1. forma con operador --> \", set_a & set_b)\n",
        "print(\"2. forma con función  --> \", set_a.intersection(set_b))\n",
        "print(\"3. forma con función  --> \", set_b.intersection(set_a))"
      ]
    },
    {
      "cell_type": "markdown",
      "metadata": {
        "id": "EFVkRkfTLJi0"
      },
      "source": [
        "### **DIFERENCIA**\n",
        "\n",
        "Realiza una operación de diferencia entre dos conjuntos\n",
        "\n",
        "\n",
        "\n",
        " `- or set.difference`\n",
        "\n",
        " Detalle:\n",
        "  `- or set.difference` te da un conjunto nuevo que contiene solo los elementos del primer conjunto que no están en el segundo conjunto. En otras palabras, te muestra cuáles elementos son exclusivos del primer conjunto y no están en el segundo conjunto.\n",
        "\n",
        "![alt text](https://cdn.programiz.com/sites/tutorial2program/files/set-difference.jpg)"
      ]
    },
    {
      "cell_type": "code",
      "execution_count": null,
      "metadata": {
        "colab": {
          "base_uri": "https://localhost:8080/"
        },
        "id": "G-qBZUbDaRhc",
        "outputId": "5eb7f070-0a9c-4f2e-fae8-367da2f0efdd"
      },
      "outputs": [
        {
          "name": "stdout",
          "output_type": "stream",
          "text": [
            "1. forma con operador -->  {1, 2, 3}\n",
            "2. forma con función  -->  {1, 2, 3}\n",
            "3. forma con función  -->  {8, 9, 6, 7}\n"
          ]
        }
      ],
      "source": [
        "# se marca el orden en la medida\n",
        "set_a = {1,2,3,4,5}\n",
        "set_b = {4,5,6,7,8,9}\n",
        "print(\"1. forma con operador --> \", set_a - set_b)\n",
        "print(\"2. forma con función  --> \", set_a.difference(set_b))\n",
        "print(\"3. forma con función  --> \", set_b.difference(set_a))"
      ]
    },
    {
      "cell_type": "markdown",
      "metadata": {
        "id": "GxDzvb1kLJmi"
      },
      "source": [
        "### **DIFERENCIA SIMÉTRICA**\n",
        "\n",
        "Realiza una operación con todos los elementos que son exclusivos de cada uno de los dos conjuntos originales, es decir, aquellos elementos que están en uno de los conjuntos pero no en ambos.\n",
        "\n",
        "`^ or set.symmetric_difference`\n",
        "\n",
        "![alt text](https://cdn.programiz.com/sites/tutorial2program/files/set-symmetric-difference.jpg)\n",
        "\n"
      ]
    },
    {
      "cell_type": "code",
      "execution_count": null,
      "metadata": {
        "colab": {
          "base_uri": "https://localhost:8080/"
        },
        "id": "rloDfMaSCptN",
        "outputId": "f4f4ae9f-a50a-4227-f5b0-6b2ce21376aa"
      },
      "outputs": [
        {
          "name": "stdout",
          "output_type": "stream",
          "text": [
            "1. forma con operador -->  {1, 2, 3, 6, 7, 8, 9}\n",
            "2. forma con función  -->  {1, 2, 3, 6, 7, 8, 9}\n",
            "3. forma con función  -->  {1, 2, 3, 6, 7, 8, 9}\n"
          ]
        }
      ],
      "source": [
        "# Se marca el orden en la medida\n",
        "set_a = {1,2,3,4,5}\n",
        "set_b = {4,5,6,7,8,9}\n",
        "print(\"1. forma con operador --> \", set_a ^ set_b)\n",
        "print(\"2. forma con función  --> \", set_a.symmetric_difference(set_b))\n",
        "print(\"3. forma con función  --> \", set_b.symmetric_difference(set_a))"
      ]
    },
    {
      "cell_type": "code",
      "execution_count": null,
      "metadata": {
        "id": "s2p8s2zR0ppN"
      },
      "outputs": [],
      "source": [
        "\"\"\"\n",
        "  Problemas:\n",
        "    1. la base de datos tiene usuarios repetidos\n",
        "    2. el usuario, realizó mal un sql y el sql está duplicando la información\n",
        "\"\"\"\n",
        "# Respuesta de negocio: cuántos usuarios registrados tenemos\n",
        "datos: tuple = (\"123\", \"456\", \"123\", \"789\", \"111\", \"123\") # SQL acceder a las bases de datos"
      ]
    },
    {
      "cell_type": "code",
      "execution_count": null,
      "metadata": {
        "colab": {
          "base_uri": "https://localhost:8080/"
        },
        "id": "SZmIp6lf1dKX",
        "outputId": "e117ebfb-9010-44e4-f585-382b666b233d"
      },
      "outputs": [
        {
          "name": "stdout",
          "output_type": "stream",
          "text": [
            "Usuarios activos:  6\n"
          ]
        }
      ],
      "source": [
        "print(\"Usuarios activos: \", len(datos))"
      ]
    },
    {
      "cell_type": "code",
      "execution_count": null,
      "metadata": {
        "colab": {
          "base_uri": "https://localhost:8080/"
        },
        "id": "jyQzbEFF1z6B",
        "outputId": "1864dae9-5eb4-4d43-c35d-03e98e28dfa2"
      },
      "outputs": [
        {
          "name": "stdout",
          "output_type": "stream",
          "text": [
            "Usuarios activos:  4\n"
          ]
        }
      ],
      "source": [
        "# Programación ordinaria | spoiler\n",
        "unicos: list = []\n",
        "\n",
        "for usuario in datos:\n",
        "  if usuario in unicos:\n",
        "    continue\n",
        "  else:\n",
        "    unicos.append(usuario)\n",
        "\n",
        "print(\"Usuarios activos: \", len(unicos))"
      ]
    },
    {
      "cell_type": "code",
      "execution_count": null,
      "metadata": {
        "colab": {
          "base_uri": "https://localhost:8080/"
        },
        "id": "MJG5VqiF2dr_",
        "outputId": "320df980-0f4d-4efb-9d7b-568170190b71"
      },
      "outputs": [
        {
          "name": "stdout",
          "output_type": "stream",
          "text": [
            "Usuarios activos:  4\n"
          ]
        }
      ],
      "source": [
        "# optimizada\n",
        "unicos = tuple(set(datos))\n",
        "print(\"Usuarios activos: \", len(unicos))"
      ]
    },
    {
      "cell_type": "code",
      "execution_count": null,
      "metadata": {
        "id": "ny3sxRvQCpfb"
      },
      "outputs": [
        {
          "data": {
            "text/plain": [
              "'\\n1. Se tienen los siguientes elementos: 1 2 3 4 5 6 7 8 8 8 8 8\\nA partir de estos valores se deben crear 3 conjuntos de las siguientes formas:\\n\\n\\n  A . Por constructor\\n  B . Por referencia\\n  C . Por adición independiente\\n  D . Imprimir los valores y el tipo\\n\\n2. Se tiene el siguiente texto multilínea:\\n\\n\\n  Hola, estamos en el curso de Python de Cedesistemas\\n  el cual inicia desde el Nivel 1, espero que lo\\n  estés disfrutandO\\n\\n\\n  Se requiere:\\n\\n\\n  A. tener un conjunto de datos de las letras únicas en minúscula\\n  B. el conjunto no debe tener espacios o caracteres de escape\\n\\n\\n3. se tienen los siguientes elementos 1 2 3 4 5 6 7 8 8 8 8 8 , se debe realizar\\nlo siguiente:\\n\\n\\n  A. Crear una lista de estos valores\\n  B. Crear una lista nueva quitando los repetidos\\n  C. Imprimir la lista nueva y el tipo de dato\\n\\n\\n4. Se tienen las siguientes listas:\\n\\n\\n  A = [8, 9, 10, 20, 90, 80, 100]\\n  B = [69, 73, 20, 80, 100]\\n  C = [3, 4, 15, 20, 30, 70, 80, 120]\\n\\n\\n  Encontrar elementos comunes en tres\\n  Resultado = [80, 20]\\n\\n\\n5. Se tienen las siguientes listas de participantes que asistirán a determinados eventos:\\n  evento # 1 : \"Jake\", \"JohN\", \"Eric\"\\n  evento # 2 : \"jOhn\", \"Jill\"\\n\\n\\n  Se requiere identificar lo siguiente:\\n\\n\\n  A. Mostrar los usuarios que asistirán a los dos eventos\\n  B. Mostrar los usuarios que asistirán a un solo evento\\n  C. Mostrar los usuarios que asistirán a un evento y no al otro\\n  D. Mostrar todos los usuarios que asistirán al menos a un evento\\n\\n\\n  Notas:\\n    1. Se debe mostrar el tipo de dato y resultado,\\n    2. Los datos deben partir de la normalización, todo dinámicamente\\n\\n\\n6. [Opcional] Hacer el ejemplo de los accesos a red corporativa y red invitados\\n   Notas:\\n    1. Si se hace se regala bonus\\n    2. Los datos los proponen ustedes\\n\\n'"
            ]
          },
          "execution_count": 61,
          "metadata": {},
          "output_type": "execute_result"
        }
      ],
      "source": [
        "\"\"\"\n",
        "1. Se tienen los siguientes elementos: 1 2 3 4 5 6 7 8 8 8 8 8\n",
        "A partir de estos valores se deben crear 3 conjuntos de las siguientes formas:\n",
        "\n",
        "\n",
        "  A . Por constructor\n",
        "  B . Por referencia\n",
        "  C . Por adición independiente\n",
        "  D . Imprimir los valores y el tipo\n",
        "\n",
        "2. Se tiene el siguiente texto multilínea:\n",
        "\n",
        "\n",
        "  Hola, estamos en el curso de Python de Cedesistemas\n",
        "  el cual inicia desde el Nivel 1, espero que lo\n",
        "  estés disfrutandO\n",
        "\n",
        "\n",
        "  Se requiere:\n",
        "\n",
        "\n",
        "  A. tener un conjunto de datos de las letras únicas en minúscula\n",
        "  B. el conjunto no debe tener espacios o caracteres de escape\n",
        "\n",
        "\n",
        "3. se tienen los siguientes elementos 1 2 3 4 5 6 7 8 8 8 8 8 , se debe realizar\n",
        "lo siguiente:\n",
        "\n",
        "\n",
        "  A. Crear una lista de estos valores\n",
        "  B. Crear una lista nueva quitando los repetidos\n",
        "  C. Imprimir la lista nueva y el tipo de dato\n",
        "\n",
        "\n",
        "4. Se tienen las siguientes listas:\n",
        "\n",
        "\n",
        "  A = [8, 9, 10, 20, 90, 80, 100]\n",
        "  B = [69, 73, 20, 80, 100]\n",
        "  C = [3, 4, 15, 20, 30, 70, 80, 120]\n",
        "\n",
        "\n",
        "  Encontrar elementos comunes en tres\n",
        "  Resultado = [80, 20]\n",
        "\n",
        "\n",
        "5. Se tienen las siguientes listas de participantes que asistirán a determinados eventos:\n",
        "  evento # 1 : \"Jake\", \"JohN\", \"Eric\"\n",
        "  evento # 2 : \"jOhn\", \"Jill\"\n",
        "\n",
        "\n",
        "  Se requiere identificar lo siguiente:\n",
        "\n",
        "\n",
        "  A. Mostrar los usuarios que asistirán a los dos eventos\n",
        "  B. Mostrar los usuarios que asistirán a un solo evento\n",
        "  C. Mostrar los usuarios que asistirán a un evento y no al otro\n",
        "  D. Mostrar todos los usuarios que asistirán al menos a un evento\n",
        "\n",
        "\n",
        "  Notas:\n",
        "    1. Se debe mostrar el tipo de dato y resultado,\n",
        "    2. Los datos deben partir de la normalización, todo dinámicamente\n",
        "\n",
        "\n",
        "6. [Opcional] Hacer el ejemplo de los accesos a red corporativa y red invitados\n",
        "   Notas:\n",
        "    1. Si se hace se regala bonus\n",
        "    2. Los datos los proponen ustedes\n",
        "\n",
        "\"\"\""
      ]
    }
  ],
  "metadata": {
    "colab": {
      "provenance": []
    },
    "kernelspec": {
      "display_name": "Python 3",
      "name": "python3"
    },
    "language_info": {
      "codemirror_mode": {
        "name": "ipython",
        "version": 3
      },
      "file_extension": ".py",
      "mimetype": "text/x-python",
      "name": "python",
      "nbconvert_exporter": "python",
      "pygments_lexer": "ipython3",
      "version": "3.10.7"
    }
  },
  "nbformat": 4,
  "nbformat_minor": 0
}
