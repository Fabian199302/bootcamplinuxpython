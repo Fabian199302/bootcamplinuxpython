{
  "cells": [
    {
      "cell_type": "markdown",
      "metadata": {
        "id": "2peEz_NWxEeN"
      },
      "source": [
        "<p><img src=\"https://i.postimg.cc/cCjTSn8r/ss-cumf.png\" alt=\"\" width=\"1280\" height=\"300\" /></p>\n",
        "\n",
        "# **OS & SYS**"
      ]
    },
    {
      "cell_type": "markdown",
      "metadata": {
        "id": "xl9hd3r43uIi"
      },
      "source": []
    },
    {
      "cell_type": "markdown",
      "metadata": {
        "id": "mNzhV_rIxIUL"
      },
      "source": [
        "\n",
        "## **OS**\n",
        "En Python, os es un módulo que proporciona funciones para interactuar con el sistema operativo. Este módulo es parte de la biblioteca estándar de Python y ofrece métodos para realizar operaciones que involucran el sistema operativo, como manipular archivos, interactuar con el sistema de archivos, obtener información del entorno, ejecutar comandos, entre otros.\n",
        "\n",
        "\n",
        "**IMPORTANTE**: adecuar las rutas a su sistema operativo"
      ]
    },
    {
      "cell_type": "code",
      "execution_count": null,
      "metadata": {
        "id": "k268qH2mNQ1q"
      },
      "outputs": [],
      "source": [
        "import os"
      ]
    },
    {
      "cell_type": "markdown",
      "metadata": {
        "id": "f1FHQl5BxGSv"
      },
      "source": [
        "### **access** : validar si se tiene acceso a un archivo o a una carpeta\n",
        "\n",
        "modos de acceso :\n",
        "\n",
        "*   `os.F_OK`\n",
        "*   `os.R_OK`\n",
        "*   `os.W_OK`\n",
        "*   `os.X_OK`\n",
        "\n",
        "`os.access(path, modo de acceso)`"
      ]
    },
    {
      "cell_type": "code",
      "execution_count": null,
      "metadata": {
        "colab": {
          "base_uri": "https://localhost:8080/",
          "height": 87
        },
        "id": "VSGv-7rrNjtS",
        "outputId": "ed60dc9c-efad-4cd6-a417-50a83eba2c08"
      },
      "outputs": [
        {
          "name": "stdout",
          "output_type": "stream",
          "text": [
            "validando existencia :  False\n",
            "validando lectura    :  False\n",
            "validando existencia :  False\n",
            "validando existencia :  False\n"
          ]
        }
      ],
      "source": [
        "\n",
        "print(\"validando existencia : \",os.access(\"/tmp/\",os.F_OK))\n",
        "print(\"validando lectura    : \",os.access(\"/tmp/22\",os.R_OK))\n",
        "print(\"validando existencia : \",os.access(\"/tmp/00\",os.W_OK))\n",
        "print(\"validando existencia : \",os.access(\"/tmp/\",os.X_OK))"
      ]
    },
    {
      "cell_type": "markdown",
      "metadata": {
        "id": "APN2YUCmxtUk"
      },
      "source": [
        "### **getcwd**: conocer el directorio actual en el que estamos"
      ]
    },
    {
      "cell_type": "code",
      "execution_count": null,
      "metadata": {
        "colab": {
          "base_uri": "https://localhost:8080/",
          "height": 35
        },
        "id": "f0VIx_YLP7fj",
        "outputId": "63dfc823-92a3-47d6-c96a-e09cde7100ec"
      },
      "outputs": [
        {
          "data": {
            "text/plain": [
              "'/content'"
            ]
          },
          "execution_count": 2,
          "metadata": {
            "tags": []
          },
          "output_type": "execute_result"
        }
      ],
      "source": [
        "os.getcwd()"
      ]
    },
    {
      "cell_type": "markdown",
      "metadata": {
        "id": "CNne8a0_x0vY"
      },
      "source": [
        "### **chdir**: cambiar en tiempo de ejecución la ruta donde nos encontramos"
      ]
    },
    {
      "cell_type": "code",
      "execution_count": null,
      "metadata": {
        "colab": {
          "base_uri": "https://localhost:8080/",
          "height": 35
        },
        "id": "iB1WZ2vzQbxS",
        "outputId": "47fcf4a5-1b7e-47d4-aecb-35ceb39adf6a"
      },
      "outputs": [
        {
          "data": {
            "text/plain": [
              "'/tmp'"
            ]
          },
          "execution_count": 4,
          "metadata": {
            "tags": []
          },
          "output_type": "execute_result"
        }
      ],
      "source": [
        "os.chdir(\"/tmp\")\n",
        "os.getcwd()"
      ]
    },
    {
      "cell_type": "markdown",
      "metadata": {
        "id": "ywL_beQax_Vu"
      },
      "source": [
        "### **chroot**: cambiar el directorio y comvertirlo raiz de trabajo"
      ]
    },
    {
      "cell_type": "code",
      "execution_count": null,
      "metadata": {
        "colab": {
          "base_uri": "https://localhost:8080/",
          "height": 35
        },
        "id": "ISzwOuSlQ7bH",
        "outputId": "f86beca1-30d7-4fe5-ad35-61a06b82e17e"
      },
      "outputs": [
        {
          "data": {
            "text/plain": [
              "'/content'"
            ]
          },
          "execution_count": 3,
          "metadata": {
            "tags": []
          },
          "output_type": "execute_result"
        }
      ],
      "source": [
        "os.chroot('/tmp')\n",
        "os.getcwd()"
      ]
    },
    {
      "cell_type": "markdown",
      "metadata": {
        "id": "sOHaoxtSyFzP"
      },
      "source": [
        "### **chmod**: cambiar los permisos de un archivo\n",
        "\n",
        "\n",
        "\n",
        "```python\n",
        "stat.S_ISUID − Establecer identificador de usuario en la ejecución.\n",
        "stat.S_ISGID − Establecer identificador de grupo en la ejecución.\n",
        "stat.S_ENFMT − Aplicar bloqueo de registro.\n",
        "stat.S_ISVTX − Conservar imagen de texto después de la ejecución.\n",
        "stat.S_IREAD − Lectura por el propietario.\n",
        "stat.S_IWRITE − Escritura por el propietario.\n",
        "stat.S_IEXEC − Ejecución por el propietario.\n",
        "stat.S_IRWXU − Lectura, escritura y ejecución por el propietario.\n",
        "stat.S_IRUSR − Lectura por el propietario.\n",
        "stat.S_IWUSR − Escritura por el propietario.\n",
        "stat.S_IXUSR − Ejecución por el propietario.\n",
        "stat.S_IRWXG − Lectura, escritura y ejecución por el grupo.\n",
        "stat.S_IRGRP − Lectura por el grupo.\n",
        "stat.S_IWGRP − Escritura por el grupo.\n",
        "stat.S_IXGRP − Ejecución por el grupo.\n",
        "stat.S_IRWXO − Lectura, escritura y ejecución por otros.\n",
        "stat.S_IROTH − Lectura por otros.\n",
        "stat.S_IWOTH − Escritura por otros.\n",
        "stat.S_IXOTH − Ejecución por otros.\n",
        "```\n",
        "\n"
      ]
    },
    {
      "cell_type": "code",
      "execution_count": null,
      "metadata": {
        "id": "vZjKWnmaSmAR"
      },
      "outputs": [],
      "source": [
        "import stat\n",
        "os.chmod(\"/tmp/prueba.txt\",stat.S_IRWXG)"
      ]
    },
    {
      "cell_type": "markdown",
      "metadata": {
        "id": "Fnz2A59ayv0a"
      },
      "source": [
        "### **chown**: cambiar el propietario de un archivo o directorio\n",
        "\n",
        "\n",
        "\n",
        "```\n",
        "path : ruta del archivo o la carpeta\n",
        "uid  : el usuario propietario del archivo\n",
        "gid  : el grupo propietario del archivo\n",
        "\n",
        "nota : realizar esta acción siempre y cuando conozcan el userid del usuario\n",
        "en el sistema operativo\n",
        "```\n",
        "\n"
      ]
    },
    {
      "cell_type": "code",
      "execution_count": null,
      "metadata": {
        "id": "jQys1eyyPOlr"
      },
      "outputs": [],
      "source": [
        "os.chown(\"/tmp/prueba.txt\",100,-1)"
      ]
    },
    {
      "cell_type": "markdown",
      "metadata": {
        "id": "YYgCJ7QpzIun"
      },
      "source": [
        "### **mkdir**: crear directorio en el sistema operativo\n",
        "\n",
        "\n",
        "```\n",
        "path : directorio o archivo\n",
        "mode : permisos [opcional]\n",
        "\n",
        "Nota : solo permite crear un directorio\n",
        "```"
      ]
    },
    {
      "cell_type": "code",
      "execution_count": null,
      "metadata": {
        "id": "i-iRjQw0VwNI"
      },
      "outputs": [],
      "source": [
        "os.mkdir(\"/tmp/bootcamp\",750)"
      ]
    },
    {
      "cell_type": "markdown",
      "metadata": {
        "id": "5WOoIAvfzZRK"
      },
      "source": [
        "### **makedirs**: crear múltiples directorios en el sistema operativo\n",
        "\n",
        "\n",
        "```\n",
        "path : directorio o archivo\n",
        "mode : permisos [opcional]\n",
        "\n",
        "Nota : solo permite crear un directorio\n",
        "```"
      ]
    },
    {
      "cell_type": "code",
      "execution_count": null,
      "metadata": {
        "id": "coTQlWL-Y8BH"
      },
      "outputs": [],
      "source": [
        "os.makedirs(\"/tmp/python/noviembre/clase15/pendiente3h\",751)"
      ]
    },
    {
      "cell_type": "markdown",
      "metadata": {
        "id": "wvb1ol7ezsHt"
      },
      "source": [
        "### **rmdir**: eliminar un directorio"
      ]
    },
    {
      "cell_type": "code",
      "execution_count": null,
      "metadata": {
        "id": "_w-KBZfSbsHY"
      },
      "outputs": [],
      "source": [
        "os.rmdir(\"/tmp/python/noviembre/clase15/pendiente3h\")"
      ]
    },
    {
      "cell_type": "markdown",
      "metadata": {
        "id": "cXfnL6ynzydu"
      },
      "source": [
        "### **removedirs**: eliminar directorios recursivamente"
      ]
    },
    {
      "cell_type": "code",
      "execution_count": null,
      "metadata": {
        "id": "t8W5THdZcLhn"
      },
      "outputs": [],
      "source": [
        "os.removedirs(\"/tmp/python/noviembre/clase15/\")"
      ]
    },
    {
      "cell_type": "markdown",
      "metadata": {
        "id": "sHsqsjoCz9Ux"
      },
      "source": [
        "### **rename**: renombrar archivos"
      ]
    },
    {
      "cell_type": "code",
      "execution_count": null,
      "metadata": {
        "id": "EIVxsN69drhG"
      },
      "outputs": [],
      "source": [
        "os.rename(\"/tmp/a.txt\",\"/tmp/b.txt\")"
      ]
    },
    {
      "cell_type": "markdown",
      "metadata": {
        "id": "615VucCa0x0a"
      },
      "source": [
        "### **symlink**: links simbólicos. Sirve para encapsular directorios a nivel del sistema operativo, para que no se acceda directamente al directorio principal"
      ]
    },
    {
      "cell_type": "code",
      "execution_count": null,
      "metadata": {
        "id": "9eFrP_OaZ9lQ"
      },
      "outputs": [],
      "source": [
        "os.makedirs(\"/tmp/transaciones/superdelicadas\")\n",
        "os.symlink(\"/tmp/transaciones/superdelicadas\",\"/tmp/logsgenericos\")"
      ]
    },
    {
      "cell_type": "markdown",
      "metadata": {
        "id": "akEUDJtF1A2y"
      },
      "source": [
        "### **listdir** : listar los objetos que hay en una ruta :"
      ]
    },
    {
      "cell_type": "code",
      "execution_count": 2,
      "metadata": {
        "colab": {
          "base_uri": "https://localhost:8080/"
        },
        "id": "bhqS-pH_ghf1",
        "outputId": "e92494bf-d60e-4f39-f081-def3275aa9e4"
      },
      "outputs": [
        {
          "data": {
            "text/plain": [
              "['debugger_1wlithofa1',\n",
              " 'language_service.INFO',\n",
              " 'initgoogle_syslog_dir.0',\n",
              " 'pyright-675-K45GdC4cqZGA',\n",
              " 'pyright-675-K730sFii83QF',\n",
              " 'python-languageserver-cancellation',\n",
              " 'dap_multiplexer.INFO',\n",
              " 'language_service.c794eea190b9.root.log.INFO.20231123-201657.670',\n",
              " 'dap_multiplexer.c794eea190b9.root.log.INFO.20231123-201441.77']"
            ]
          },
          "execution_count": 2,
          "metadata": {},
          "output_type": "execute_result"
        }
      ],
      "source": [
        "os.listdir(\"/tmp\")"
      ]
    },
    {
      "cell_type": "markdown",
      "metadata": {
        "id": "CHA-svbl1L9O"
      },
      "source": [
        "### **abspath**: conocer la ruta absoluta de un directorio o carpeta\n"
      ]
    },
    {
      "cell_type": "code",
      "execution_count": 3,
      "metadata": {
        "colab": {
          "base_uri": "https://localhost:8080/",
          "height": 35
        },
        "id": "sn-4Ip7KiOu4",
        "outputId": "daa8ba8a-ee3c-4cee-982f-768d89c8da72"
      },
      "outputs": [
        {
          "data": {
            "application/vnd.google.colaboratory.intrinsic+json": {
              "type": "string"
            },
            "text/plain": [
              "'/tmp/bootcamp'"
            ]
          },
          "execution_count": 3,
          "metadata": {},
          "output_type": "execute_result"
        }
      ],
      "source": [
        "os.chdir(\"/tmp\")\n",
        "os.path.abspath(\"bootcamp\")"
      ]
    },
    {
      "cell_type": "markdown",
      "metadata": {
        "id": "7vOOWOxg1bqG"
      },
      "source": [
        "### **os.path.join**: concatenar rutas para SO"
      ]
    },
    {
      "cell_type": "code",
      "execution_count": 4,
      "metadata": {
        "colab": {
          "base_uri": "https://localhost:8080/",
          "height": 35
        },
        "id": "5-wpdy1AnZBE",
        "outputId": "46bd01fd-fdd6-4560-a7f5-e5f53103cbc5"
      },
      "outputs": [
        {
          "data": {
            "application/vnd.google.colaboratory.intrinsic+json": {
              "type": "string"
            },
            "text/plain": [
              "'tmp/bootcamp/pruebajoin.txt'"
            ]
          },
          "execution_count": 4,
          "metadata": {},
          "output_type": "execute_result"
        }
      ],
      "source": [
        "os.path.join(\"tmp\",\"bootcamp\",\"pruebajoin.txt\")"
      ]
    },
    {
      "cell_type": "markdown",
      "metadata": {
        "id": "18KmJphn1kJU"
      },
      "source": [
        "### **os.path.basename**: obtener el directorio base en donde nos encontramos ubicados"
      ]
    },
    {
      "cell_type": "code",
      "execution_count": null,
      "metadata": {
        "colab": {
          "base_uri": "https://localhost:8080/",
          "height": 35
        },
        "id": "C94z6tMtonAl",
        "outputId": "490be3ee-51f5-428e-e60b-59383a28af49"
      },
      "outputs": [
        {
          "data": {
            "text/plain": [
              "'superdelicadas'"
            ]
          },
          "execution_count": 60,
          "metadata": {
            "tags": []
          },
          "output_type": "execute_result"
        }
      ],
      "source": [
        "os.path.basename(\"transaciones/superdelicadas\")"
      ]
    },
    {
      "cell_type": "markdown",
      "metadata": {
        "id": "j_X59Zyl14da"
      },
      "source": [
        "### **os.path.exists**: validación de existencia de un directorio o archivo"
      ]
    },
    {
      "cell_type": "code",
      "execution_count": null,
      "metadata": {
        "colab": {
          "base_uri": "https://localhost:8080/",
          "height": 35
        },
        "id": "qmaYXrnBo8mh",
        "outputId": "927b0706-d971-4f64-9455-75c015cd1aa5"
      },
      "outputs": [
        {
          "data": {
            "text/plain": [
              "False"
            ]
          },
          "execution_count": 64,
          "metadata": {
            "tags": []
          },
          "output_type": "execute_result"
        }
      ],
      "source": [
        "os.path.exists(\"tmp/bootcamp/calendario.txt\")"
      ]
    },
    {
      "cell_type": "markdown",
      "metadata": {
        "id": "vxKd4viM2I3l"
      },
      "source": [
        "### **getatime** : consultar el último acceso al directorio"
      ]
    },
    {
      "cell_type": "code",
      "execution_count": null,
      "metadata": {
        "colab": {
          "base_uri": "https://localhost:8080/",
          "height": 35
        },
        "id": "POAX7ybfpPng",
        "outputId": "c48a6813-2def-4d56-90f3-5ac87e05517e"
      },
      "outputs": [
        {
          "data": {
            "text/plain": [
              "1574381867.7189639"
            ]
          },
          "execution_count": 69,
          "metadata": {
            "tags": []
          },
          "output_type": "execute_result"
        }
      ],
      "source": [
        "os.path.getatime(\"/tmp/bootcamp\")"
      ]
    },
    {
      "cell_type": "markdown",
      "metadata": {
        "id": "3F4ThZkI2JXH"
      },
      "source": [
        "### **getsize**: conocer el tamaño de un directorio"
      ]
    },
    {
      "cell_type": "code",
      "execution_count": null,
      "metadata": {
        "colab": {
          "base_uri": "https://localhost:8080/",
          "height": 35
        },
        "id": "oOodVajappSA",
        "outputId": "7214771a-2bc0-4743-c7d6-cb55af286566"
      },
      "outputs": [
        {
          "data": {
            "text/plain": [
              "4096"
            ]
          },
          "execution_count": 70,
          "metadata": {
            "tags": []
          },
          "output_type": "execute_result"
        }
      ],
      "source": [
        "os.path.getsize(\"/tmp/\")"
      ]
    },
    {
      "cell_type": "markdown",
      "metadata": {
        "id": "t-J6LeFK2q-n"
      },
      "source": [
        "### **isabs**: saber si es una ruta absoluta"
      ]
    },
    {
      "cell_type": "code",
      "execution_count": null,
      "metadata": {
        "colab": {
          "base_uri": "https://localhost:8080/",
          "height": 35
        },
        "id": "jQYbmBxnp-Nl",
        "outputId": "bc29a36e-b59d-47a4-df6e-eed826808307"
      },
      "outputs": [
        {
          "data": {
            "text/plain": [
              "True"
            ]
          },
          "execution_count": 75,
          "metadata": {
            "tags": []
          },
          "output_type": "execute_result"
        }
      ],
      "source": [
        "os.path.isabs(\"/tmp/bootcamp\")"
      ]
    },
    {
      "cell_type": "markdown",
      "metadata": {
        "id": "FGjGCee22vu4"
      },
      "source": [
        "### **isfile**: saber si el parámetro es un archivo"
      ]
    },
    {
      "cell_type": "code",
      "execution_count": null,
      "metadata": {
        "colab": {
          "base_uri": "https://localhost:8080/",
          "height": 35
        },
        "id": "Kjy47CiNqvfK",
        "outputId": "f2b2f922-a1ef-4c30-fb84-eef33467ef48"
      },
      "outputs": [
        {
          "data": {
            "text/plain": [
              "True"
            ]
          },
          "execution_count": 77,
          "metadata": {
            "tags": []
          },
          "output_type": "execute_result"
        }
      ],
      "source": [
        "os.path.isfile(\"/tmp/bootcamp/calendario.txt\")"
      ]
    },
    {
      "cell_type": "markdown",
      "metadata": {
        "id": "J1WUrtBy2y-5"
      },
      "source": [
        "### **isdir**: validar si existe un directorio"
      ]
    },
    {
      "cell_type": "code",
      "execution_count": null,
      "metadata": {
        "colab": {
          "base_uri": "https://localhost:8080/",
          "height": 35
        },
        "id": "mQXP4d1srAXm",
        "outputId": "94cc7a26-4aa2-4ae6-c0c9-238ff56bda09"
      },
      "outputs": [
        {
          "data": {
            "text/plain": [
              "True"
            ]
          },
          "execution_count": 79,
          "metadata": {
            "tags": []
          },
          "output_type": "execute_result"
        }
      ],
      "source": [
        "os.path.isdir(\"/tmp/bootcamp/\")"
      ]
    },
    {
      "cell_type": "markdown",
      "metadata": {
        "id": "iqMLD5dn3QlJ"
      },
      "source": [
        "### **islink**: saber si hay carpetas linkeadas"
      ]
    },
    {
      "cell_type": "code",
      "execution_count": null,
      "metadata": {
        "colab": {
          "base_uri": "https://localhost:8080/",
          "height": 35
        },
        "id": "PpQ4dex8rP9i",
        "outputId": "33b66aa9-ea62-4a0c-af63-950ed8485679"
      },
      "outputs": [
        {
          "data": {
            "text/plain": [
              "True"
            ]
          },
          "execution_count": 83,
          "metadata": {
            "tags": []
          },
          "output_type": "execute_result"
        }
      ],
      "source": [
        "os.path.islink(\"/tmp/logsgenericos\")"
      ]
    },
    {
      "cell_type": "markdown",
      "metadata": {
        "id": "td4x5--k3Uqz"
      },
      "source": [
        "### **ismount**: saber si una ruta es un punto de montaje"
      ]
    },
    {
      "cell_type": "code",
      "execution_count": null,
      "metadata": {
        "colab": {
          "base_uri": "https://localhost:8080/",
          "height": 35
        },
        "id": "Fxtr8bKprdWf",
        "outputId": "1564e1d0-84a7-4f46-8386-357d115b08ee"
      },
      "outputs": [
        {
          "data": {
            "text/plain": [
              "False"
            ]
          },
          "execution_count": 89,
          "metadata": {
            "tags": []
          },
          "output_type": "execute_result"
        }
      ],
      "source": [
        "os.path.ismount(\"/content\")"
      ]
    },
    {
      "cell_type": "markdown",
      "metadata": {
        "id": "C1boNb6r3htx"
      },
      "source": [
        "### **dirname**: conocer la ruta real en la que se encuentra el programa"
      ]
    },
    {
      "cell_type": "code",
      "execution_count": null,
      "metadata": {
        "id": "1GnQoe98sFDg"
      },
      "outputs": [],
      "source": [
        "# solo funciona en clases\n",
        "# os.path.dirname(os.path.abspath(__file__))"
      ]
    },
    {
      "cell_type": "markdown",
      "metadata": {
        "id": "G5j0Zs-Q3rMB"
      },
      "source": [
        "## **SYS**\n",
        "\n",
        "`sys` es un módulo en Python que proporciona acceso a variables y funciones específicas del intérprete de Python. Este módulo es parte de la biblioteca estándar de Python y ofrece funcionalidades para interactuar con el entorno de ejecución del programa y con el sistema en general.\n",
        "\n"
      ]
    },
    {
      "cell_type": "code",
      "execution_count": 5,
      "metadata": {
        "id": "As4sb2FPs1p-"
      },
      "outputs": [],
      "source": [
        "import sys"
      ]
    },
    {
      "cell_type": "markdown",
      "metadata": {
        "id": "xkdHNW8l4hGa"
      },
      "source": [
        "### **executable**: retorna la ruta de donde se encuentra el ejecutable o intérprete de Python"
      ]
    },
    {
      "cell_type": "code",
      "execution_count": null,
      "metadata": {
        "colab": {
          "base_uri": "https://localhost:8080/",
          "height": 35
        },
        "id": "dviduW-yuohH",
        "outputId": "cd365e77-0d60-4cba-89de-d8ee8edcc541"
      },
      "outputs": [
        {
          "data": {
            "text/plain": [
              "'/usr/bin/python3'"
            ]
          },
          "execution_count": 101,
          "metadata": {
            "tags": []
          },
          "output_type": "execute_result"
        }
      ],
      "source": [
        "sys.executable"
      ]
    },
    {
      "cell_type": "markdown",
      "metadata": {
        "id": "v2Vy7CTJ4qds"
      },
      "source": [
        "### **maxsize**: retorna el número entero positivo máximo que soporta Python"
      ]
    },
    {
      "cell_type": "code",
      "execution_count": null,
      "metadata": {
        "colab": {
          "base_uri": "https://localhost:8080/",
          "height": 35
        },
        "id": "Jvl3ZGLFvC5n",
        "outputId": "591caafa-d553-49ed-c5fc-4052a2a7240b"
      },
      "outputs": [
        {
          "data": {
            "text/plain": [
              "9223372036854775809"
            ]
          },
          "execution_count": 110,
          "metadata": {
            "tags": []
          },
          "output_type": "execute_result"
        }
      ],
      "source": [
        "sys.maxsize"
      ]
    },
    {
      "cell_type": "markdown",
      "metadata": {
        "id": "2A-NlzZ842wq"
      },
      "source": [
        "### **platform**: saber el os en el que estoy\n",
        "\n",
        "* **linux**: para sistemas basados en Linux.\n",
        "* **win32**: para sistemas Windows de 32 bits.\n",
        "* **win64**: para sistemas Windows de 64 bits.\n",
        "* **darwin**: para macOS.\n",
        "* **sunos**: para Solaris."
      ]
    },
    {
      "cell_type": "code",
      "execution_count": null,
      "metadata": {
        "colab": {
          "base_uri": "https://localhost:8080/",
          "height": 35
        },
        "id": "UfjHugC7vZSZ",
        "outputId": "3b6010ca-4a8c-4633-d5c1-0336596bca27"
      },
      "outputs": [
        {
          "data": {
            "text/plain": [
              "'linux'"
            ]
          },
          "execution_count": 111,
          "metadata": {
            "tags": []
          },
          "output_type": "execute_result"
        }
      ],
      "source": [
        "sys.platform"
      ]
    },
    {
      "cell_type": "markdown",
      "metadata": {
        "id": "HW9Mdf6K5ObP"
      },
      "source": [
        "### **version**: conocer la versión de Python en la que estamos"
      ]
    },
    {
      "cell_type": "code",
      "execution_count": null,
      "metadata": {
        "colab": {
          "base_uri": "https://localhost:8080/",
          "height": 35
        },
        "id": "6LpcrBy4vmRr",
        "outputId": "4aa10411-9ec8-4bf6-9a3e-1580de8423be"
      },
      "outputs": [
        {
          "data": {
            "text/plain": [
              "'3.6.8 (default, Oct  7 2019, 12:59:55) \\n[GCC 8.3.0]'"
            ]
          },
          "execution_count": 114,
          "metadata": {
            "tags": []
          },
          "output_type": "execute_result"
        }
      ],
      "source": [
        "sys.version"
      ]
    },
    {
      "cell_type": "markdown",
      "metadata": {
        "id": "20E0F3fr5aDi"
      },
      "source": [
        "### **exit**: salir del intérprete"
      ]
    },
    {
      "cell_type": "code",
      "execution_count": null,
      "metadata": {
        "colab": {
          "base_uri": "https://localhost:8080/",
          "height": 35
        },
        "id": "Y1RY1-Fuvyvh",
        "outputId": "79a09329-be55-4878-866f-1419f148f1a3"
      },
      "outputs": [
        {
          "name": "stdout",
          "output_type": "stream",
          "text": [
            "0\n"
          ]
        }
      ],
      "source": [
        "# sys.exit()"
      ]
    },
    {
      "cell_type": "markdown",
      "metadata": {
        "id": "jAozuT7l5vpa"
      },
      "source": [
        "### **getdefaultencoding**: identificar el encoding que tenemos actualmente"
      ]
    },
    {
      "cell_type": "code",
      "execution_count": null,
      "metadata": {
        "colab": {
          "base_uri": "https://localhost:8080/",
          "height": 35
        },
        "id": "1QKpLM8DyBDh",
        "outputId": "d4e504e2-c416-4fa1-f622-dc35d13fe983"
      },
      "outputs": [
        {
          "data": {
            "text/plain": [
              "'utf-8'"
            ]
          },
          "execution_count": 128,
          "metadata": {
            "tags": []
          },
          "output_type": "execute_result"
        }
      ],
      "source": [
        "sys.getdefaultencoding()"
      ]
    },
    {
      "cell_type": "markdown",
      "metadata": {
        "id": "VXh686bQ53p5"
      },
      "source": [
        "### **getfilesystemencoding**: retorna la codificación de caracteres para convertir los nombres de los archivos unicode en nombres de archivo del sistema"
      ]
    },
    {
      "cell_type": "code",
      "execution_count": null,
      "metadata": {
        "colab": {
          "base_uri": "https://localhost:8080/",
          "height": 35
        },
        "id": "Mm-x8M6PyJw2",
        "outputId": "01be1352-87da-4e58-ad5e-faebe1ac57e5"
      },
      "outputs": [
        {
          "data": {
            "text/plain": [
              "'utf-8'"
            ]
          },
          "execution_count": 129,
          "metadata": {
            "tags": []
          },
          "output_type": "execute_result"
        }
      ],
      "source": [
        "sys.getfilesystemencoding()"
      ]
    },
    {
      "cell_type": "markdown",
      "metadata": {
        "id": "od7Mf-VD6CeX"
      },
      "source": [
        "### **insert**: sirve para cargar rutas al enterno de ejecución del sistema"
      ]
    },
    {
      "cell_type": "code",
      "execution_count": null,
      "metadata": {
        "id": "RaFEKkMvst6D"
      },
      "outputs": [],
      "source": [
        "sys.path.insert(1, \"path\")"
      ]
    }
  ],
  "metadata": {
    "colab": {
      "provenance": [],
      "toc_visible": true
    },
    "kernelspec": {
      "display_name": "Python 3",
      "name": "python3"
    }
  },
  "nbformat": 4,
  "nbformat_minor": 0
}
