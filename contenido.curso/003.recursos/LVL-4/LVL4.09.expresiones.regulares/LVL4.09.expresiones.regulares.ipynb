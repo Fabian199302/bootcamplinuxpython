{
  "nbformat": 4,
  "nbformat_minor": 0,
  "metadata": {
    "colab": {
      "provenance": []
    },
    "kernelspec": {
      "name": "python3",
      "display_name": "Python 3"
    },
    "language_info": {
      "name": "python"
    }
  },
  "cells": [
    {
      "cell_type": "markdown",
      "source": [
        "<p><img src=\"https://i.postimg.cc/cCjTSn8r/ss-cumf.png\" alt=\"\" width=\"1280\" height=\"300\" /></p>"
      ],
      "metadata": {
        "id": "6XzZt0kD2UNy"
      }
    },
    {
      "cell_type": "markdown",
      "source": [
        "# **EXPRESIONES REGULARES**\n",
        "\n",
        "Las expresiones regulares, también conocidas como regex o regexp, son patrones de búsqueda y manipulación de cadenas de texto. Son secuencias de caracteres que definen un conjunto de reglas para buscar y coincidir con patrones específicos en cadenas de texto.\n",
        "\n",
        "**EJEMPLO**:\n",
        "\n",
        "*   user@example.com\n",
        "*   john.doe123@email.co.uk\n",
        "*   alice_smith@email.org\n",
        "*   support@company.com\n",
        "*   info@emailprovider.net\n",
        "*   sales.team@business.com\n",
        "*   webmaster@website.org\n",
        "*   jane.doe@emailprovider.com\n",
        "*   contact.us@company.net\n",
        "*   admin123@webpage.info\n",
        "\n",
        "\n",
        "Para resolver el problema, usaremos expresiones regulares con el siguiente patron: `[A-Za-z0-9._%+-]+@[A-Za-z0-9.-]+\\.[A-Z|a-z]{2,}`\n",
        "\n",
        "\n",
        "- `[A-Za-z0-9._%+-]+`: Coincide con uno o más caracteres alfanuméricos, puntos, guiones bajos, porcentajes o signos más y menos en la parte local del correo electrónico.\n",
        "- `@`: Coincide con el carácter '@'.\n",
        "- `[A-Za-z0-9.-]+`: Coincide con uno o más caracteres alfanuméricos, puntos o guiones en el dominio del correo electrónico.\n",
        "- `\\.`: Coincide con el carácter de punto ('.').\n",
        "- `[A-Z|a-z]{2,}`: Coincide con dos o más caracteres alfabéticos en la parte del dominio del nivel superior.\n",
        "\n",
        "\n"
      ],
      "metadata": {
        "id": "mpodb5bJ2wKH"
      }
    },
    {
      "cell_type": "markdown",
      "source": [
        "[VALIDADOR Y CURSO DE REGEX](https://regex101.com/)\n",
        "\n",
        "[PYTHON REGEX](https://www.w3schools.com/python/python_regex.asp)\n",
        "\n",
        "\n"
      ],
      "metadata": {
        "id": "beQWVyR02wHx"
      }
    },
    {
      "cell_type": "markdown",
      "source": [
        "## **REGEX PYTHON**\n",
        "\n",
        "En Python, el módulo `re` proporciona soporte para trabajar con expresiones regulares."
      ],
      "metadata": {
        "id": "vF4G6fAX5he-"
      }
    },
    {
      "cell_type": "code",
      "execution_count": null,
      "metadata": {
        "id": "ioRlda3j2I7m"
      },
      "outputs": [],
      "source": [
        "import re"
      ]
    },
    {
      "cell_type": "code",
      "source": [
        "# simulación de datos de mensajes de Twitter (X)\n",
        "from typing import List\n",
        "\n",
        "tweets: List[str] = [\n",
        "  \"¡Increíble día de sol en la playa! ☀️ #Feliz\", # 0\n",
        "  \"¿Alguien más está emocionado por el nuevo año? #AñoNuevo\", # 1\n",
        "  \"¡Qué película tan asombrosa! #Cine, #avengers\", # 2\n",
        "  \"Hoy me siento muy #agradecido por todo.\", # 3\n",
        "  \"¡Entrenamiento intenso en el gimnasio! #Fitness #esteañosi\" # 4\n",
        "]\n",
        "# NOTA: hashtag es como un identificador unico,\n",
        "# o en palabras tecnicas como una llave primaria en una base de datos"
      ],
      "metadata": {
        "id": "KRr23uFP6uM2"
      },
      "execution_count": 33,
      "outputs": []
    },
    {
      "cell_type": "markdown",
      "source": [
        "### **SEARCH**\n",
        "Devuelve un objeto Match si hay una coincidencia en cualquier parte de la cadena.\n",
        "\n",
        "Nota: solo encuentra la primera ocurrencia"
      ],
      "metadata": {
        "id": "0Q1ELoe78XXg"
      }
    },
    {
      "cell_type": "code",
      "source": [
        "resultado = re.search(r'#\\w+', tweets[2])\n",
        "resultado"
      ],
      "metadata": {
        "colab": {
          "base_uri": "https://localhost:8080/"
        },
        "id": "XSXpA5RV8qG_",
        "outputId": "f244e4dc-eba7-4c02-cbdb-02c52c1a6f93"
      },
      "execution_count": 34,
      "outputs": [
        {
          "output_type": "execute_result",
          "data": {
            "text/plain": [
              "<re.Match object; span=(29, 34), match='#Cine'>"
            ]
          },
          "metadata": {},
          "execution_count": 34
        }
      ]
    },
    {
      "cell_type": "code",
      "source": [
        "print(resultado.span())\n",
        "print(resultado.start())\n",
        "print(resultado.end())\n",
        "print(resultado.group())"
      ],
      "metadata": {
        "colab": {
          "base_uri": "https://localhost:8080/"
        },
        "id": "4psTfA379OpZ",
        "outputId": "bb193da4-76bb-44b9-f92e-a9aa8a14b466"
      },
      "execution_count": 35,
      "outputs": [
        {
          "output_type": "stream",
          "name": "stdout",
          "text": [
            "(29, 34)\n",
            "29\n",
            "34\n",
            "#Cine\n"
          ]
        }
      ]
    },
    {
      "cell_type": "code",
      "source": [
        "print(tweets[2])\n",
        "tweets[2][29:34]"
      ],
      "metadata": {
        "colab": {
          "base_uri": "https://localhost:8080/",
          "height": 53
        },
        "id": "ff12oK7NfSih",
        "outputId": "8416597f-69ef-4325-e07b-1aee13018a15"
      },
      "execution_count": 37,
      "outputs": [
        {
          "output_type": "stream",
          "name": "stdout",
          "text": [
            "¡Qué película tan asombrosa! #Cine, #avengers\n"
          ]
        },
        {
          "output_type": "execute_result",
          "data": {
            "text/plain": [
              "'#Cine'"
            ],
            "application/vnd.google.colaboratory.intrinsic+json": {
              "type": "string"
            }
          },
          "metadata": {},
          "execution_count": 37
        }
      ]
    },
    {
      "cell_type": "code",
      "source": [
        "tweets[2][resultado.start(): resultado.end()]"
      ],
      "metadata": {
        "colab": {
          "base_uri": "https://localhost:8080/",
          "height": 35
        },
        "id": "5MywgX_z-IYn",
        "outputId": "23efee67-0414-4339-907f-590727cd95e6"
      },
      "execution_count": 38,
      "outputs": [
        {
          "output_type": "execute_result",
          "data": {
            "text/plain": [
              "'#Cine'"
            ],
            "application/vnd.google.colaboratory.intrinsic+json": {
              "type": "string"
            }
          },
          "metadata": {},
          "execution_count": 38
        }
      ]
    },
    {
      "cell_type": "code",
      "source": [
        "re.search(r'[123]', tweets[2])"
      ],
      "metadata": {
        "id": "nDCWCqOTDCJB"
      },
      "execution_count": 39,
      "outputs": []
    },
    {
      "cell_type": "code",
      "source": [
        "valido = re.search(r'[123]', tweets[2])\n",
        "print(valido)\n",
        "if valido:\n",
        "  print(\"patron de busqueda existe\")\n",
        "else:\n",
        "  print(\"los datos no cumplen, o no tienen el estandar requerido\")"
      ],
      "metadata": {
        "colab": {
          "base_uri": "https://localhost:8080/"
        },
        "id": "t_LD-yfSf7Gl",
        "outputId": "eb604c02-49cf-4794-8b77-9584590291a0"
      },
      "execution_count": 41,
      "outputs": [
        {
          "output_type": "stream",
          "name": "stdout",
          "text": [
            "None\n",
            "los datos no cumplen, o no tienen el estandar requerido\n"
          ]
        }
      ]
    },
    {
      "cell_type": "code",
      "source": [
        "# ejemplo correo\n",
        "expresion: str = \"[A-Za-z0-9._%+-]+@[A-Za-z0-9.-]+\\.[A-Z|a-z]{2,}\"\n",
        "\n",
        "if re.search(expresion, \"pepito@perez.com\"):\n",
        "  print(\"patron de busqueda existe\")\n",
        "else:\n",
        "  print(\"los datos no cumplen, o no tienen el estandar requerido\")"
      ],
      "metadata": {
        "colab": {
          "base_uri": "https://localhost:8080/"
        },
        "id": "tvfVc612hbdR",
        "outputId": "55511301-c33e-4a9d-fab4-6e9a9ef22bbf"
      },
      "execution_count": 50,
      "outputs": [
        {
          "output_type": "stream",
          "name": "stdout",
          "text": [
            "patron de busqueda existe\n"
          ]
        }
      ]
    },
    {
      "cell_type": "code",
      "source": [
        "def validar_expresion_regular(regex: str, texto_validar: str) -> bool:\n",
        "  cumple_condicion: bool = False\n",
        "  if re.search(regex,texto_validar):\n",
        "    cumple_condicion = True\n",
        "  return cumple_condicion"
      ],
      "metadata": {
        "id": "P0gXZDbIkgIB"
      },
      "execution_count": 52,
      "outputs": []
    },
    {
      "cell_type": "code",
      "source": [
        "validar_expresion_regular(expresion, \"pepito@perez.com\")"
      ],
      "metadata": {
        "colab": {
          "base_uri": "https://localhost:8080/"
        },
        "id": "LVPNE2Yuk0Wh",
        "outputId": "7feb5299-5850-4ff9-ec0b-1180629863dc"
      },
      "execution_count": 53,
      "outputs": [
        {
          "output_type": "execute_result",
          "data": {
            "text/plain": [
              "True"
            ]
          },
          "metadata": {},
          "execution_count": 53
        }
      ]
    },
    {
      "cell_type": "code",
      "source": [
        "validar_expresion_regular(expresion, \"pepito@perez.c\")"
      ],
      "metadata": {
        "colab": {
          "base_uri": "https://localhost:8080/"
        },
        "id": "XyixaPf9k5ts",
        "outputId": "e7d03c9a-e44e-4b08-b8ea-8d3fe8558bce"
      },
      "execution_count": 54,
      "outputs": [
        {
          "output_type": "execute_result",
          "data": {
            "text/plain": [
              "False"
            ]
          },
          "metadata": {},
          "execution_count": 54
        }
      ]
    },
    {
      "cell_type": "markdown",
      "source": [
        "### **FINDALL**\n",
        "Devuelve una lista que contiene todas las coincidencias."
      ],
      "metadata": {
        "id": "Jg02bLIc7e0M"
      }
    },
    {
      "cell_type": "code",
      "source": [
        "print(tweets[2])\n",
        "re.findall(r'#\\w+', tweets[2])"
      ],
      "metadata": {
        "colab": {
          "base_uri": "https://localhost:8080/"
        },
        "id": "WkbTo6cn7d6r",
        "outputId": "4fb1c8a5-e122-40f2-d699-375e6f70769e"
      },
      "execution_count": 43,
      "outputs": [
        {
          "output_type": "stream",
          "name": "stdout",
          "text": [
            "¡Qué película tan asombrosa! #Cine, #avengers\n"
          ]
        },
        {
          "output_type": "execute_result",
          "data": {
            "text/plain": [
              "['#Cine', '#avengers']"
            ]
          },
          "metadata": {},
          "execution_count": 43
        }
      ]
    },
    {
      "cell_type": "code",
      "source": [
        "print(tweets[3])\n",
        "re.findall(r'#\\w+', tweets[3])"
      ],
      "metadata": {
        "colab": {
          "base_uri": "https://localhost:8080/"
        },
        "id": "BHlOKH0fg5zW",
        "outputId": "72a23d77-05c7-4259-bc70-736fd234a2d4"
      },
      "execution_count": 44,
      "outputs": [
        {
          "output_type": "stream",
          "name": "stdout",
          "text": [
            "Hoy me siento muy #agradecido por todo.\n"
          ]
        },
        {
          "output_type": "execute_result",
          "data": {
            "text/plain": [
              "['#agradecido']"
            ]
          },
          "metadata": {},
          "execution_count": 44
        }
      ]
    },
    {
      "cell_type": "markdown",
      "source": [
        "### **FINDITER**\n",
        "Devuelve un iterador con todas las ocurrencias, similar a `search`"
      ],
      "metadata": {
        "id": "pKAFEHKy-mSr"
      }
    },
    {
      "cell_type": "code",
      "source": [
        "for elemento in re.finditer(r'#\\w+', tweets[2]):\n",
        "  print(elemento)\n",
        "  print(elemento.start())"
      ],
      "metadata": {
        "colab": {
          "base_uri": "https://localhost:8080/"
        },
        "id": "g0g4M4nI_fVr",
        "outputId": "6da4b896-09a4-4a95-99a1-266741197ef6"
      },
      "execution_count": 55,
      "outputs": [
        {
          "output_type": "stream",
          "name": "stdout",
          "text": [
            "<re.Match object; span=(29, 34), match='#Cine'>\n",
            "29\n",
            "<re.Match object; span=(36, 45), match='#avengers'>\n",
            "36\n"
          ]
        }
      ]
    },
    {
      "cell_type": "code",
      "source": [
        "# anecdota\n",
        "\"\"\"\n",
        "1. muy buenos recursos informaticos (capacidad de computo muy fuerte), eje:\n",
        "200 Servidores, Cada serv 524 GB Ram, 5 TERAS\n",
        "2. problema: los servidores empezaron a generar indisponibilidad\n",
        "3. analizar: causas, las causas a simple ojo: se estaban usando los recursos para ejecutar\n",
        "            otras cosas personales, que no eran del banco. (se puede ver que esta ejecutando,y etc)\n",
        "4. requisitos funcionales: necesitamos saber que usuario y que dominio esta usando mal los recursos\n",
        "5. analizando los logs de los servidores, y usando expresiones regulares para buscar patrones\n",
        "   generar un sistema de notificación, de monitoreo y de bloqueo\n",
        "\n",
        "  usuario         dominio\n",
        "   lucas.restrepo@bbva.com -- avisos permitidos = 3\n",
        "   supero los avisos:\n",
        "    bloqueaba el acceso y la ejecución de los programas de lucas\n",
        "\"\"\""
      ],
      "metadata": {
        "id": "NUPGuSeMlo84"
      },
      "execution_count": null,
      "outputs": []
    },
    {
      "cell_type": "markdown",
      "source": [
        "### **SUB**\n",
        "\n",
        "Sustituye todas las ocurrenecias"
      ],
      "metadata": {
        "id": "or1EhyWSC6IK"
      }
    },
    {
      "cell_type": "code",
      "source": [
        "print(tweets[2])\n",
        "re.sub(r'#\\w+', \"--\", tweets[2])"
      ],
      "metadata": {
        "colab": {
          "base_uri": "https://localhost:8080/",
          "height": 53
        },
        "id": "kTffIoBuBgwB",
        "outputId": "c38a4ac2-10bf-4583-d133-03910ee067b1"
      },
      "execution_count": 59,
      "outputs": [
        {
          "output_type": "stream",
          "name": "stdout",
          "text": [
            "¡Qué película tan asombrosa! #Cine, #avengers\n"
          ]
        },
        {
          "output_type": "execute_result",
          "data": {
            "text/plain": [
              "'¡Qué película tan asombrosa! --, --'"
            ],
            "application/vnd.google.colaboratory.intrinsic+json": {
              "type": "string"
            }
          },
          "metadata": {},
          "execution_count": 59
        }
      ]
    }
  ]
}