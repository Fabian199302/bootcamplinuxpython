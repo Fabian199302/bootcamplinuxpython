{
  "nbformat": 4,
  "nbformat_minor": 0,
  "metadata": {
    "colab": {
      "provenance": []
    },
    "kernelspec": {
      "name": "python3",
      "display_name": "Python 3"
    },
    "language_info": {
      "name": "python"
    }
  },
  "cells": [
    {
      "cell_type": "markdown",
      "source": [
        "<p><img src=\"https://i.postimg.cc/cCjTSn8r/ss-cumf.png\" alt=\"\" width=\"1280\" height=\"300\" /></p>"
      ],
      "metadata": {
        "id": "bOA5t0iGSPnj"
      }
    },
    {
      "cell_type": "markdown",
      "source": [
        "# **METACONDICIONES & OPERADORES MATEMÁTICOS**"
      ],
      "metadata": {
        "id": "WMUuf5g7Tau-"
      }
    },
    {
      "cell_type": "markdown",
      "source": [
        "\n",
        "**PASOS PARA APRENDER A PROGRAMAR**\n",
        "\n",
        "[![pasos.jpg](https://i.postimg.cc/G2vXybxD/pasos.jpg)](https://postimg.cc/qhMcfVYB)"
      ],
      "metadata": {
        "id": "boxWGZkeSrsS"
      }
    },
    {
      "cell_type": "markdown",
      "source": [
        "## **METACONDICIONES**"
      ],
      "metadata": {
        "id": "gLfk2bybTV6K"
      }
    },
    {
      "cell_type": "code",
      "source": [
        "a: int = 5\n",
        "b: int = 10"
      ],
      "metadata": {
        "id": "954Ix_TsTn3U"
      },
      "execution_count": 1,
      "outputs": []
    },
    {
      "cell_type": "markdown",
      "source": [
        "### **MAYOR**"
      ],
      "metadata": {
        "id": "iTtYhJIvdMSj"
      }
    },
    {
      "cell_type": "code",
      "source": [
        "# mayor\n",
        "a > b"
      ],
      "metadata": {
        "colab": {
          "base_uri": "https://localhost:8080/"
        },
        "id": "ZPsqUSEodD-4",
        "outputId": "4901c752-491d-4e03-f01c-704fcc391fcc"
      },
      "execution_count": 2,
      "outputs": [
        {
          "output_type": "execute_result",
          "data": {
            "text/plain": [
              "False"
            ]
          },
          "metadata": {},
          "execution_count": 2
        }
      ]
    },
    {
      "cell_type": "code",
      "source": [
        "# mayor\n",
        "b > a"
      ],
      "metadata": {
        "colab": {
          "base_uri": "https://localhost:8080/"
        },
        "id": "mICHlYHXdaJS",
        "outputId": "90c02c7a-564e-4adc-c864-b8f42ba502a9"
      },
      "execution_count": 3,
      "outputs": [
        {
          "output_type": "execute_result",
          "data": {
            "text/plain": [
              "True"
            ]
          },
          "metadata": {},
          "execution_count": 3
        }
      ]
    },
    {
      "cell_type": "markdown",
      "source": [
        "### **MENOR**"
      ],
      "metadata": {
        "id": "rC6xy4phdjtD"
      }
    },
    {
      "cell_type": "code",
      "source": [
        "print(f\"a :{a}, b: {b}\")\n",
        "a < b"
      ],
      "metadata": {
        "colab": {
          "base_uri": "https://localhost:8080/"
        },
        "id": "xSpw06r3dlkx",
        "outputId": "994658df-fd41-41c8-d296-39ef6209fbf9"
      },
      "execution_count": 4,
      "outputs": [
        {
          "output_type": "stream",
          "name": "stdout",
          "text": [
            "a :5, b: 10\n"
          ]
        },
        {
          "output_type": "execute_result",
          "data": {
            "text/plain": [
              "True"
            ]
          },
          "metadata": {},
          "execution_count": 4
        }
      ]
    },
    {
      "cell_type": "markdown",
      "source": [
        "### **MENOR O IGUAL**"
      ],
      "metadata": {
        "id": "5B9LH3WCd1XL"
      }
    },
    {
      "cell_type": "code",
      "source": [
        "print(f\"a :{a}, b: {b}\")\n",
        "a <= b"
      ],
      "metadata": {
        "colab": {
          "base_uri": "https://localhost:8080/"
        },
        "id": "XRSp6Zm8d4R9",
        "outputId": "abf983e8-316e-487f-b730-b054421ba499"
      },
      "execution_count": 5,
      "outputs": [
        {
          "output_type": "stream",
          "name": "stdout",
          "text": [
            "a :5, b: 10\n"
          ]
        },
        {
          "output_type": "execute_result",
          "data": {
            "text/plain": [
              "True"
            ]
          },
          "metadata": {},
          "execution_count": 5
        }
      ]
    },
    {
      "cell_type": "code",
      "source": [
        "print(f\"a :{a}, b: {b}\")\n",
        "10 <= b"
      ],
      "metadata": {
        "colab": {
          "base_uri": "https://localhost:8080/"
        },
        "id": "okZiyWS2eAkX",
        "outputId": "95367cd4-023d-4596-c288-3ebf403f3e32"
      },
      "execution_count": 6,
      "outputs": [
        {
          "output_type": "stream",
          "name": "stdout",
          "text": [
            "a :5, b: 10\n"
          ]
        },
        {
          "output_type": "execute_result",
          "data": {
            "text/plain": [
              "True"
            ]
          },
          "metadata": {},
          "execution_count": 6
        }
      ]
    },
    {
      "cell_type": "markdown",
      "source": [
        "### **MAYOR O IGUAL**"
      ],
      "metadata": {
        "id": "6SlcEhlad1Pe"
      }
    },
    {
      "cell_type": "code",
      "source": [
        "print(f\"a :{a}, b: {b}\")\n",
        "a >= b"
      ],
      "metadata": {
        "colab": {
          "base_uri": "https://localhost:8080/"
        },
        "id": "DrbeHO88d0nb",
        "outputId": "a0c26db1-3e69-4c93-83cb-9a04126bd73a"
      },
      "execution_count": 7,
      "outputs": [
        {
          "output_type": "stream",
          "name": "stdout",
          "text": [
            "a :5, b: 10\n"
          ]
        },
        {
          "output_type": "execute_result",
          "data": {
            "text/plain": [
              "False"
            ]
          },
          "metadata": {},
          "execution_count": 7
        }
      ]
    },
    {
      "cell_type": "markdown",
      "source": [
        "### **DIFERENTE**"
      ],
      "metadata": {
        "id": "oNtegSmBebsf"
      }
    },
    {
      "cell_type": "code",
      "source": [
        "print(f\"a :{a}, b: {b}\")\n",
        "# 2.x (descontinuada) | <>\n",
        "a != b"
      ],
      "metadata": {
        "colab": {
          "base_uri": "https://localhost:8080/"
        },
        "id": "Vi_HCGeheZI8",
        "outputId": "b390958e-cace-4423-ea6e-c0d0b70a14d5"
      },
      "execution_count": 8,
      "outputs": [
        {
          "output_type": "stream",
          "name": "stdout",
          "text": [
            "a :5, b: 10\n"
          ]
        },
        {
          "output_type": "execute_result",
          "data": {
            "text/plain": [
              "True"
            ]
          },
          "metadata": {},
          "execution_count": 8
        }
      ]
    },
    {
      "cell_type": "markdown",
      "source": [
        "### **COMPARACIÓN**"
      ],
      "metadata": {
        "id": "gE-BlNBsevx_"
      }
    },
    {
      "cell_type": "code",
      "source": [
        "# =   asignación\n",
        "# ==  comparación\n",
        "\n",
        "a == b"
      ],
      "metadata": {
        "colab": {
          "base_uri": "https://localhost:8080/"
        },
        "id": "zgsz4rbxelZv",
        "outputId": "a66ebd71-2ea1-418c-bace-11d418cc144c"
      },
      "execution_count": 9,
      "outputs": [
        {
          "output_type": "execute_result",
          "data": {
            "text/plain": [
              "False"
            ]
          },
          "metadata": {},
          "execution_count": 9
        }
      ]
    },
    {
      "cell_type": "markdown",
      "source": [
        "## **OPERADORES LÓGICOS**"
      ],
      "metadata": {
        "id": "0AoxseF8fMsL"
      }
    },
    {
      "cell_type": "code",
      "source": [
        "a: int = 1\n",
        "b: int = 5\n",
        "c: int = 2\n",
        "d: int = 3.5"
      ],
      "metadata": {
        "id": "PWJ1OTcVTVLH"
      },
      "execution_count": 10,
      "outputs": []
    },
    {
      "cell_type": "markdown",
      "source": [
        "```\n",
        "and       AND lógico\n",
        "or        OR  lógico\n",
        "not       Negación\n",
        "```\n",
        "\n",
        "\n",
        "\n",
        "\n",
        "```\n",
        "     x      y  (x OR y)  (x AND y)\n",
        "----------------------------------\n",
        " True   True       True      True\n",
        " True  False       True     False\n",
        "False   True       True     False\n",
        "False  False      False     False\n",
        "```"
      ],
      "metadata": {
        "id": "q6200ynMSS79"
      }
    },
    {
      "cell_type": "markdown",
      "source": [
        "### **OR**"
      ],
      "metadata": {
        "id": "LOwej2GCjBcS"
      }
    },
    {
      "cell_type": "code",
      "source": [
        "print(f\"a :{a}, b: {b}, c: {c}, d: {d}\")\n",
        "a > b or c < d\n",
        "# a > b = False\n",
        "# c < d = True"
      ],
      "metadata": {
        "colab": {
          "base_uri": "https://localhost:8080/"
        },
        "id": "J7VqWVmfhglV",
        "outputId": "eda53685-0e3f-41c6-89dd-c22382db24be"
      },
      "execution_count": 11,
      "outputs": [
        {
          "output_type": "stream",
          "name": "stdout",
          "text": [
            "a :1, b: 5, c: 2, d: 3.5\n"
          ]
        },
        {
          "output_type": "execute_result",
          "data": {
            "text/plain": [
              "True"
            ]
          },
          "metadata": {},
          "execution_count": 11
        }
      ]
    },
    {
      "cell_type": "markdown",
      "source": [
        "### **AND**"
      ],
      "metadata": {
        "id": "dfymxcSGjLSY"
      }
    },
    {
      "cell_type": "code",
      "source": [
        "print(f\"a :{a}, b: {b}, c: {c}, d: {d}\")\n",
        "a > b and c < d\n",
        "# a > b = False\n",
        "# c < d = True"
      ],
      "metadata": {
        "colab": {
          "base_uri": "https://localhost:8080/"
        },
        "id": "A8T64Qugign4",
        "outputId": "b964768e-3a0a-4688-ca6c-5009e155a13b"
      },
      "execution_count": 12,
      "outputs": [
        {
          "output_type": "stream",
          "name": "stdout",
          "text": [
            "a :1, b: 5, c: 2, d: 3.5\n"
          ]
        },
        {
          "output_type": "execute_result",
          "data": {
            "text/plain": [
              "False"
            ]
          },
          "metadata": {},
          "execution_count": 12
        }
      ]
    },
    {
      "cell_type": "markdown",
      "source": [
        "### **NOT**"
      ],
      "metadata": {
        "id": "sSOc9f3XjeXW"
      }
    },
    {
      "cell_type": "code",
      "source": [
        "1 > 2"
      ],
      "metadata": {
        "colab": {
          "base_uri": "https://localhost:8080/"
        },
        "id": "zSbrRbCZi-VM",
        "outputId": "0b8c1176-4ca7-449f-b42b-3f7615955751"
      },
      "execution_count": 13,
      "outputs": [
        {
          "output_type": "execute_result",
          "data": {
            "text/plain": [
              "False"
            ]
          },
          "metadata": {},
          "execution_count": 13
        }
      ]
    },
    {
      "cell_type": "code",
      "source": [
        "not 1 > 2"
      ],
      "metadata": {
        "colab": {
          "base_uri": "https://localhost:8080/"
        },
        "id": "lvOqBgRrjng8",
        "outputId": "05f739d2-6784-4459-b8f9-8298a7e20242"
      },
      "execution_count": 14,
      "outputs": [
        {
          "output_type": "execute_result",
          "data": {
            "text/plain": [
              "True"
            ]
          },
          "metadata": {},
          "execution_count": 14
        }
      ]
    },
    {
      "cell_type": "markdown",
      "source": [
        "### **IN**\n",
        "\n",
        "Validar si algún elemento está en el otro\n",
        "\n",
        "Aplica principalmente para iterables\n",
        "\n",
        "```\n",
        "sql - in\n",
        "```\n",
        "\n"
      ],
      "metadata": {
        "id": "A0YXqk6OfMpc"
      }
    },
    {
      "cell_type": "code",
      "source": [
        "curso: str = \"codingupmyfuture\""
      ],
      "metadata": {
        "id": "5DdSuZ-Aky2i"
      },
      "execution_count": 15,
      "outputs": []
    },
    {
      "cell_type": "code",
      "source": [
        "\"up\" in curso"
      ],
      "metadata": {
        "colab": {
          "base_uri": "https://localhost:8080/"
        },
        "id": "fQpXFYsBlTJI",
        "outputId": "f6b40b36-cbc2-406a-95e7-39f119b43930"
      },
      "execution_count": 16,
      "outputs": [
        {
          "output_type": "execute_result",
          "data": {
            "text/plain": [
              "True"
            ]
          },
          "metadata": {},
          "execution_count": 16
        }
      ]
    },
    {
      "cell_type": "code",
      "source": [
        "1 in [1,2,3]"
      ],
      "metadata": {
        "colab": {
          "base_uri": "https://localhost:8080/"
        },
        "id": "si_RKopYlk3B",
        "outputId": "c9e94bb3-c8a3-41dd-8b12-a795ce6b3044"
      },
      "execution_count": 17,
      "outputs": [
        {
          "output_type": "execute_result",
          "data": {
            "text/plain": [
              "True"
            ]
          },
          "metadata": {},
          "execution_count": 17
        }
      ]
    },
    {
      "cell_type": "code",
      "source": [
        "11 in [1,2,3]"
      ],
      "metadata": {
        "colab": {
          "base_uri": "https://localhost:8080/"
        },
        "id": "0cB2aYqGlnwP",
        "outputId": "068d5137-00bb-4e21-911e-7dbd588db155"
      },
      "execution_count": 18,
      "outputs": [
        {
          "output_type": "execute_result",
          "data": {
            "text/plain": [
              "False"
            ]
          },
          "metadata": {},
          "execution_count": 18
        }
      ]
    },
    {
      "cell_type": "code",
      "source": [
        "\"codingupmyfuture\" in curso"
      ],
      "metadata": {
        "colab": {
          "base_uri": "https://localhost:8080/"
        },
        "id": "Ex9PznvFlz4W",
        "outputId": "2d7fdcbe-83cb-48c6-e7d1-fbdfb8636ddc"
      },
      "execution_count": 19,
      "outputs": [
        {
          "output_type": "execute_result",
          "data": {
            "text/plain": [
              "True"
            ]
          },
          "metadata": {},
          "execution_count": 19
        }
      ]
    },
    {
      "cell_type": "markdown",
      "source": [
        "### **IS**\n",
        "\n",
        "Validar si un objeto es igual, pero no en valores, sino en memoria"
      ],
      "metadata": {
        "id": "q5fp9_2vfMmn"
      }
    },
    {
      "cell_type": "code",
      "source": [
        "x: list = [1,2,3]\n",
        "y: list = x\n",
        "z: list = [1,2,3]"
      ],
      "metadata": {
        "id": "Rh1biIBpmMxG"
      },
      "execution_count": 20,
      "outputs": []
    },
    {
      "cell_type": "code",
      "source": [
        "# lo visto"
      ],
      "metadata": {
        "id": "ZOAD2OSUmZxq"
      },
      "execution_count": 21,
      "outputs": []
    },
    {
      "cell_type": "code",
      "source": [
        "x == y"
      ],
      "metadata": {
        "colab": {
          "base_uri": "https://localhost:8080/"
        },
        "id": "N7w7loN8mBsB",
        "outputId": "8334575b-c020-4559-db59-fecfa704498b"
      },
      "execution_count": 22,
      "outputs": [
        {
          "output_type": "execute_result",
          "data": {
            "text/plain": [
              "True"
            ]
          },
          "metadata": {},
          "execution_count": 22
        }
      ]
    },
    {
      "cell_type": "code",
      "source": [
        "x == z"
      ],
      "metadata": {
        "colab": {
          "base_uri": "https://localhost:8080/"
        },
        "id": "K5jIHhJJmeM6",
        "outputId": "56c1b293-dec9-4cb8-e40a-8bb46e3a7e6d"
      },
      "execution_count": 23,
      "outputs": [
        {
          "output_type": "execute_result",
          "data": {
            "text/plain": [
              "True"
            ]
          },
          "metadata": {},
          "execution_count": 23
        }
      ]
    },
    {
      "cell_type": "code",
      "source": [
        "# lo nuevo a estudiar"
      ],
      "metadata": {
        "id": "qSS7TLCImogk"
      },
      "execution_count": 24,
      "outputs": []
    },
    {
      "cell_type": "code",
      "source": [
        "# ID variable x\n",
        "id(x)"
      ],
      "metadata": {
        "colab": {
          "base_uri": "https://localhost:8080/"
        },
        "id": "fzxssJk_mp7B",
        "outputId": "b131f629-0069-4cfc-a0e2-964796adb1dd"
      },
      "execution_count": 25,
      "outputs": [
        {
          "output_type": "execute_result",
          "data": {
            "text/plain": [
              "140365854168128"
            ]
          },
          "metadata": {},
          "execution_count": 25
        }
      ]
    },
    {
      "cell_type": "code",
      "source": [
        "# ID variable y"
      ],
      "metadata": {
        "id": "8FfPsc8Vmp28"
      },
      "execution_count": 26,
      "outputs": []
    },
    {
      "cell_type": "code",
      "source": [
        "id(y)"
      ],
      "metadata": {
        "colab": {
          "base_uri": "https://localhost:8080/"
        },
        "id": "ll-WKL8unCnO",
        "outputId": "f73e6ce4-c1a7-408f-f06d-ef43eb291ae9"
      },
      "execution_count": 27,
      "outputs": [
        {
          "output_type": "execute_result",
          "data": {
            "text/plain": [
              "140365854168128"
            ]
          },
          "metadata": {},
          "execution_count": 27
        }
      ]
    },
    {
      "cell_type": "code",
      "source": [
        "# ID variable z"
      ],
      "metadata": {
        "id": "syEyiMb4m4DC"
      },
      "execution_count": 28,
      "outputs": []
    },
    {
      "cell_type": "code",
      "source": [
        "id(z)"
      ],
      "metadata": {
        "colab": {
          "base_uri": "https://localhost:8080/"
        },
        "id": "e-IhjrXJnFUd",
        "outputId": "4d932403-42d7-404a-c1c6-41ed5bb51ee9"
      },
      "execution_count": 29,
      "outputs": [
        {
          "output_type": "execute_result",
          "data": {
            "text/plain": [
              "140365868679744"
            ]
          },
          "metadata": {},
          "execution_count": 29
        }
      ]
    },
    {
      "cell_type": "code",
      "source": [
        "x is y"
      ],
      "metadata": {
        "colab": {
          "base_uri": "https://localhost:8080/"
        },
        "id": "jzZXr1Jfn2Sh",
        "outputId": "f0fb8d68-4264-4d40-c79c-88c350ca7b32"
      },
      "execution_count": 30,
      "outputs": [
        {
          "output_type": "execute_result",
          "data": {
            "text/plain": [
              "True"
            ]
          },
          "metadata": {},
          "execution_count": 30
        }
      ]
    },
    {
      "cell_type": "code",
      "source": [
        "x is z"
      ],
      "metadata": {
        "colab": {
          "base_uri": "https://localhost:8080/"
        },
        "id": "EAuKCVUln5Nf",
        "outputId": "507e3cef-f1fb-4d03-dc07-8c485e1cba43"
      },
      "execution_count": 31,
      "outputs": [
        {
          "output_type": "execute_result",
          "data": {
            "text/plain": [
              "False"
            ]
          },
          "metadata": {},
          "execution_count": 31
        }
      ]
    },
    {
      "cell_type": "code",
      "source": [
        "# para responder si se usa\n",
        "# en vez de usar.copy usa variable_nueva = a la misma variable"
      ],
      "metadata": {
        "id": "elWr79gWn_AO"
      },
      "execution_count": 32,
      "outputs": []
    },
    {
      "cell_type": "code",
      "source": [
        "y.pop()"
      ],
      "metadata": {
        "colab": {
          "base_uri": "https://localhost:8080/"
        },
        "id": "MRbO1kF8oKqO",
        "outputId": "a0e6297e-3a1a-4bc6-aa38-0b491a467956"
      },
      "execution_count": 33,
      "outputs": [
        {
          "output_type": "execute_result",
          "data": {
            "text/plain": [
              "3"
            ]
          },
          "metadata": {},
          "execution_count": 33
        }
      ]
    },
    {
      "cell_type": "code",
      "source": [
        "print(x)\n",
        "print(y)"
      ],
      "metadata": {
        "colab": {
          "base_uri": "https://localhost:8080/"
        },
        "id": "SOMYUzjGoSIP",
        "outputId": "46a91e31-115b-42f8-d151-cc1dae6f8fe0"
      },
      "execution_count": 34,
      "outputs": [
        {
          "output_type": "stream",
          "name": "stdout",
          "text": [
            "[1, 2]\n",
            "[1, 2]\n"
          ]
        }
      ]
    },
    {
      "cell_type": "code",
      "source": [
        "w = x.copy()"
      ],
      "metadata": {
        "id": "oDQvtRPRoj6-"
      },
      "execution_count": 35,
      "outputs": []
    },
    {
      "cell_type": "code",
      "source": [
        "id(x)"
      ],
      "metadata": {
        "colab": {
          "base_uri": "https://localhost:8080/"
        },
        "id": "ztoSekwNooah",
        "outputId": "c2d29a5c-e529-450b-c202-bccb831bc2aa"
      },
      "execution_count": 36,
      "outputs": [
        {
          "output_type": "execute_result",
          "data": {
            "text/plain": [
              "140365854168128"
            ]
          },
          "metadata": {},
          "execution_count": 36
        }
      ]
    },
    {
      "cell_type": "code",
      "source": [
        "id(w)"
      ],
      "metadata": {
        "colab": {
          "base_uri": "https://localhost:8080/"
        },
        "id": "IdawzIuSopu7",
        "outputId": "277eb6d9-571e-447d-f9da-08654f45dcd8"
      },
      "execution_count": 37,
      "outputs": [
        {
          "output_type": "execute_result",
          "data": {
            "text/plain": [
              "140365873402240"
            ]
          },
          "metadata": {},
          "execution_count": 37
        }
      ]
    },
    {
      "cell_type": "code",
      "source": [
        "w.pop()"
      ],
      "metadata": {
        "colab": {
          "base_uri": "https://localhost:8080/"
        },
        "id": "B67okCj7ouwF",
        "outputId": "199a120c-0367-40f5-bea0-3417a67cb674"
      },
      "execution_count": 38,
      "outputs": [
        {
          "output_type": "execute_result",
          "data": {
            "text/plain": [
              "2"
            ]
          },
          "metadata": {},
          "execution_count": 38
        }
      ]
    },
    {
      "cell_type": "code",
      "source": [
        "print(x)\n",
        "print(w)"
      ],
      "metadata": {
        "colab": {
          "base_uri": "https://localhost:8080/"
        },
        "id": "aJXjriE8owqa",
        "outputId": "c34e1165-5ca3-4dc0-8336-dd1673373cdd"
      },
      "execution_count": 39,
      "outputs": [
        {
          "output_type": "stream",
          "name": "stdout",
          "text": [
            "[1, 2]\n",
            "[1]\n"
          ]
        }
      ]
    },
    {
      "cell_type": "code",
      "source": [
        "id(x) == id(y)"
      ],
      "metadata": {
        "colab": {
          "base_uri": "https://localhost:8080/"
        },
        "id": "nRNCcjJJpJH3",
        "outputId": "d3a8f116-3675-4187-eb5d-c180d38344bb"
      },
      "execution_count": 40,
      "outputs": [
        {
          "output_type": "execute_result",
          "data": {
            "text/plain": [
              "True"
            ]
          },
          "metadata": {},
          "execution_count": 40
        }
      ]
    },
    {
      "cell_type": "markdown",
      "source": [
        "## **OPERADORES MATEMÁTICOS**"
      ],
      "metadata": {
        "id": "5Xi9ZsPfSmqG"
      }
    },
    {
      "cell_type": "markdown",
      "source": [
        "### **JERARQUIA**"
      ],
      "metadata": {
        "id": "28kDfQmDsttN"
      }
    },
    {
      "cell_type": "markdown",
      "source": [
        "Orden de operaciones matemáticas:\n",
        "\n",
        "1.   Paréntesis\n",
        "2.   Exponente\n",
        "3.   Multiplicación\n",
        "4.   División\n",
        "5.   Suma\n",
        "6.   Resta\n",
        "\n",
        "\n",
        "Nota: las operaciones de de multiplicación y división se realiza de izquierda a derecha\n",
        "ejemplo: `7 + (6 × 5^2 + 3 + (1+1 + (2+2)))`\n",
        "\n",
        "\n",
        "problema: `7 + (6 × 5^2 + 3)`\n",
        "\n",
        "1. `(6 × 5^2 + 3)`\n",
        "2. `(6 × 25 + 3)`\n",
        "3. `(150 + 3)`\n",
        "4. `(153)`\n",
        "5. `7 + (153)`\n",
        "160. `R == 160`\n",
        "\n",
        "\n",
        "ejemplo_2: valor a: 1, valor b: 5,  valor c: 2,  valor d: 3.5\n",
        "\n",
        "`(a > b) and (c < d)`\n",
        "1. (a > b) = False\n",
        "2. (a > b) = True\n",
        "False True = False\n"
      ],
      "metadata": {
        "id": "yml53moYSS2b"
      }
    },
    {
      "cell_type": "code",
      "source": [
        "# inclusive en condiciones generales, se evalúan primero los paréntesis\n",
        "\n",
        "a > b and (c < d)\n",
        "# (c < d)\n",
        "# a > b"
      ],
      "metadata": {
        "id": "G3zPGE3gqLhi",
        "colab": {
          "base_uri": "https://localhost:8080/"
        },
        "outputId": "401ab77b-6909-4d93-d719-a3d75e424534"
      },
      "execution_count": 41,
      "outputs": [
        {
          "output_type": "execute_result",
          "data": {
            "text/plain": [
              "False"
            ]
          },
          "metadata": {},
          "execution_count": 41
        }
      ]
    },
    {
      "cell_type": "code",
      "source": [
        "a > b and (c < d) and a > c\n",
        "\n",
        "# (c < d)\n",
        "# a > b\n",
        "# a > c"
      ],
      "metadata": {
        "id": "A-Rkgef3qlTN",
        "colab": {
          "base_uri": "https://localhost:8080/"
        },
        "outputId": "8a67acfb-a693-46ee-c271-616d08aca462"
      },
      "execution_count": 42,
      "outputs": [
        {
          "output_type": "execute_result",
          "data": {
            "text/plain": [
              "False"
            ]
          },
          "metadata": {},
          "execution_count": 42
        }
      ]
    },
    {
      "cell_type": "code",
      "source": [
        "a: int = 1\n",
        "b: int = 5\n",
        "c: int = 2\n",
        "d: int = 3.5"
      ],
      "metadata": {
        "id": "Gk3XBCU7prz9"
      },
      "execution_count": 43,
      "outputs": []
    },
    {
      "cell_type": "markdown",
      "source": [
        "### **SUMA**"
      ],
      "metadata": {
        "id": "vJc9iDkHsw-X"
      }
    },
    {
      "cell_type": "code",
      "source": [
        "a + b"
      ],
      "metadata": {
        "colab": {
          "base_uri": "https://localhost:8080/"
        },
        "id": "7kCWBhxyqHVJ",
        "outputId": "d9d46b8f-1d70-4e69-8d6e-95de6e027508"
      },
      "execution_count": 44,
      "outputs": [
        {
          "output_type": "execute_result",
          "data": {
            "text/plain": [
              "6"
            ]
          },
          "metadata": {},
          "execution_count": 44
        }
      ]
    },
    {
      "cell_type": "code",
      "source": [
        "a + b + c"
      ],
      "metadata": {
        "colab": {
          "base_uri": "https://localhost:8080/"
        },
        "id": "mB5iSXSlsmv8",
        "outputId": "91694e85-4964-4fcd-b47f-21d18866644e"
      },
      "execution_count": 45,
      "outputs": [
        {
          "output_type": "execute_result",
          "data": {
            "text/plain": [
              "8"
            ]
          },
          "metadata": {},
          "execution_count": 45
        }
      ]
    },
    {
      "cell_type": "markdown",
      "source": [
        "### **RESTA**"
      ],
      "metadata": {
        "id": "HGTpnV0tsz2F"
      }
    },
    {
      "cell_type": "code",
      "source": [
        "print(f\"a :{a}, b: {b}, c: {c}, d: {d}\")\n",
        "a - b"
      ],
      "metadata": {
        "colab": {
          "base_uri": "https://localhost:8080/"
        },
        "id": "gigh17gasqO-",
        "outputId": "422eec9d-4f9b-4ced-f25c-aca09e64f3cf"
      },
      "execution_count": 46,
      "outputs": [
        {
          "output_type": "stream",
          "name": "stdout",
          "text": [
            "a :1, b: 5, c: 2, d: 3.5\n"
          ]
        },
        {
          "output_type": "execute_result",
          "data": {
            "text/plain": [
              "-4"
            ]
          },
          "metadata": {},
          "execution_count": 46
        }
      ]
    },
    {
      "cell_type": "markdown",
      "source": [
        "### **MULTIPLICACIÓN**"
      ],
      "metadata": {
        "id": "GMNLEA8Ps3YL"
      }
    },
    {
      "cell_type": "code",
      "source": [
        "5 * 2"
      ],
      "metadata": {
        "colab": {
          "base_uri": "https://localhost:8080/"
        },
        "id": "0ggwKZODs6vc",
        "outputId": "5a166f65-58c2-4a52-adb7-7c3a3f38f911"
      },
      "execution_count": 47,
      "outputs": [
        {
          "output_type": "execute_result",
          "data": {
            "text/plain": [
              "10"
            ]
          },
          "metadata": {},
          "execution_count": 47
        }
      ]
    },
    {
      "cell_type": "markdown",
      "source": [
        "### **DIVISIÓN NORMAL**"
      ],
      "metadata": {
        "id": "atETSHBAtBMJ"
      }
    },
    {
      "cell_type": "code",
      "source": [
        "5/2"
      ],
      "metadata": {
        "colab": {
          "base_uri": "https://localhost:8080/"
        },
        "id": "AZx6MwaQtDrf",
        "outputId": "8681c283-8395-458a-d9fb-3c111c2a6ea5"
      },
      "execution_count": 48,
      "outputs": [
        {
          "output_type": "execute_result",
          "data": {
            "text/plain": [
              "2.5"
            ]
          },
          "metadata": {},
          "execution_count": 48
        }
      ]
    },
    {
      "cell_type": "markdown",
      "source": [
        "### **DIVISIÓN ENTERA**"
      ],
      "metadata": {
        "id": "WNDAtM2mtF6N"
      }
    },
    {
      "cell_type": "code",
      "source": [
        "5//2"
      ],
      "metadata": {
        "colab": {
          "base_uri": "https://localhost:8080/"
        },
        "id": "hu7hDOvotAdw",
        "outputId": "11b50966-d01a-4c00-f7b0-d5c62d8e7dd6"
      },
      "execution_count": 49,
      "outputs": [
        {
          "output_type": "execute_result",
          "data": {
            "text/plain": [
              "2"
            ]
          },
          "metadata": {},
          "execution_count": 49
        }
      ]
    },
    {
      "cell_type": "markdown",
      "source": [
        "### **EXPONENCIAL**"
      ],
      "metadata": {
        "id": "clWWj7CbtZWU"
      }
    },
    {
      "cell_type": "code",
      "source": [
        "5 ** 2"
      ],
      "metadata": {
        "colab": {
          "base_uri": "https://localhost:8080/"
        },
        "id": "UkpDmuKrtUAP",
        "outputId": "a1d4f580-b855-4192-bf17-3f89f80397d0"
      },
      "execution_count": 50,
      "outputs": [
        {
          "output_type": "execute_result",
          "data": {
            "text/plain": [
              "25"
            ]
          },
          "metadata": {},
          "execution_count": 50
        }
      ]
    },
    {
      "cell_type": "markdown",
      "source": [
        "### **MÓDULO**"
      ],
      "metadata": {
        "id": "Rq3TVXnhtngF"
      }
    },
    {
      "cell_type": "code",
      "source": [
        "print(f\"a :{a}, b: {b}, c: {c}, d: {d}\")"
      ],
      "metadata": {
        "colab": {
          "base_uri": "https://localhost:8080/"
        },
        "id": "Pnxd_P5otnNS",
        "outputId": "54075df6-2c44-4f36-f790-60a0c3aa622c"
      },
      "execution_count": 51,
      "outputs": [
        {
          "output_type": "stream",
          "name": "stdout",
          "text": [
            "a :1, b: 5, c: 2, d: 3.5\n"
          ]
        }
      ]
    },
    {
      "cell_type": "code",
      "source": [
        "4 % 2"
      ],
      "metadata": {
        "colab": {
          "base_uri": "https://localhost:8080/"
        },
        "id": "0zcJi_E7ts29",
        "outputId": "5af01235-e157-487e-c5f4-c1b1ffa9ad05"
      },
      "execution_count": 52,
      "outputs": [
        {
          "output_type": "execute_result",
          "data": {
            "text/plain": [
              "0"
            ]
          },
          "metadata": {},
          "execution_count": 52
        }
      ]
    },
    {
      "cell_type": "code",
      "source": [
        "5 % 2"
      ],
      "metadata": {
        "colab": {
          "base_uri": "https://localhost:8080/"
        },
        "id": "evBdid-xtwff",
        "outputId": "2301ec3d-5421-44ac-944e-ecf992a226bf"
      },
      "execution_count": 53,
      "outputs": [
        {
          "output_type": "execute_result",
          "data": {
            "text/plain": [
              "1"
            ]
          },
          "metadata": {},
          "execution_count": 53
        }
      ]
    },
    {
      "cell_type": "code",
      "source": [
        "# truco\n",
        "4 % 2 == 0"
      ],
      "metadata": {
        "colab": {
          "base_uri": "https://localhost:8080/"
        },
        "id": "MPmutNE4uFf7",
        "outputId": "ba954933-229e-437b-89f9-65a2e1c7957a"
      },
      "execution_count": 54,
      "outputs": [
        {
          "output_type": "execute_result",
          "data": {
            "text/plain": [
              "True"
            ]
          },
          "metadata": {},
          "execution_count": 54
        }
      ]
    },
    {
      "cell_type": "code",
      "source": [
        "# ejemplo\n",
        "print(f\"a :{a}, b: {b}, c: {c}, d: {d}\")\n",
        "(b + a) % 2 == 0"
      ],
      "metadata": {
        "colab": {
          "base_uri": "https://localhost:8080/"
        },
        "id": "ah0uTNkuuPPs",
        "outputId": "b09187c8-2a1f-4f5e-8546-4125d499703e"
      },
      "execution_count": 55,
      "outputs": [
        {
          "output_type": "stream",
          "name": "stdout",
          "text": [
            "a :1, b: 5, c: 2, d: 3.5\n"
          ]
        },
        {
          "output_type": "execute_result",
          "data": {
            "text/plain": [
              "True"
            ]
          },
          "metadata": {},
          "execution_count": 55
        }
      ]
    },
    {
      "cell_type": "markdown",
      "source": [
        "**GRUPAL**\n",
        "\n",
        "\n",
        "\n",
        "```\n",
        ". == x == *\n",
        "```\n",
        "\n",
        "\n",
        "\n",
        "```\n",
        "2 + 5 · (2 · 3)³\n",
        "\n",
        "1. (2 · 3) = 6\n",
        "2. 6³ = 216\n",
        "3. 5 * 216 = 1080\n",
        "4. 2 + 1080\n",
        "5. R 1082\n",
        "```\n",
        "\n"
      ],
      "metadata": {
        "id": "rBgZvNyVvHw-"
      }
    }
  ]
}
