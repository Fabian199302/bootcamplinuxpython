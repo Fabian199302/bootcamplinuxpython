{
  "nbformat": 4,
  "nbformat_minor": 0,
  "metadata": {
    "colab": {
      "provenance": []
    },
    "kernelspec": {
      "name": "python3",
      "display_name": "Python 3"
    },
    "language_info": {
      "name": "python"
    }
  },
  "cells": [
    {
      "cell_type": "markdown",
      "source": [
        "<p><img src=\"https://i.postimg.cc/cCjTSn8r/ss-cumf.png\" alt=\"\" width=\"1280\" height=\"300\" /></p>"
      ],
      "metadata": {
        "id": "k5COmiebqSnP"
      }
    },
    {
      "cell_type": "markdown",
      "source": [
        "# **CONDICIONALES**"
      ],
      "metadata": {
        "id": "SZ4fxjPJwPLk"
      }
    },
    {
      "cell_type": "markdown",
      "source": [
        "Un condicional es una estructura de control que permite que un programa tome decisiones basadas en ciertas condiciones.\n",
        "\n",
        "```python\n",
        "\n",
        "if condicion:     # [1] requerido\n",
        "  accion\n",
        "elif condicion:  #  [2] opcionales\n",
        "  accion\n",
        "elif condicion:\n",
        "  accion\n",
        "else:            #  [3] opcional\n",
        "  accion\n",
        "```\n",
        "\n",
        "Notas:\n",
        "\n",
        "1. Los condicionales, la lógica de operadores y metacondiciones funcionan con lógica booleana\n",
        "\n",
        "2. Solo se entra cuando se cumple una condición"
      ],
      "metadata": {
        "id": "d-8SrqBzqxJd"
      }
    },
    {
      "cell_type": "markdown",
      "source": [
        "## **IF SENCILLO**"
      ],
      "metadata": {
        "id": "qFRtz2AwwR3r"
      }
    },
    {
      "cell_type": "code",
      "source": [
        "1 == 1"
      ],
      "metadata": {
        "colab": {
          "base_uri": "https://localhost:8080/"
        },
        "id": "8sLZFJh8uX7J",
        "outputId": "79acbebf-8c81-4889-c792-1d24747bd44d"
      },
      "execution_count": 1,
      "outputs": [
        {
          "output_type": "execute_result",
          "data": {
            "text/plain": [
              "True"
            ]
          },
          "metadata": {},
          "execution_count": 1
        }
      ]
    },
    {
      "cell_type": "code",
      "source": [
        "if 1 == 1:\n",
        "  print(\"cumplio\")"
      ],
      "metadata": {
        "colab": {
          "base_uri": "https://localhost:8080/"
        },
        "id": "RIFt_3UjuAqJ",
        "outputId": "46732b15-7bf2-4c0d-ca3d-a98a54d2a7a9"
      },
      "execution_count": 2,
      "outputs": [
        {
          "output_type": "stream",
          "name": "stdout",
          "text": [
            "cumplio\n"
          ]
        }
      ]
    },
    {
      "cell_type": "code",
      "source": [
        "resultado = 1 == 1\n",
        "resultado"
      ],
      "metadata": {
        "colab": {
          "base_uri": "https://localhost:8080/"
        },
        "id": "sofmutERvIjj",
        "outputId": "40242c4d-def8-4b0a-8008-2d6888d4ee5c"
      },
      "execution_count": 3,
      "outputs": [
        {
          "output_type": "execute_result",
          "data": {
            "text/plain": [
              "True"
            ]
          },
          "metadata": {},
          "execution_count": 3
        }
      ]
    },
    {
      "cell_type": "code",
      "source": [
        "# no realizar, redundante | mala práctica\n",
        "if resultado == True:\n",
        "  print(\"cumplió\")"
      ],
      "metadata": {
        "colab": {
          "base_uri": "https://localhost:8080/"
        },
        "id": "rKe12WIrvON-",
        "outputId": "f4bcb990-191a-416a-e27f-9e42fe6e8918"
      },
      "execution_count": 4,
      "outputs": [
        {
          "output_type": "stream",
          "name": "stdout",
          "text": [
            "cumplió\n"
          ]
        }
      ]
    },
    {
      "cell_type": "code",
      "source": [
        "# buenas prácticas\n",
        "if resultado:\n",
        "  print(\"cumplió\")"
      ],
      "metadata": {
        "colab": {
          "base_uri": "https://localhost:8080/"
        },
        "id": "kZ7fDD5WvSmZ",
        "outputId": "df8f25f0-9c64-4894-ab9d-84d2f0faa192"
      },
      "execution_count": 5,
      "outputs": [
        {
          "output_type": "stream",
          "name": "stdout",
          "text": [
            "cumplió\n"
          ]
        }
      ]
    },
    {
      "cell_type": "code",
      "source": [
        "if 1 == 1:\n",
        "  print(\"cumplió\")\n",
        "print(\"haciendo otra cosa\")"
      ],
      "metadata": {
        "colab": {
          "base_uri": "https://localhost:8080/"
        },
        "id": "_Ny23KvYvnEi",
        "outputId": "510e6062-d1ef-45d8-c53b-d8d8e8aad8aa"
      },
      "execution_count": 6,
      "outputs": [
        {
          "output_type": "stream",
          "name": "stdout",
          "text": [
            "cumplió\n",
            "haciendo otra cosa\n"
          ]
        }
      ]
    },
    {
      "cell_type": "markdown",
      "source": [
        "## **IF ELSE**"
      ],
      "metadata": {
        "id": "AMIoSOidwVvs"
      }
    },
    {
      "cell_type": "code",
      "source": [
        "if 1 == 1:\n",
        "  print(\"cumplió\")\n",
        "else:\n",
        "  print(\"NO cumplió\")"
      ],
      "metadata": {
        "colab": {
          "base_uri": "https://localhost:8080/"
        },
        "id": "_eqSr8_Dv21D",
        "outputId": "1bcb9435-697d-45cc-cdb9-24a1a362c346"
      },
      "execution_count": 7,
      "outputs": [
        {
          "output_type": "stream",
          "name": "stdout",
          "text": [
            "cumplió\n"
          ]
        }
      ]
    },
    {
      "cell_type": "code",
      "source": [
        "if 2 == 1:\n",
        "  print(\"cumplió\")\n",
        "else:\n",
        "  print(\"NO cumplió\")"
      ],
      "metadata": {
        "colab": {
          "base_uri": "https://localhost:8080/"
        },
        "id": "yf0VEQpiv_gt",
        "outputId": "f339bec9-e7d9-4079-e1b1-c58c5e3ff508"
      },
      "execution_count": 8,
      "outputs": [
        {
          "output_type": "stream",
          "name": "stdout",
          "text": [
            "NO cumplió\n"
          ]
        }
      ]
    },
    {
      "cell_type": "markdown",
      "source": [
        "## **IF ELSE IF**"
      ],
      "metadata": {
        "id": "9I-1pf-cwYkC"
      }
    },
    {
      "cell_type": "code",
      "source": [
        "a : int = 1\n",
        "b : int = 1\n",
        "\n",
        "if a == b:\n",
        "  print(\"a es igual a: b\")\n",
        "elif a > b:\n",
        "  print(\"a es mayor que b\")\n",
        "elif a < b:\n",
        "  print(\"a es menor que b\")\n"
      ],
      "metadata": {
        "colab": {
          "base_uri": "https://localhost:8080/"
        },
        "id": "HbfTTIptwgPM",
        "outputId": "8c25d010-c4da-4ace-ea7d-cd8e5b9f615f"
      },
      "execution_count": 9,
      "outputs": [
        {
          "output_type": "stream",
          "name": "stdout",
          "text": [
            "a es igual a: b\n"
          ]
        }
      ]
    },
    {
      "cell_type": "markdown",
      "source": [
        "## **IF ELSE IF ELSE**"
      ],
      "metadata": {
        "id": "i7A3X5LTyIZd"
      }
    },
    {
      "cell_type": "code",
      "source": [
        "a : int = 0\n",
        "b : int = 1\n",
        "\n",
        "if a > b: # or b == a:\n",
        "  print(\"a es mayor que b\")\n",
        "elif a < b:\n",
        "  print(\"a es menor que b\")\n",
        "else:\n",
        "  print(\"ninguno de los casos corresponde\")"
      ],
      "metadata": {
        "colab": {
          "base_uri": "https://localhost:8080/"
        },
        "id": "zUrU_uoVxfDM",
        "outputId": "250cba10-b091-474c-9c31-159606c3eb18"
      },
      "execution_count": 10,
      "outputs": [
        {
          "output_type": "stream",
          "name": "stdout",
          "text": [
            "a es menor que b\n"
          ]
        }
      ]
    },
    {
      "cell_type": "code",
      "source": [
        "\"\"\"\n",
        "  Quiero validar si el tipo documento ingresado en la app es válido\n",
        "\n",
        "  CC = Cédula\n",
        "  NIT = Empresas\n",
        "  CE = Cédula de extranj.\n",
        "  PASP = Pasaporte\n",
        "\"\"\""
      ],
      "metadata": {
        "id": "n_cLqxMLyNJk",
        "colab": {
          "base_uri": "https://localhost:8080/",
          "height": 35
        },
        "outputId": "d03e0172-f53e-4ed9-8a6b-de8a58362178"
      },
      "execution_count": 11,
      "outputs": [
        {
          "output_type": "execute_result",
          "data": {
            "text/plain": [
              "'\\n  Quiero validar si el tipo documento ingresado en la app es válido\\n\\n  CC = Cédula\\n  NIT = Empresas\\n  CE = Cédula de extranj.\\n  PASP = Pasaporte\\n'"
            ],
            "application/vnd.google.colaboratory.intrinsic+json": {
              "type": "string"
            }
          },
          "metadata": {},
          "execution_count": 11
        }
      ]
    },
    {
      "cell_type": "code",
      "source": [
        "# simple\n",
        "lista_documento: list = [\"CC\", \"NIT\", \"CE\", \"PASP\"]\n",
        "tipo_doc: str = input(\"por favor ingrese el documento, valores permitidos: \\n\" + \"\\n\".join(lista_documento))\n",
        "# documento_valido : bandera logica | ESTUDIAR\n",
        "\n",
        "# realizar validaciones\n",
        "documento_valido: bool = False\n",
        "# alternativo\n",
        "# documento_valido: bool = None\n",
        "if tipo_doc == \"CC\":\n",
        "  documento_valido = True\n",
        "elif tipo_doc == \"NIT\":\n",
        "  documento_valido = True\n",
        "elif tipo_doc == \"CE\":\n",
        "  documento_valido = True\n",
        "elif tipo_doc == \"PASP\":\n",
        "  documento_valido = True\n",
        "else:\n",
        "  # documento_valido = False\n",
        "  print(\"el dato ingresado por el usuario es inválido\")\n",
        "  print(f\"valor ingresado {tipo_doc}, valores permitidos: {lista_documento}\")\n",
        "\n",
        "if documento_valido:\n",
        "  print(\"¡Yupii! El dato ingresado por el usuario es válido\")\n"
      ],
      "metadata": {
        "colab": {
          "base_uri": "https://localhost:8080/"
        },
        "id": "dPx4WQs-ykIW",
        "outputId": "0019f95c-3514-443e-cb78-2e92b87cbae8"
      },
      "execution_count": 12,
      "outputs": [
        {
          "output_type": "stream",
          "name": "stdout",
          "text": [
            "por favor ingrese el documento, valores permitidos: \n",
            "CC\n",
            "NIT\n",
            "CE\n",
            "PASPcc\n",
            "el dato ingresado por el usuario es inválido\n",
            "valor ingresado cc, valores permitidos: ['CC', 'NIT', 'CE', 'PASP']\n"
          ]
        }
      ]
    },
    {
      "cell_type": "code",
      "source": [
        "#optimizado\n",
        "lista_documento: list = [\"CC\", \"NIT\", \"CE\", \"PASP\"]\n",
        "tipo_doc: str = input(\"por favor ingrese el documento, valores permitidos: \\n\" + \"\\n\".join(lista_documento))\n",
        "# documento_valido : bandera logica | ESTUDIAR\n",
        "\n",
        "# realizar validaciones\n",
        "documento_valido: bool = False\n",
        "if tipo_doc in lista_documento:\n",
        "  documento_valido = True\n",
        "else:\n",
        "  print(\"el dato ingresado por el usuario es inválido\")\n",
        "  print(f\"valor ingresado {tipo_doc}, valores permitidos: {lista_documento}\")\n",
        "\n",
        "if documento_valido:\n",
        "  print(\"¡Yupii! El dato ingresado por el usuario es válido\")"
      ],
      "metadata": {
        "id": "kwCCK_F_2dGX",
        "colab": {
          "base_uri": "https://localhost:8080/"
        },
        "outputId": "6ae4ac93-cf72-481e-8776-b6f53eba1e50"
      },
      "execution_count": 13,
      "outputs": [
        {
          "output_type": "stream",
          "name": "stdout",
          "text": [
            "por favor ingrese el documento, valores permitidos: \n",
            "CC\n",
            "NIT\n",
            "CE\n",
            "PASPce\n",
            "el dato ingresado por el usuario es inválido\n",
            "valor ingresado ce, valores permitidos: ['CC', 'NIT', 'CE', 'PASP']\n"
          ]
        }
      ]
    },
    {
      "cell_type": "code",
      "source": [
        "# [IMPORTANTISIMO] comprehension |  logica comprimida de una sola linea\n",
        "# aplica para: condicionales, bucles, y funciones"
      ],
      "metadata": {
        "id": "aRk1ZOiIzX2_"
      },
      "execution_count": 14,
      "outputs": []
    },
    {
      "cell_type": "code",
      "source": [
        "#optimizado\n",
        "lista_documento: list = [\"CC\", \"NIT\", \"CE\", \"PASP\"]\n",
        "tipo_doc: str = input(\"por favor ingrese el documento, valores permitidos: \\n\" + \"\\n\".join(lista_documento))\n",
        "# documento_valido : bandera logica | ESTUDIAR\n",
        "\n",
        "# realizar validaciones\n",
        "documento_valido: bool = False\n",
        "if tipo_doc in lista_documento:\n",
        "  # no almacene estados |linea 85\n",
        "  print(\"entró\")\n",
        "else:\n",
        "  print(\"el dato ingresado por el usuario es inválido\")\n",
        "  print(f\"valor ingresado {tipo_doc}, valores permitidos: {lista_documento}\")\n",
        "\n",
        "#posteriormente, estamos en la linea 250\n",
        "if documento_valido:\n",
        "  print(\"¡Yupii! El dato ingresado por el usuario es válido\")"
      ],
      "metadata": {
        "colab": {
          "base_uri": "https://localhost:8080/"
        },
        "id": "AjcxTHjm5doP",
        "outputId": "555fdbad-9c13-4891-83c8-7305e9fe151c"
      },
      "execution_count": 15,
      "outputs": [
        {
          "output_type": "stream",
          "name": "stdout",
          "text": [
            "por favor ingrese el documento, valores permitidos: \n",
            "CC\n",
            "NIT\n",
            "CE\n",
            "PASPnit\n",
            "el dato ingresado por el usuario es inválido\n",
            "valor ingresado nit, valores permitidos: ['CC', 'NIT', 'CE', 'PASP']\n"
          ]
        }
      ]
    },
    {
      "cell_type": "markdown",
      "source": [
        "## **IF ELSE COMOPRIMIDO**"
      ],
      "metadata": {
        "id": "_G8RJHH46R2O"
      }
    },
    {
      "cell_type": "markdown",
      "source": [
        "```python\n",
        "valor_si_cumple if condicion else valor_si_no_cumple\n",
        "```"
      ],
      "metadata": {
        "id": "iEwmR_Tq1-tC"
      }
    },
    {
      "cell_type": "code",
      "source": [
        "lista_documento: list = [\"CC\", \"NIT\", \"CE\", \"PASP\"]"
      ],
      "metadata": {
        "id": "NNExYeq72Zzz"
      },
      "execution_count": 16,
      "outputs": []
    },
    {
      "cell_type": "code",
      "source": [
        "# forma normal\n",
        "lista_valida = False\n",
        "if len(lista_documento) == 4:\n",
        "  lista_valida = True\n",
        "lista_valida"
      ],
      "metadata": {
        "colab": {
          "base_uri": "https://localhost:8080/"
        },
        "id": "Kld3funY3GMK",
        "outputId": "fde658ed-3e09-41ec-98a6-e226c454735a"
      },
      "execution_count": 17,
      "outputs": [
        {
          "output_type": "execute_result",
          "data": {
            "text/plain": [
              "True"
            ]
          },
          "metadata": {},
          "execution_count": 17
        }
      ]
    },
    {
      "cell_type": "code",
      "source": [
        "# forma comprimida\n",
        "# valor_si_cumple if condicion else valor_si_no_cumple\n",
        "lista_valida = True if len(lista_documento) == 4 else False\n",
        "lista_valida"
      ],
      "metadata": {
        "colab": {
          "base_uri": "https://localhost:8080/"
        },
        "id": "cNS7_Zv83d43",
        "outputId": "69be4f7f-771a-4e0a-86c4-170844e693cd"
      },
      "execution_count": 18,
      "outputs": [
        {
          "output_type": "execute_result",
          "data": {
            "text/plain": [
              "True"
            ]
          },
          "metadata": {},
          "execution_count": 18
        }
      ]
    },
    {
      "cell_type": "code",
      "source": [
        "# forma stringas\n",
        "# valor_si_cumple if condicion else valor_si_no_cumple\n",
        "lista_valida = \"YES\" if len(lista_documento) == 4 else \"NO\"\n",
        "lista_valida"
      ],
      "metadata": {
        "colab": {
          "base_uri": "https://localhost:8080/",
          "height": 35
        },
        "id": "J_xt9A1l4rOz",
        "outputId": "5d6976b1-716a-481b-fcde-fcdcc02b69b6"
      },
      "execution_count": 19,
      "outputs": [
        {
          "output_type": "execute_result",
          "data": {
            "text/plain": [
              "'YES'"
            ],
            "application/vnd.google.colaboratory.intrinsic+json": {
              "type": "string"
            }
          },
          "metadata": {},
          "execution_count": 19
        }
      ]
    },
    {
      "cell_type": "code",
      "source": [
        "print(True if len(lista_documento) == 4 else False)"
      ],
      "metadata": {
        "colab": {
          "base_uri": "https://localhost:8080/"
        },
        "id": "ZssbRBY_440Z",
        "outputId": "2d12029a-2253-4e39-bae8-48f82114e406"
      },
      "execution_count": 20,
      "outputs": [
        {
          "output_type": "stream",
          "name": "stdout",
          "text": [
            "True\n"
          ]
        }
      ]
    },
    {
      "cell_type": "code",
      "source": [
        "if (True if len(lista_documento) == 4 else False):\n",
        "  print(\"OK\")"
      ],
      "metadata": {
        "colab": {
          "base_uri": "https://localhost:8080/"
        },
        "id": "Ns_g9tf14_2p",
        "outputId": "9005cb9f-93ca-4990-e622-4942f2c261ff"
      },
      "execution_count": 21,
      "outputs": [
        {
          "output_type": "stream",
          "name": "stdout",
          "text": [
            "OK\n"
          ]
        }
      ]
    },
    {
      "cell_type": "markdown",
      "source": [
        "## **PASS**\n",
        "\n",
        "Es muy poderoso, aunque no parezca (POO). Lo entenderán luego.\n",
        "Por el momento sirve para definir estructuras vacías"
      ],
      "metadata": {
        "id": "RjKcz7Zl6j7Y"
      }
    },
    {
      "cell_type": "code",
      "source": [
        "# aquí validaré x cosa\n",
        "if 1 == 1:\n",
        "  # no mplementación\n",
        "  pass"
      ],
      "metadata": {
        "id": "z_sTj7Vf6Q5v"
      },
      "execution_count": 22,
      "outputs": []
    },
    {
      "cell_type": "markdown",
      "source": [
        "## **MATCH**\n",
        "\n",
        "Solo es válido a partir de la versión `3.10` de Python\n",
        "\n",
        "```python\n",
        "  match dato:\n",
        "    case condicion:\n",
        "      # logica\n",
        "    case n:\n",
        "      # ...\n",
        "```\n",
        "\n",
        "\n",
        "\n",
        "\n",
        "1.   Validaciones como el `if`\n",
        "2.   Me permite trabajar con iterables haciendo desacoplamiento\n",
        "3.   Me permite aplicar condicionales comprimidos\n",
        "\n",
        "\n",
        "\n"
      ],
      "metadata": {
        "id": "5tYgWvEG7hcK"
      }
    },
    {
      "cell_type": "code",
      "source": [
        "a, b = [1, 2]\n",
        "print(a)"
      ],
      "metadata": {
        "colab": {
          "base_uri": "https://localhost:8080/"
        },
        "id": "wMeXdGPK8FDE",
        "outputId": "ccc2c729-a05f-47d7-92e9-515fbb24843a"
      },
      "execution_count": 23,
      "outputs": [
        {
          "output_type": "stream",
          "name": "stdout",
          "text": [
            "1\n"
          ]
        }
      ]
    },
    {
      "cell_type": "code",
      "source": [
        "# supongamos que solo necesitamos el 2\n",
        "# _ se utiliza para indicar que el valor no es requerido, que puede tomar cualquier cosa\n",
        "_, b = [1, 2]\n",
        "print(_)"
      ],
      "metadata": {
        "colab": {
          "base_uri": "https://localhost:8080/"
        },
        "id": "MxmbqlE48TLP",
        "outputId": "29c1f6a2-b2b5-4584-bebc-6b3f2946051e"
      },
      "execution_count": 24,
      "outputs": [
        {
          "output_type": "stream",
          "name": "stdout",
          "text": [
            "1\n"
          ]
        }
      ]
    },
    {
      "cell_type": "code",
      "source": [
        "# simple\n",
        "lista_documento: list = [\"CC\", \"NIT\", \"CE\", \"PASP\"]\n",
        "tipo_doc: str = input(\"por favor ingrese el documento, valores permitidos: \\n\" + \"\\n\".join(lista_documento))\n",
        "# documento_valido : bandera lógica | ESTUDIAR\n",
        "\n",
        "documento_valido: bool = False\n",
        "match tipo_doc:\n",
        "  case \"CC\":\n",
        "    documento_valido = True\n",
        "  case \"NIT\":\n",
        "    documento_valido = True\n",
        "  case \"CE\":\n",
        "    documento_valido = True\n",
        "  case\"PASP\":\n",
        "    documento_valido = True\n",
        "  case _:\n",
        "    # documento_valido = False\n",
        "    print(\"el dato ingresado por el usuario es inválido\")\n",
        "    print(f\"valor ingresado {tipo_doc}, valores permitidos: {lista_documento}\")\n",
        "\n",
        "if documento_valido:\n",
        "  print(\"¡Yupii! El dato ingresado por el usuario es válido\")\n"
      ],
      "metadata": {
        "colab": {
          "base_uri": "https://localhost:8080/"
        },
        "id": "Fk0hZ-t38AmV",
        "outputId": "af033638-da4e-43e1-9d5a-7cca12e97e75"
      },
      "execution_count": 25,
      "outputs": [
        {
          "output_type": "stream",
          "name": "stdout",
          "text": [
            "por favor ingrese el documento, valores permitidos: \n",
            "CC\n",
            "NIT\n",
            "CE\n",
            "PASPcc\n",
            "el dato ingresado por el usuario es inválido\n",
            "valor ingresado cc, valores permitidos: ['CC', 'NIT', 'CE', 'PASP']\n"
          ]
        }
      ]
    },
    {
      "cell_type": "code",
      "source": [
        "# repaso\n",
        "\n",
        "a, *b = [1,2,3]\n",
        "print(a)\n",
        "print(b)"
      ],
      "metadata": {
        "colab": {
          "base_uri": "https://localhost:8080/"
        },
        "id": "9uyOGQMw9tq0",
        "outputId": "bf1e0e70-8a48-4480-b40a-1c1fab217f6a"
      },
      "execution_count": 26,
      "outputs": [
        {
          "output_type": "stream",
          "name": "stdout",
          "text": [
            "1\n",
            "[2, 3]\n"
          ]
        }
      ]
    },
    {
      "cell_type": "code",
      "source": [
        "# coding up my future\n",
        "# variable : str = \"rm -rf a.txt b.txt diomioqueeseso.txt\"\n",
        "variable: str = input(\"ingrese valor: \")\n",
        "# 1 variable.split() = ['coding', 'up', 'my', 'future']\n",
        "# coding up my future\n",
        "match variable.split():\n",
        "  case [\"coding\", *resto]: # desacoplamiento\n",
        "    print(\"es coding\")\n",
        "    print(resto)\n",
        "  case [\"linux\" | \"python\", *resto]: # desacoplamiento\n",
        "    print(\"¡es código puro! ¡A la guerra!\")\n",
        "    print(resto)\n",
        "\n",
        "  # rm -rf a.txt b.txt diomioqueeseso.txt\n",
        "  # si es rm o mv realice\n",
        "  # si -rf validar si tiene que preguntar\n",
        "  # resto -rf a.txt b.txt diomioqueeseso.txt\n",
        "  case [\"mv\" | \"rm\", *resto] if  \"-rf\" in resto: # como si fuera un and\n",
        "    print(\"[IMPORTANTE] necesitamos confirmación para eliminar\")\n",
        "    print(resto)\n",
        "  case _:\n",
        "    print(_)\n",
        "    print(\"¡desconocido!\")\n"
      ],
      "metadata": {
        "colab": {
          "base_uri": "https://localhost:8080/"
        },
        "id": "0Nf8cK_o9_CR",
        "outputId": "17dd3f07-ff8b-4584-f6a6-b43de8475eb5"
      },
      "execution_count": 27,
      "outputs": [
        {
          "output_type": "stream",
          "name": "stdout",
          "text": [
            "ingrese valor: coding up\n",
            "es coding\n",
            "['up']\n"
          ]
        }
      ]
    },
    {
      "cell_type": "code",
      "source": [
        "# -rv = requiere validacion\n",
        "# archivos a.txt b.txt diomioqueeseso.txt"
      ],
      "metadata": {
        "id": "d3y9Zk9BAiOd"
      },
      "execution_count": 28,
      "outputs": []
    }
  ]
}