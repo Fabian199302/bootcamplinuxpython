{
  "nbformat": 4,
  "nbformat_minor": 0,
  "metadata": {
    "colab": {
      "provenance": [],
      "toc_visible": true
    },
    "kernelspec": {
      "name": "python3",
      "display_name": "Python 3"
    },
    "language_info": {
      "name": "python"
    }
  },
  "cells": [
    {
      "cell_type": "markdown",
      "source": [
        "<p><img src=\"https://i.postimg.cc/cCjTSn8r/ss-cumf.png\" alt=\"\" width=\"1280\" height=\"300\" /></p>\n",
        "\n"
      ],
      "metadata": {
        "id": "NM_EHRkAuUot"
      }
    },
    {
      "cell_type": "markdown",
      "source": [
        "# **ELEMENTOS RESTANTES - FOR**"
      ],
      "metadata": {
        "id": "ZUEoxLVmugoe"
      }
    },
    {
      "cell_type": "code",
      "source": [
        "a , *b = [1, 2 , 3]"
      ],
      "metadata": {
        "id": "rEHVxkGJulsO"
      },
      "execution_count": 42,
      "outputs": []
    },
    {
      "cell_type": "code",
      "source": [
        "dicc = {\n",
        "    \"nombre\": \"Pepito\",\n",
        "    \"apellido\": \"Pérez\",\n",
        "    \"edad\": 1, \"sangre\": {\n",
        "        \"rh\": \"+\", \"grupo\": \"AB\"\n",
        "    }\n",
        "}"
      ],
      "metadata": {
        "id": "cgxboOTRxPNV"
      },
      "execution_count": 43,
      "outputs": []
    },
    {
      "cell_type": "code",
      "source": [
        "print(list(dicc.items())[0][1])"
      ],
      "metadata": {
        "colab": {
          "base_uri": "https://localhost:8080/"
        },
        "id": "J-GfmlZjxz9v",
        "outputId": "d9b43f7a-dc29-4203-9da8-f10bd17a8bc8"
      },
      "execution_count": 44,
      "outputs": [
        {
          "output_type": "stream",
          "name": "stdout",
          "text": [
            "Pepito\n"
          ]
        }
      ]
    },
    {
      "cell_type": "code",
      "source": [
        "list(dicc.items())"
      ],
      "metadata": {
        "colab": {
          "base_uri": "https://localhost:8080/"
        },
        "id": "XxoTlgO1y5uy",
        "outputId": "bc79afe0-a39c-4d9c-e197-a31b0011dbb1"
      },
      "execution_count": 45,
      "outputs": [
        {
          "output_type": "execute_result",
          "data": {
            "text/plain": [
              "[('nombre', 'Pepito'),\n",
              " ('apellido', 'Pérez'),\n",
              " ('edad', 1),\n",
              " ('sangre', {'rh': '+', 'grupo': 'AB'})]"
            ]
          },
          "metadata": {},
          "execution_count": 45
        }
      ]
    },
    {
      "cell_type": "code",
      "source": [
        "for llave, valor in dicc.items():\n",
        "  print(f\"La llave se llama |{llave}|, y el valor de la llave es: |{valor}|\")"
      ],
      "metadata": {
        "colab": {
          "base_uri": "https://localhost:8080/"
        },
        "id": "IQtDeRn9xz6g",
        "outputId": "ac5825bb-c0e2-4ff4-edcc-a112764a3d0a"
      },
      "execution_count": 46,
      "outputs": [
        {
          "output_type": "stream",
          "name": "stdout",
          "text": [
            "La llave se llama |nombre|, y el valor de la llave es: |Pepito|\n",
            "La llave se llama |apellido|, y el valor de la llave es: |Pérez|\n",
            "La llave se llama |edad|, y el valor de la llave es: |1|\n",
            "La llave se llama |sangre|, y el valor de la llave es: |{'rh': '+', 'grupo': 'AB'}|\n"
          ]
        }
      ]
    },
    {
      "cell_type": "code",
      "source": [
        "for valores in enumerate(\"hola\"):\n",
        "  print(f\"valores : {valores}\")"
      ],
      "metadata": {
        "colab": {
          "base_uri": "https://localhost:8080/"
        },
        "id": "CJnfJUqq0oCn",
        "outputId": "8501dfc7-080c-46b9-b3d8-5f55a0f95284"
      },
      "execution_count": 47,
      "outputs": [
        {
          "output_type": "stream",
          "name": "stdout",
          "text": [
            "valores : (0, 'h')\n",
            "valores : (1, 'o')\n",
            "valores : (2, 'l')\n",
            "valores : (3, 'a')\n"
          ]
        }
      ]
    },
    {
      "cell_type": "code",
      "source": [
        "lista = [(1,2,0.5), (5,2,0.5), (10,5,0.7)]\n",
        "\n",
        "for longitud, latitud, altura in lista:\n",
        "  print(longitud, latitud, altura)"
      ],
      "metadata": {
        "colab": {
          "base_uri": "https://localhost:8080/"
        },
        "id": "rA-jZWh11Seb",
        "outputId": "eb8d0c20-fa27-47f4-e2ec-de5b174582bc"
      },
      "execution_count": 48,
      "outputs": [
        {
          "output_type": "stream",
          "name": "stdout",
          "text": [
            "1 2 0.5\n",
            "5 2 0.5\n",
            "10 5 0.7\n"
          ]
        }
      ]
    },
    {
      "cell_type": "code",
      "source": [
        "for longitud, *restante in lista:\n",
        "  print(longitud, restante)"
      ],
      "metadata": {
        "colab": {
          "base_uri": "https://localhost:8080/"
        },
        "id": "UREkd06s1vAw",
        "outputId": "81ae52e0-d159-4577-ebcd-b95e18e56557"
      },
      "execution_count": 49,
      "outputs": [
        {
          "output_type": "stream",
          "name": "stdout",
          "text": [
            "1 [2, 0.5]\n",
            "5 [2, 0.5]\n",
            "10 [5, 0.7]\n"
          ]
        }
      ]
    },
    {
      "cell_type": "markdown",
      "source": [
        "# **FUNCIONES**\n",
        "\n",
        "La función es un bloque de código reutilizable que realiza una tarea específica cuando se llama o se invoca. Las funciones se utilizan para organizar y modularizar el código, lo que facilita la comprensión y el mantenimiento de programas más grandes. Cada función en Python tiene un nombre y puede recibir argumentos (valores de entrada) y devolver un resultado (valores de salida).\n",
        "\n",
        "\n",
        "**USAR FUNCIONES ES LA CLAVE PARA:**\n",
        "\n",
        "\n",
        "\n",
        "1.   Programación funcional\n",
        "2.   Programación orientada a objetos\n",
        "3.   Programación orientada a procedimientos\n",
        "\n",
        "\n",
        "\n",
        "<p><img src=\"https://aprendepython.es/_images/function-definition.jpg\" alt=\"\" width=\"1280\" height=\"300\" /></p>\n",
        "\n",
        "\n",
        "\n",
        "\n",
        "Realizar suma de valores\n",
        " TM-1 = sumar dos valores\n",
        " TM-2 = arreglar valores negativos\n",
        "\n",
        "\n",
        "```python\n",
        "\n",
        "# Malas prácticas | lo que NOOOO se debe hacer\n",
        "#  TM-1\n",
        "calculo =  abs(1+2) # TM-2\n",
        "...\n",
        "..\n",
        "..\n",
        "..\n",
        "..\n",
        "# línea 32\n",
        "#  TM-1\n",
        "calculo_2 =   abs(5 + 5) # TM-2\n",
        "\n",
        "..\n",
        "..\n",
        "..\n",
        "# línea 100\n",
        "#  TM-1\n",
        "calculo_3 =   abs(15 + 15) # TM-2\n",
        "\n",
        "```\n",
        "\n",
        "\n",
        "\n",
        "```python\n",
        "\n",
        "# Buenas prácticas | lo que SÍÍÍÍ se debe hacer\n",
        "#  TM-1\n",
        "\n",
        "def suma(numero_1, numero_2):\n",
        "  return abs(numero_1 +  numero_2) + 0.1\n",
        "\n",
        "\n",
        "calculo =  suma(1,2) # TM-2\n",
        "...\n",
        "..\n",
        "..\n",
        "..\n",
        "..\n",
        "# línea 32\n",
        "#  TM-1\n",
        "calculo_2 =   suma(5, 5) # TM-2\n",
        "\n",
        "..\n",
        "..\n",
        "..\n",
        "# línea 100\n",
        "#  TM-1\n",
        "calculo_3 =   suma(15 , 15) # TM-2\n",
        "\n",
        "```\n",
        "\n",
        "\n"
      ],
      "metadata": {
        "id": "VhRNZvsUuYxF"
      }
    },
    {
      "cell_type": "markdown",
      "source": [
        "## **SIN PARÁMETROS NI RETORNO**"
      ],
      "metadata": {
        "id": "VQ1ZWMlC40qN"
      }
    },
    {
      "cell_type": "code",
      "execution_count": 50,
      "metadata": {
        "colab": {
          "base_uri": "https://localhost:8080/"
        },
        "id": "fpPVKO90uLZ6",
        "outputId": "094fb74d-47cb-4b0c-82c6-35e493a96b4b"
      },
      "outputs": [
        {
          "output_type": "stream",
          "name": "stdout",
          "text": [
            "**********\n",
            "Hola a tod@s!\n",
            "**********\n"
          ]
        }
      ],
      "source": [
        "# definición\n",
        "def imprimir_saludo():\n",
        "  print(\"*\" * 10)\n",
        "  print(\"Hola a tod@s!\")\n",
        "  print(\"*\" * 10)\n",
        "\n",
        "\n",
        "# llamado de una función\n",
        "imprimir_saludo()"
      ]
    },
    {
      "cell_type": "markdown",
      "source": [
        "## **CON PARÁMETROS - SIN RETORNO**\n",
        "\n",
        "Nota: los parámetros que ustedes vean que no tienen un `=` son valores obligatorios ordenados"
      ],
      "metadata": {
        "id": "q56iKki56SWU"
      }
    },
    {
      "cell_type": "code",
      "source": [
        "def imprimir_saludo_2(nombre:str):\n",
        "  longitud_ast = len(nombre) + 12\n",
        "  print(\"*\" * longitud_ast)\n",
        "  print(\"Hola a: \" + nombre)\n",
        "  print(\"*\" * longitud_ast)\n",
        "\n",
        "imprimir_saludo_2(\"Luis\")"
      ],
      "metadata": {
        "colab": {
          "base_uri": "https://localhost:8080/"
        },
        "id": "v-_sZp4f6eVR",
        "outputId": "f494bf88-f559-4058-ae51-7d6daec47e51"
      },
      "execution_count": 51,
      "outputs": [
        {
          "output_type": "stream",
          "name": "stdout",
          "text": [
            "****************\n",
            "Hola a: Luis\n",
            "****************\n"
          ]
        }
      ]
    },
    {
      "cell_type": "code",
      "source": [
        "imprimir_saludo_2(\"Elena\")"
      ],
      "metadata": {
        "colab": {
          "base_uri": "https://localhost:8080/"
        },
        "id": "N6XdXE_K8Nxj",
        "outputId": "252e6720-54c4-4310-b0ca-25491ce9823f"
      },
      "execution_count": 52,
      "outputs": [
        {
          "output_type": "stream",
          "name": "stdout",
          "text": [
            "*****************\n",
            "Hola a: Elena\n",
            "*****************\n"
          ]
        }
      ]
    },
    {
      "cell_type": "code",
      "source": [
        "imprimir_saludo_2(\"Andrés\")"
      ],
      "metadata": {
        "colab": {
          "base_uri": "https://localhost:8080/"
        },
        "id": "u5-xq9tp8oqq",
        "outputId": "77d2b2b6-22ac-40d7-ae6b-d62f3a77babe"
      },
      "execution_count": 53,
      "outputs": [
        {
          "output_type": "stream",
          "name": "stdout",
          "text": [
            "******************\n",
            "Hola a: Andrés\n",
            "******************\n"
          ]
        }
      ]
    },
    {
      "cell_type": "markdown",
      "source": [
        "## **SIN PARÁMETROS - CON RETORNO**\n",
        "\n",
        "Los retornos los utilizamos siempre y cuando queremos utilizar afuera de la función el valor calculado. Las variables definidas dentro de una función, solamente existen dentro de la misma, y a esto lo llamaremos ámbito.\n",
        "\n",
        "[ascii generator:](https://patorjk.com/software/taag/#p=display&f=Graffiti&t=Type%20Something%20)\n",
        "\n",
        "\n",
        "\n",
        "```\n",
        "return retornar algo (simple o múltiple)\n",
        "```\n",
        "\n"
      ],
      "metadata": {
        "id": "oJ9qqhTk_9A-"
      }
    },
    {
      "cell_type": "code",
      "source": [
        "def encabezado_simple():\n",
        "  saludo = \"\"\"\n",
        "\n",
        "  ___      _   _\n",
        " | _ \\_  _| |_| |_  ___ _ _\n",
        " |  _/ || |  _| ' \\/ _ \\ ' \\\n",
        " |_|  \\_, |\\__|_||_\\___/_||_|\n",
        "      |__/\n",
        "    softserve\n",
        "  \"\"\"\n",
        "\n",
        "  return saludo\n",
        "\n",
        "valor_retornado = encabezado_simple()\n",
        "print(valor_retornado)"
      ],
      "metadata": {
        "colab": {
          "base_uri": "https://localhost:8080/"
        },
        "id": "T5bCfm9TAicC",
        "outputId": "2ca19e05-a77b-4db5-edb6-6f3ddc723ada"
      },
      "execution_count": 54,
      "outputs": [
        {
          "output_type": "stream",
          "name": "stdout",
          "text": [
            "\n",
            "\n",
            "  ___      _   _\n",
            " | _ \\_  _| |_| |_  ___ _ _\n",
            " |  _/ || |  _| ' \\/ _ \\ '  |_|  \\_, |\\__|_||_\\___/_||_|\n",
            "      |__/\n",
            "    softserve\n",
            "  \n"
          ]
        }
      ]
    },
    {
      "cell_type": "code",
      "source": [
        "print(encabezado_simple())"
      ],
      "metadata": {
        "colab": {
          "base_uri": "https://localhost:8080/"
        },
        "id": "ymJezfraBoHi",
        "outputId": "63fef479-213f-4866-e635-fe0848da40d4"
      },
      "execution_count": 55,
      "outputs": [
        {
          "output_type": "stream",
          "name": "stdout",
          "text": [
            "\n",
            "\n",
            "  ___      _   _\n",
            " | _ \\_  _| |_| |_  ___ _ _\n",
            " |  _/ || |  _| ' \\/ _ \\ '  |_|  \\_, |\\__|_||_\\___/_||_|\n",
            "      |__/\n",
            "    softserve\n",
            "  \n"
          ]
        }
      ]
    },
    {
      "cell_type": "markdown",
      "source": [
        "## **CON PARÁMETROS - CON RETORNO**"
      ],
      "metadata": {
        "id": "FEnMqytBCILu"
      }
    },
    {
      "cell_type": "code",
      "source": [
        "def encabezado_simple_2(nombre_empresa: str):\n",
        "  saludo = f\"\"\"\n",
        "\n",
        "  ___      _   _\n",
        " | _ \\_  _| |_| |_  ___ _ _\n",
        " |  _/ || |  _| ' \\/ _ \\ ' \\\n",
        " |_|  \\_, |\\__|_||_\\___/_||_|\n",
        "      |__/\n",
        "    {nombre_empresa}\n",
        "  \"\"\"\n",
        "\n",
        "  return saludo\n",
        "\n",
        "valor_retornado = encabezado_simple_2(\"Softserve\")\n",
        "print(valor_retornado)"
      ],
      "metadata": {
        "colab": {
          "base_uri": "https://localhost:8080/"
        },
        "id": "Q-DDv3r7CIhN",
        "outputId": "55db9594-803e-423d-894a-0ba6da62a1aa"
      },
      "execution_count": 56,
      "outputs": [
        {
          "output_type": "stream",
          "name": "stdout",
          "text": [
            "\n",
            "\n",
            "  ___      _   _\n",
            " | _ \\_  _| |_| |_  ___ _ _\n",
            " |  _/ || |  _| ' \\/ _ \\ '  |_|  \\_, |\\__|_||_\\___/_||_|\n",
            "      |__/\n",
            "    Softserve\n",
            "  \n"
          ]
        }
      ]
    },
    {
      "cell_type": "code",
      "source": [
        "print(encabezado_simple_2(\"Yammyam\"))\n",
        "print(encabezado_simple_2(\"Luky\"))\n",
        "print(encabezado_simple_2(\"Star Wars\"))"
      ],
      "metadata": {
        "colab": {
          "base_uri": "https://localhost:8080/"
        },
        "id": "QVTuMiizChJ_",
        "outputId": "5cf04150-ecdd-41e2-bc57-b4d9e7706700"
      },
      "execution_count": 57,
      "outputs": [
        {
          "output_type": "stream",
          "name": "stdout",
          "text": [
            "\n",
            "\n",
            "  ___      _   _\n",
            " | _ \\_  _| |_| |_  ___ _ _\n",
            " |  _/ || |  _| ' \\/ _ \\ '  |_|  \\_, |\\__|_||_\\___/_||_|\n",
            "      |__/\n",
            "    Yammyam\n",
            "  \n",
            "\n",
            "\n",
            "  ___      _   _\n",
            " | _ \\_  _| |_| |_  ___ _ _\n",
            " |  _/ || |  _| ' \\/ _ \\ '  |_|  \\_, |\\__|_||_\\___/_||_|\n",
            "      |__/\n",
            "    Luky\n",
            "  \n",
            "\n",
            "\n",
            "  ___      _   _\n",
            " | _ \\_  _| |_| |_  ___ _ _\n",
            " |  _/ || |  _| ' \\/ _ \\ '  |_|  \\_, |\\__|_||_\\___/_||_|\n",
            "      |__/\n",
            "    Star Wars\n",
            "  \n"
          ]
        }
      ]
    },
    {
      "cell_type": "markdown",
      "source": [
        "## **CON PARÁMETROS - CON MÚLTIPLE RETORNO**"
      ],
      "metadata": {
        "id": "gCPlsnL3D2Y8"
      }
    },
    {
      "cell_type": "code",
      "source": [
        "def encabezado_simple_3(nombre_empresa: str):\n",
        "  saludo = f\"\"\"\n",
        "\n",
        "  ___      _   _\n",
        " | _ \\_  _| |_| |_  ___ _ _\n",
        " |  _/ || |  _| ' \\/ _ \\ ' \\\n",
        " |_|  \\_, |\\__|_||_\\___/_||_|\n",
        "      |__/\n",
        "    {nombre_empresa}\n",
        "  \"\"\"\n",
        "  print(saludo)\n",
        "  longitud = len(saludo)\n",
        "  nombre_mayuscula = nombre_empresa.upper()\n",
        "  valor_pi = 3.1416\n",
        "\n",
        "  return valor_pi, longitud, nombre_mayuscula"
      ],
      "metadata": {
        "id": "MCxyWZRRD2z-"
      },
      "execution_count": 58,
      "outputs": []
    },
    {
      "cell_type": "code",
      "source": [
        "valor_retornado = encabezado_simple_3(\"Softserve\")\n",
        "\n",
        "print(valor_retornado, type(valor_retornado))"
      ],
      "metadata": {
        "colab": {
          "base_uri": "https://localhost:8080/"
        },
        "id": "foZmd6C9EPr4",
        "outputId": "391f10c8-aa03-4793-9833-7bd036d88aee"
      },
      "execution_count": 59,
      "outputs": [
        {
          "output_type": "stream",
          "name": "stdout",
          "text": [
            "\n",
            "\n",
            "  ___      _   _\n",
            " | _ \\_  _| |_| |_  ___ _ _\n",
            " |  _/ || |  _| ' \\/ _ \\ '  |_|  \\_, |\\__|_||_\\___/_||_|\n",
            "      |__/\n",
            "    Softserve\n",
            "  \n",
            "(3.1416, 131, 'SOFTSERVE') <class 'tuple'>\n"
          ]
        }
      ]
    },
    {
      "cell_type": "code",
      "source": [
        "pi_afuera, long_afuera, nombre_afuera = encabezado_simple_3(\"Softserve\")\n",
        "print(\"--\",pi_afuera)\n",
        "print(\"***\",long_afuera)\n",
        "print(\"@@@\", nombre_afuera)"
      ],
      "metadata": {
        "colab": {
          "base_uri": "https://localhost:8080/"
        },
        "id": "27xvZLADE4hp",
        "outputId": "0b7ad026-1499-4ace-f30e-74365efb83e2"
      },
      "execution_count": 60,
      "outputs": [
        {
          "output_type": "stream",
          "name": "stdout",
          "text": [
            "\n",
            "\n",
            "  ___      _   _\n",
            " | _ \\_  _| |_| |_  ___ _ _\n",
            " |  _/ || |  _| ' \\/ _ \\ '  |_|  \\_, |\\__|_||_\\___/_||_|\n",
            "      |__/\n",
            "    Softserve\n",
            "  \n",
            "-- 3.1416\n",
            "*** 131\n",
            "@@@ SOFTSERVE\n"
          ]
        }
      ]
    },
    {
      "cell_type": "code",
      "source": [
        "pi_afuera, *resto = encabezado_simple_3(\"Softserve\")\n",
        "print(\"--\",pi_afuera)\n",
        "print(\"***\",resto)"
      ],
      "metadata": {
        "colab": {
          "base_uri": "https://localhost:8080/"
        },
        "id": "Cx5ZY-63FON0",
        "outputId": "5edf01ac-c4a4-4c32-b299-f15103aa4b50"
      },
      "execution_count": 61,
      "outputs": [
        {
          "output_type": "stream",
          "name": "stdout",
          "text": [
            "\n",
            "\n",
            "  ___      _   _\n",
            " | _ \\_  _| |_| |_  ___ _ _\n",
            " |  _/ || |  _| ' \\/ _ \\ '  |_|  \\_, |\\__|_||_\\___/_||_|\n",
            "      |__/\n",
            "    Softserve\n",
            "  \n",
            "-- 3.1416\n",
            "*** [131, 'SOFTSERVE']\n"
          ]
        }
      ]
    },
    {
      "cell_type": "code",
      "source": [
        "todos_afuera = encabezado_simple_3(\"Softserve\")"
      ],
      "metadata": {
        "colab": {
          "base_uri": "https://localhost:8080/"
        },
        "id": "Gl2DzM0qFWII",
        "outputId": "5d9bfc7a-2ceb-4908-976a-8e07ac3a55c9"
      },
      "execution_count": 62,
      "outputs": [
        {
          "output_type": "stream",
          "name": "stdout",
          "text": [
            "\n",
            "\n",
            "  ___      _   _\n",
            " | _ \\_  _| |_| |_  ___ _ _\n",
            " |  _/ || |  _| ' \\/ _ \\ '  |_|  \\_, |\\__|_||_\\___/_||_|\n",
            "      |__/\n",
            "    Softserve\n",
            "  \n"
          ]
        }
      ]
    },
    {
      "cell_type": "code",
      "source": [
        "print(todos_afuera)\n",
        "print(todos_afuera[::-1])"
      ],
      "metadata": {
        "colab": {
          "base_uri": "https://localhost:8080/"
        },
        "id": "1aQ5a90hFcVA",
        "outputId": "15ccca58-0b28-41f2-d3c4-15fd0bf95067"
      },
      "execution_count": 63,
      "outputs": [
        {
          "output_type": "stream",
          "name": "stdout",
          "text": [
            "(3.1416, 131, 'SOFTSERVE')\n",
            "('SOFTSERVE', 131, 3.1416)\n"
          ]
        }
      ]
    },
    {
      "cell_type": "code",
      "source": [
        "print(todos_afuera)\n",
        "print(todos_afuera[0])"
      ],
      "metadata": {
        "colab": {
          "base_uri": "https://localhost:8080/"
        },
        "id": "u6_5zp8FFibp",
        "outputId": "571dc93e-8f8c-48a2-daf7-5d1cd6a1e89b"
      },
      "execution_count": 64,
      "outputs": [
        {
          "output_type": "stream",
          "name": "stdout",
          "text": [
            "(3.1416, 131, 'SOFTSERVE')\n",
            "3.1416\n"
          ]
        }
      ]
    },
    {
      "cell_type": "code",
      "source": [
        "print(todos_afuera)\n",
        "print(todos_afuera[-1])"
      ],
      "metadata": {
        "colab": {
          "base_uri": "https://localhost:8080/"
        },
        "id": "8AQnCrr0Fkyx",
        "outputId": "a8302611-0a44-449e-c95d-f73f20010a78"
      },
      "execution_count": 65,
      "outputs": [
        {
          "output_type": "stream",
          "name": "stdout",
          "text": [
            "(3.1416, 131, 'SOFTSERVE')\n",
            "SOFTSERVE\n"
          ]
        }
      ]
    },
    {
      "cell_type": "code",
      "source": [
        "print(todos_afuera)\n",
        "print(todos_afuera[:2])\n",
        "x, y = todos_afuera[:2]\n",
        "print(x, y)"
      ],
      "metadata": {
        "colab": {
          "base_uri": "https://localhost:8080/"
        },
        "id": "Ky3RMeQEFnPL",
        "outputId": "45bcbde7-9b2a-4d7a-99f6-a45046b6ae84"
      },
      "execution_count": 66,
      "outputs": [
        {
          "output_type": "stream",
          "name": "stdout",
          "text": [
            "(3.1416, 131, 'SOFTSERVE')\n",
            "(3.1416, 131)\n",
            "3.1416 131\n"
          ]
        }
      ]
    },
    {
      "cell_type": "markdown",
      "source": [
        "**EJEMLPO**"
      ],
      "metadata": {
        "id": "-w8JohX0HITv"
      }
    },
    {
      "cell_type": "code",
      "source": [
        "texto: str = \"Softserve, Helados Yum Yum, My-App\"\n",
        "\n",
        "for empresa in texto.split(\",\"):\n",
        "  encabezado_simple_3(empresa)"
      ],
      "metadata": {
        "colab": {
          "base_uri": "https://localhost:8080/"
        },
        "id": "9GKQc4jQHMGY",
        "outputId": "ebaae036-29c5-48ae-aa89-a4ab6228b86e"
      },
      "execution_count": 67,
      "outputs": [
        {
          "output_type": "stream",
          "name": "stdout",
          "text": [
            "\n",
            "\n",
            "  ___      _   _\n",
            " | _ \\_  _| |_| |_  ___ _ _\n",
            " |  _/ || |  _| ' \\/ _ \\ '  |_|  \\_, |\\__|_||_\\___/_||_|\n",
            "      |__/\n",
            "    Softserve\n",
            "  \n",
            "\n",
            "\n",
            "  ___      _   _\n",
            " | _ \\_  _| |_| |_  ___ _ _\n",
            " |  _/ || |  _| ' \\/ _ \\ '  |_|  \\_, |\\__|_||_\\___/_||_|\n",
            "      |__/\n",
            "     Helados Yum Yum\n",
            "  \n",
            "\n",
            "\n",
            "  ___      _   _\n",
            " | _ \\_  _| |_| |_  ___ _ _\n",
            " |  _/ || |  _| ' \\/ _ \\ '  |_|  \\_, |\\__|_||_\\___/_||_|\n",
            "      |__/\n",
            "     My-App\n",
            "  \n"
          ]
        }
      ]
    }
  ]
}
