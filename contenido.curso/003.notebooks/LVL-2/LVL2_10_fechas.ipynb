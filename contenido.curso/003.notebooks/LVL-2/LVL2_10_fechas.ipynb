{
  "nbformat": 4,
  "nbformat_minor": 0,
  "metadata": {
    "colab": {
      "provenance": []
    },
    "kernelspec": {
      "name": "python3",
      "display_name": "Python 3"
    },
    "language_info": {
      "name": "python"
    }
  },
  "cells": [
    {
      "cell_type": "markdown",
      "source": [
        "<p><img src=\"https://i.postimg.cc/cCjTSn8r/ss-cumf.png\" alt=\"\" width=\"1280\" height=\"300\" /></p>"
      ],
      "metadata": {
        "id": "p6NuuzwC1NVE"
      }
    },
    {
      "cell_type": "markdown",
      "source": [
        "# **FECHAS**\n",
        "\n",
        "\n",
        "\n"
      ],
      "metadata": {
        "id": "JbuoOGeX1SJx"
      }
    },
    {
      "cell_type": "code",
      "execution_count": 4,
      "metadata": {
        "id": "7ORes_rf1HRF"
      },
      "outputs": [],
      "source": [
        "from datetime import date, datetime, timedelta"
      ]
    },
    {
      "cell_type": "markdown",
      "source": [
        "## **TODAY**\n",
        "\n",
        "`ISO 8601`"
      ],
      "metadata": {
        "id": "mtACIH_61rpo"
      }
    },
    {
      "cell_type": "code",
      "source": [
        "fecha = datetime.today()\n",
        "print(type(fecha), fecha)\n",
        "print(fecha)"
      ],
      "metadata": {
        "colab": {
          "base_uri": "https://localhost:8080/"
        },
        "id": "CZpucyVm1qtV",
        "outputId": "0fbdd74b-8734-4aa8-a65d-7d9827cd5cbd"
      },
      "execution_count": 5,
      "outputs": [
        {
          "output_type": "stream",
          "name": "stdout",
          "text": [
            "<class 'datetime.datetime'> 2023-10-04 01:11:15.869190\n",
            "2023-10-04 01:11:15.869190\n"
          ]
        }
      ]
    },
    {
      "cell_type": "markdown",
      "source": [
        "## **NOW**"
      ],
      "metadata": {
        "id": "ztV8YWny1xVn"
      }
    },
    {
      "cell_type": "code",
      "source": [
        "print(datetime.now())"
      ],
      "metadata": {
        "colab": {
          "base_uri": "https://localhost:8080/"
        },
        "id": "lv3M4BCr2ZuT",
        "outputId": "16804ea7-8d1f-4b97-8950-c5b712f888f8"
      },
      "execution_count": 6,
      "outputs": [
        {
          "output_type": "stream",
          "name": "stdout",
          "text": [
            "2023-10-04 01:11:15.882484\n"
          ]
        }
      ]
    },
    {
      "cell_type": "markdown",
      "source": [
        "## **YEAR**"
      ],
      "metadata": {
        "id": "fyEfB4871xSu"
      }
    },
    {
      "cell_type": "code",
      "source": [
        "fecha = datetime.now()"
      ],
      "metadata": {
        "id": "HzC7dPR72xM4"
      },
      "execution_count": 7,
      "outputs": []
    },
    {
      "cell_type": "code",
      "source": [
        "fecha.year"
      ],
      "metadata": {
        "colab": {
          "base_uri": "https://localhost:8080/"
        },
        "id": "sERJHOt72sPm",
        "outputId": "b03cce7c-5ea4-4a7a-9cc6-c597580dc5ba"
      },
      "execution_count": 8,
      "outputs": [
        {
          "output_type": "execute_result",
          "data": {
            "text/plain": [
              "2023"
            ]
          },
          "metadata": {},
          "execution_count": 8
        }
      ]
    },
    {
      "cell_type": "markdown",
      "source": [
        "## **MONTH**"
      ],
      "metadata": {
        "id": "RN8ug39V22rZ"
      }
    },
    {
      "cell_type": "code",
      "source": [
        "fecha.month"
      ],
      "metadata": {
        "colab": {
          "base_uri": "https://localhost:8080/"
        },
        "id": "QrggkBwr22EP",
        "outputId": "88645da2-686b-464b-95da-3f40d741420a"
      },
      "execution_count": 9,
      "outputs": [
        {
          "output_type": "execute_result",
          "data": {
            "text/plain": [
              "10"
            ]
          },
          "metadata": {},
          "execution_count": 9
        }
      ]
    },
    {
      "cell_type": "markdown",
      "source": [
        "## **DAY**"
      ],
      "metadata": {
        "id": "fMas4_x_1xQb"
      }
    },
    {
      "cell_type": "code",
      "source": [
        "print(type(fecha.day))\n",
        "fecha.day\n"
      ],
      "metadata": {
        "colab": {
          "base_uri": "https://localhost:8080/"
        },
        "id": "YQbOEzok29IS",
        "outputId": "3192a407-1004-44b4-cd69-6d9329bd0b10"
      },
      "execution_count": 10,
      "outputs": [
        {
          "output_type": "stream",
          "name": "stdout",
          "text": [
            "<class 'int'>\n"
          ]
        },
        {
          "output_type": "execute_result",
          "data": {
            "text/plain": [
              "4"
            ]
          },
          "metadata": {},
          "execution_count": 10
        }
      ]
    },
    {
      "cell_type": "markdown",
      "source": [
        "## **SECOND**"
      ],
      "metadata": {
        "id": "xcDWF8uO1xOL"
      }
    },
    {
      "cell_type": "code",
      "source": [
        "fecha.second"
      ],
      "metadata": {
        "colab": {
          "base_uri": "https://localhost:8080/"
        },
        "id": "IEzH4Dzi3PUo",
        "outputId": "9df81aaa-2cb3-44b4-d469-45b787dd9db7"
      },
      "execution_count": 11,
      "outputs": [
        {
          "output_type": "execute_result",
          "data": {
            "text/plain": [
              "15"
            ]
          },
          "metadata": {},
          "execution_count": 11
        }
      ]
    },
    {
      "cell_type": "markdown",
      "source": [
        "## **MINUTE**"
      ],
      "metadata": {
        "id": "9TRgepO81xLl"
      }
    },
    {
      "cell_type": "code",
      "source": [
        "fecha.minute"
      ],
      "metadata": {
        "colab": {
          "base_uri": "https://localhost:8080/"
        },
        "id": "hAFMDsR13RtS",
        "outputId": "4575c838-fe9a-4024-8cd6-77df18a7c804"
      },
      "execution_count": 12,
      "outputs": [
        {
          "output_type": "execute_result",
          "data": {
            "text/plain": [
              "11"
            ]
          },
          "metadata": {},
          "execution_count": 12
        }
      ]
    },
    {
      "cell_type": "markdown",
      "source": [
        "## **MICROSECOND**"
      ],
      "metadata": {
        "id": "Xef-sksa1xGg"
      }
    },
    {
      "cell_type": "code",
      "source": [
        "fecha.microsecond"
      ],
      "metadata": {
        "colab": {
          "base_uri": "https://localhost:8080/"
        },
        "id": "TcVKYhgD3XNW",
        "outputId": "1925a105-3c63-4827-9549-c655e353425c"
      },
      "execution_count": 13,
      "outputs": [
        {
          "output_type": "execute_result",
          "data": {
            "text/plain": [
              "892947"
            ]
          },
          "metadata": {},
          "execution_count": 13
        }
      ]
    },
    {
      "cell_type": "markdown",
      "source": [
        "## **HOUR**"
      ],
      "metadata": {
        "id": "gYs3aGnu1xED"
      }
    },
    {
      "cell_type": "code",
      "source": [
        "fecha.hour"
      ],
      "metadata": {
        "colab": {
          "base_uri": "https://localhost:8080/"
        },
        "id": "SFx6R3OQ3kao",
        "outputId": "b88d137b-4cb2-48b3-8629-0b8c0989f724"
      },
      "execution_count": 14,
      "outputs": [
        {
          "output_type": "execute_result",
          "data": {
            "text/plain": [
              "1"
            ]
          },
          "metadata": {},
          "execution_count": 14
        }
      ]
    },
    {
      "cell_type": "markdown",
      "source": [
        "## **UTC**"
      ],
      "metadata": {
        "id": "dX6hRfAs1xBr"
      }
    },
    {
      "cell_type": "code",
      "source": [
        "fecha.utcnow()"
      ],
      "metadata": {
        "colab": {
          "base_uri": "https://localhost:8080/"
        },
        "id": "bWoXbup23sCS",
        "outputId": "9027e318-ddd5-4e26-c400-658ec8b3d8eb"
      },
      "execution_count": 15,
      "outputs": [
        {
          "output_type": "execute_result",
          "data": {
            "text/plain": [
              "datetime.datetime(2023, 10, 4, 1, 11, 15, 990382)"
            ]
          },
          "metadata": {},
          "execution_count": 15
        }
      ]
    },
    {
      "cell_type": "markdown",
      "source": [
        "## **WEEKDAY**\n",
        "\n",
        "\n",
        "\n",
        "```\n",
        "lunes = 0\n",
        "martes = 1\n",
        "miércoles = 2\n",
        "jueves = 3\n",
        "viernes = 4\n",
        "sábado = 5\n",
        "domingo = 6\n",
        "```\n",
        "\n"
      ],
      "metadata": {
        "id": "zjLa6-F93578"
      }
    },
    {
      "cell_type": "code",
      "source": [
        "fecha.weekday()"
      ],
      "metadata": {
        "colab": {
          "base_uri": "https://localhost:8080/"
        },
        "id": "h48swmMT35Ww",
        "outputId": "5adcc08b-23d8-44f6-ec9e-ca0e0d4184b2"
      },
      "execution_count": 16,
      "outputs": [
        {
          "output_type": "execute_result",
          "data": {
            "text/plain": [
              "2"
            ]
          },
          "metadata": {},
          "execution_count": 16
        }
      ]
    },
    {
      "cell_type": "markdown",
      "source": [
        "## **ISOWEEKDAY**\n",
        "\n",
        "\n",
        "\n",
        "```\n",
        "lunes = 1\n",
        "martes = 2\n",
        "miércoles = 3\n",
        "jueves = 4\n",
        "viernes = 5\n",
        "sábado = 6\n",
        "domingo = 7\n",
        "```\n",
        "\n"
      ],
      "metadata": {
        "id": "RqW-gHB54Pkh"
      }
    },
    {
      "cell_type": "code",
      "source": [
        "fecha.isoweekday()"
      ],
      "metadata": {
        "colab": {
          "base_uri": "https://localhost:8080/"
        },
        "id": "NCs_ZPyx4PIy",
        "outputId": "d5ad7fe0-f2ae-4187-8b05-ab17757c3704"
      },
      "execution_count": 17,
      "outputs": [
        {
          "output_type": "execute_result",
          "data": {
            "text/plain": [
              "3"
            ]
          },
          "metadata": {},
          "execution_count": 17
        }
      ]
    },
    {
      "cell_type": "markdown",
      "source": [
        "## **FORMATOS DE FECHA STRFTIME**\n",
        "\n",
        "```\n",
        "%a\tNombre local abreviado de día de semana\n",
        "%A\tNombre local completo de día de semana\n",
        "%b\tNombre local abreviado de mes\n",
        "%B\tNombre local completo de mes\n",
        "%c\tRepresentación local de fecha y hora\n",
        "%d\tDía de mes [01,31]\n",
        "%H\tHora (horario 24 horas) [00,23]\n",
        "%I\tHora (horario 12 horas) [01,12]\n",
        "%j\tNúmero de día del año [001,366]\n",
        "%m\tMes [01,12]\n",
        "%M\tMinuto [00,59]\n",
        "%S\tSegundo\n",
        "%U\tNº semana del año. Se considera al Domingo como primer día de semana [00,53]\n",
        "%w\tEstablece el primer día de semana [0(Domingo),1(Lunes)... 6].\n",
        "%W\tNº semana del año (Se considera al Lunes como primer día de semana) [00,53]\n",
        "%x\tFecha local\n",
        "%X\tHora local\n",
        "%y\tAño en formato corto [00,99]\n",
        "%Y\tAño en formato largo\n",
        "%Z\tNombre de Zona Horaria\n",
        "```"
      ],
      "metadata": {
        "id": "NH5uQA7W4jMz"
      }
    },
    {
      "cell_type": "code",
      "source": [
        "print(fecha)"
      ],
      "metadata": {
        "colab": {
          "base_uri": "https://localhost:8080/"
        },
        "id": "QNo14y8K4ize",
        "outputId": "43ef154b-9492-4c07-dfa7-7f01f1d77b5c"
      },
      "execution_count": 18,
      "outputs": [
        {
          "output_type": "stream",
          "name": "stdout",
          "text": [
            "2023-10-04 01:11:15.892947\n"
          ]
        }
      ]
    },
    {
      "cell_type": "code",
      "source": [
        "# DD/MM/YYYY HH:MM:SS\n",
        "# 03/10/2023 18:35:51\n",
        "fecha_formateada = fecha.strftime(\"%d/%m/%Y %H:%M:%S\")\n",
        "print(fecha_formateada)\n",
        "print(type(fecha_formateada))"
      ],
      "metadata": {
        "colab": {
          "base_uri": "https://localhost:8080/"
        },
        "id": "tDrXhGYw5A_R",
        "outputId": "6c30c38b-d08d-4853-851d-f00af1e165bc"
      },
      "execution_count": 19,
      "outputs": [
        {
          "output_type": "stream",
          "name": "stdout",
          "text": [
            "04/10/2023 01:11:15\n",
            "<class 'str'>\n"
          ]
        }
      ]
    },
    {
      "cell_type": "markdown",
      "source": [
        "## **FORMATOS DE FECHA STRPTIME**"
      ],
      "metadata": {
        "id": "ybapLmTE6mvk"
      }
    },
    {
      "cell_type": "code",
      "source": [
        "str_to_date = datetime.strptime('03/10/2023 23:24:06', \"%d/%m/%Y %H:%M:%S\")"
      ],
      "metadata": {
        "id": "6zIst-nT6mNm"
      },
      "execution_count": 20,
      "outputs": []
    },
    {
      "cell_type": "code",
      "source": [
        "print(str_to_date)\n",
        "print(type(str_to_date))\n",
        "print(str_to_date.year)"
      ],
      "metadata": {
        "colab": {
          "base_uri": "https://localhost:8080/"
        },
        "id": "_O1iDfI27B1h",
        "outputId": "5f761cbb-6711-410e-c857-339c0a038c1d"
      },
      "execution_count": 21,
      "outputs": [
        {
          "output_type": "stream",
          "name": "stdout",
          "text": [
            "2023-10-03 23:24:06\n",
            "<class 'datetime.datetime'>\n",
            "2023\n"
          ]
        }
      ]
    },
    {
      "cell_type": "markdown",
      "source": [
        "## **ISOCALENDAR**"
      ],
      "metadata": {
        "id": "dq9-SJ6U7OsH"
      }
    },
    {
      "cell_type": "code",
      "source": [
        "str_to_date.isocalendar()"
      ],
      "metadata": {
        "colab": {
          "base_uri": "https://localhost:8080/"
        },
        "id": "Rdg7M_iJ7OCH",
        "outputId": "b303886d-a9a8-4048-affa-0a202325c054"
      },
      "execution_count": 22,
      "outputs": [
        {
          "output_type": "execute_result",
          "data": {
            "text/plain": [
              "datetime.IsoCalendarDate(year=2023, week=40, weekday=2)"
            ]
          },
          "metadata": {},
          "execution_count": 22
        }
      ]
    },
    {
      "cell_type": "markdown",
      "source": [
        "## **TIMEDELTA**"
      ],
      "metadata": {
        "id": "LMFXuBVV7nJN"
      }
    },
    {
      "cell_type": "code",
      "source": [
        "print(\"incrementando días  +   \",str_to_date + timedelta(days=5))\n",
        "print(\"incrementando días  -   \",str_to_date + timedelta(days=-5))\n",
        "print(\"incrementando segundos  \",str_to_date + timedelta(seconds=18000))\n",
        "print(\"incrementando microseg.  \",str_to_date + timedelta(microseconds=1000000))"
      ],
      "metadata": {
        "colab": {
          "base_uri": "https://localhost:8080/"
        },
        "id": "PYHJQujF8GBr",
        "outputId": "8df93a84-f2a3-4ed4-ae57-d8d65c085bab"
      },
      "execution_count": 23,
      "outputs": [
        {
          "output_type": "stream",
          "name": "stdout",
          "text": [
            "incrementando días  +    2023-10-08 23:24:06\n",
            "incrementando días  -    2023-09-28 23:24:06\n",
            "incrementando segundos   2023-10-04 04:24:06\n",
            "incrementando microseg.   2023-10-03 23:24:07\n"
          ]
        }
      ]
    },
    {
      "cell_type": "markdown",
      "source": [
        "## **ZONA HORARIA TIMEZONE**"
      ],
      "metadata": {
        "id": "W4MzvVPD8kmz"
      }
    },
    {
      "cell_type": "code",
      "source": [
        "str_to_date.astimezone().tzinfo"
      ],
      "metadata": {
        "colab": {
          "base_uri": "https://localhost:8080/"
        },
        "id": "19dtG3jj8kQ5",
        "outputId": "c299d298-e60b-448d-c07b-77d0af4bb21d"
      },
      "execution_count": 24,
      "outputs": [
        {
          "output_type": "execute_result",
          "data": {
            "text/plain": [
              "datetime.timezone(datetime.timedelta(0), 'UTC')"
            ]
          },
          "metadata": {},
          "execution_count": 24
        }
      ]
    },
    {
      "cell_type": "code",
      "source": [
        "print(\"hora actual  -   \",str_to_date + timedelta(hours=-5)) #utc time"
      ],
      "metadata": {
        "colab": {
          "base_uri": "https://localhost:8080/"
        },
        "id": "rvY9Rc11BLTY",
        "outputId": "3b4c564b-dc09-45df-c618-f2e1a2b81fa0"
      },
      "execution_count": 25,
      "outputs": [
        {
          "output_type": "stream",
          "name": "stdout",
          "text": [
            "hora actual  -    2023-10-03 18:24:06\n"
          ]
        }
      ]
    }
  ]
}