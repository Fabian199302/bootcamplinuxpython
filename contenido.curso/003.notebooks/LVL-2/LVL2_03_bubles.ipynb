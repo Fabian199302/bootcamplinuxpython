{
  "nbformat": 4,
  "nbformat_minor": 0,
  "metadata": {
    "colab": {
      "provenance": []
    },
    "kernelspec": {
      "name": "python3",
      "display_name": "Python 3"
    },
    "language_info": {
      "name": "python"
    }
  },
  "cells": [
    {
      "cell_type": "markdown",
      "source": [
        "<p><img src=\"https://i.postimg.cc/cCjTSn8r/ss-cumf.png\" alt=\"\" width=\"1280\" height=\"300\" /></p>"
      ],
      "metadata": {
        "id": "N0_NeWcrb4ax"
      }
    },
    {
      "cell_type": "markdown",
      "source": [
        "# **CICLOS**"
      ],
      "metadata": {
        "id": "n4vEtM2qcmtm"
      }
    },
    {
      "cell_type": "markdown",
      "source": [
        "## **FOR**\n",
        "\n",
        "\n",
        "Ciclo controlado (mejor amigo para recorrer)\n",
        "```\n",
        "for una_o_varias_variables_temporales in iterable (en memoria | calculado): [obligatoria]\n",
        "  pass o la lógica que quieran\n",
        "else: [opcional]\n",
        "  ---\n",
        "```\n",
        "\n"
      ],
      "metadata": {
        "id": "sML_9X2dcyzh"
      }
    },
    {
      "cell_type": "code",
      "source": [
        "texto: str = \"bootcamp.softserve.python.linux\""
      ],
      "metadata": {
        "id": "A5XFCXSzdnGa"
      },
      "execution_count": 30,
      "outputs": []
    },
    {
      "cell_type": "markdown",
      "source": [
        "### **SIMPLE**"
      ],
      "metadata": {
        "id": "9jYZfkPPeklp"
      }
    },
    {
      "cell_type": "code",
      "source": [
        "for letra in texto:\n",
        "  print(letra, letra * 5)"
      ],
      "metadata": {
        "colab": {
          "base_uri": "https://localhost:8080/"
        },
        "id": "4J1tQK5Cd4xd",
        "outputId": "26a56e46-653b-4cf6-8f01-24ee20e30dd1"
      },
      "execution_count": 31,
      "outputs": [
        {
          "output_type": "stream",
          "name": "stdout",
          "text": [
            "b bbbbb\n",
            "o ooooo\n",
            "o ooooo\n",
            "t ttttt\n",
            "c ccccc\n",
            "a aaaaa\n",
            "m mmmmm\n",
            "p ppppp\n",
            ". .....\n",
            "s sssss\n",
            "o ooooo\n",
            "f fffff\n",
            "t ttttt\n",
            "s sssss\n",
            "e eeeee\n",
            "r rrrrr\n",
            "v vvvvv\n",
            "e eeeee\n",
            ". .....\n",
            "p ppppp\n",
            "y yyyyy\n",
            "t ttttt\n",
            "h hhhhh\n",
            "o ooooo\n",
            "n nnnnn\n",
            ". .....\n",
            "l lllll\n",
            "i iiiii\n",
            "n nnnnn\n",
            "u uuuuu\n",
            "x xxxxx\n"
          ]
        }
      ]
    },
    {
      "cell_type": "markdown",
      "source": [
        "### **ELSE**"
      ],
      "metadata": {
        "id": "P7Qvv2vEeoyI"
      }
    },
    {
      "cell_type": "code",
      "source": [
        "# bootcamp\n",
        "# for letra in texto[0:8]:\n",
        "for letra in texto.split(\".\")[0]:\n",
        "  print(letra, letra * 5)\n",
        "else:\n",
        "  print(\"finalizó!\")"
      ],
      "metadata": {
        "colab": {
          "base_uri": "https://localhost:8080/"
        },
        "id": "f_qxgLkCej6z",
        "outputId": "fc1583bc-dfbd-4bb4-97d8-50483dfa7b38"
      },
      "execution_count": 32,
      "outputs": [
        {
          "output_type": "stream",
          "name": "stdout",
          "text": [
            "b bbbbb\n",
            "o ooooo\n",
            "o ooooo\n",
            "t ttttt\n",
            "c ccccc\n",
            "a aaaaa\n",
            "m mmmmm\n",
            "p ppppp\n",
            "finalizó!\n"
          ]
        }
      ]
    },
    {
      "cell_type": "code",
      "source": [
        "for letra in texto.split(\".\")[0]:\n",
        "  print(letra, letra * 5)\n",
        "\n",
        "print(\"finalizó!\")"
      ],
      "metadata": {
        "colab": {
          "base_uri": "https://localhost:8080/"
        },
        "id": "fGO1CZnfe-YJ",
        "outputId": "0b65815e-be83-4f10-e2c1-e479aa50dfdc"
      },
      "execution_count": 33,
      "outputs": [
        {
          "output_type": "stream",
          "name": "stdout",
          "text": [
            "b bbbbb\n",
            "o ooooo\n",
            "o ooooo\n",
            "t ttttt\n",
            "c ccccc\n",
            "a aaaaa\n",
            "m mmmmm\n",
            "p ppppp\n",
            "finalizó!\n"
          ]
        }
      ]
    },
    {
      "cell_type": "markdown",
      "source": [
        "\n",
        "\n",
        "```python\n",
        "for letra in texto[:8]:\n",
        "  print(letra, letra * 5)\n",
        "```\n",
        "\n"
      ],
      "metadata": {
        "id": "slUwaErmhwFv"
      }
    },
    {
      "cell_type": "code",
      "source": [
        "for index in range(len(texto[:8])):\n",
        "  print(index)\n",
        "  print(texto[index],  texto[index] * 5)"
      ],
      "metadata": {
        "colab": {
          "base_uri": "https://localhost:8080/"
        },
        "id": "H3z3q_jKgMpx",
        "outputId": "9cd6f0be-b446-4c47-9765-5834877a8846"
      },
      "execution_count": 34,
      "outputs": [
        {
          "output_type": "stream",
          "name": "stdout",
          "text": [
            "0\n",
            "b bbbbb\n",
            "1\n",
            "o ooooo\n",
            "2\n",
            "o ooooo\n",
            "3\n",
            "t ttttt\n",
            "4\n",
            "c ccccc\n",
            "5\n",
            "a aaaaa\n",
            "6\n",
            "m mmmmm\n",
            "7\n",
            "p ppppp\n"
          ]
        }
      ]
    },
    {
      "cell_type": "code",
      "source": [
        "print(texto)\n",
        "len(texto)"
      ],
      "metadata": {
        "colab": {
          "base_uri": "https://localhost:8080/"
        },
        "id": "81Z5nU7PgqES",
        "outputId": "710028bc-28c7-427c-9b72-4017f8e118c4"
      },
      "execution_count": 35,
      "outputs": [
        {
          "output_type": "stream",
          "name": "stdout",
          "text": [
            "bootcamp.softserve.python.linux\n"
          ]
        },
        {
          "output_type": "execute_result",
          "data": {
            "text/plain": [
              "31"
            ]
          },
          "metadata": {},
          "execution_count": 35
        }
      ]
    },
    {
      "cell_type": "code",
      "source": [
        "for index in range(len(texto)):\n",
        "  print(texto[index], texto[index: index + 3])"
      ],
      "metadata": {
        "colab": {
          "base_uri": "https://localhost:8080/"
        },
        "id": "S21sOZMzg20u",
        "outputId": "a1b9a53d-76e0-4c98-eb04-2796811c36c9"
      },
      "execution_count": 36,
      "outputs": [
        {
          "output_type": "stream",
          "name": "stdout",
          "text": [
            "b boo\n",
            "o oot\n",
            "o otc\n",
            "t tca\n",
            "c cam\n",
            "a amp\n",
            "m mp.\n",
            "p p.s\n",
            ". .so\n",
            "s sof\n",
            "o oft\n",
            "f fts\n",
            "t tse\n",
            "s ser\n",
            "e erv\n",
            "r rve\n",
            "v ve.\n",
            "e e.p\n",
            ". .py\n",
            "p pyt\n",
            "y yth\n",
            "t tho\n",
            "h hon\n",
            "o on.\n",
            "n n.l\n",
            ". .li\n",
            "l lin\n",
            "i inu\n",
            "n nux\n",
            "u ux\n",
            "x x\n"
          ]
        }
      ]
    },
    {
      "cell_type": "code",
      "source": [
        "print(f\"original : {texto}\")\n",
        "for letra in texto.split(\".\"):\n",
        "  print(letra, letra * 5)\n",
        "else:\n",
        "  print(\"finalizó!\")"
      ],
      "metadata": {
        "colab": {
          "base_uri": "https://localhost:8080/"
        },
        "id": "UudsYrx3kHvZ",
        "outputId": "02b93e16-1c33-4cb7-a17a-bfafdf6f2ed9"
      },
      "execution_count": 37,
      "outputs": [
        {
          "output_type": "stream",
          "name": "stdout",
          "text": [
            "original : bootcamp.softserve.python.linux\n",
            "bootcamp bootcampbootcampbootcampbootcampbootcamp\n",
            "softserve softservesoftservesoftservesoftservesoftserve\n",
            "python pythonpythonpythonpythonpython\n",
            "linux linuxlinuxlinuxlinuxlinux\n",
            "finalizó!\n"
          ]
        }
      ]
    },
    {
      "cell_type": "markdown",
      "source": [
        "### **CONTINUE**\n",
        "\n",
        "Sirve tanto para for como para while"
      ],
      "metadata": {
        "id": "qI4E0CWPknT4"
      }
    },
    {
      "cell_type": "code",
      "source": [
        "for letra in texto:\n",
        "  if letra == \".\":\n",
        "    print(letra, letra * 5)\n",
        "  else:\n",
        "    continue"
      ],
      "metadata": {
        "colab": {
          "base_uri": "https://localhost:8080/"
        },
        "id": "Xdw7gOy9kwR6",
        "outputId": "457de45b-ba6e-4587-ff5b-9d0ca88b136c"
      },
      "execution_count": 38,
      "outputs": [
        {
          "output_type": "stream",
          "name": "stdout",
          "text": [
            ". .....\n",
            ". .....\n",
            ". .....\n"
          ]
        }
      ]
    },
    {
      "cell_type": "code",
      "source": [
        "for letra in texto:\n",
        "  if letra == \".\":\n",
        "    continue\n",
        "  print(letra, letra * 5)\n",
        "  # (Imaginar) 40 líneas hacia abajo  | lógica para damas!\n",
        "\n"
      ],
      "metadata": {
        "colab": {
          "base_uri": "https://localhost:8080/"
        },
        "id": "dOv7J5uBlXyJ",
        "outputId": "c9c8d265-bdb3-43c3-d035-23943e4e1e59"
      },
      "execution_count": 39,
      "outputs": [
        {
          "output_type": "stream",
          "name": "stdout",
          "text": [
            "b bbbbb\n",
            "o ooooo\n",
            "o ooooo\n",
            "t ttttt\n",
            "c ccccc\n",
            "a aaaaa\n",
            "m mmmmm\n",
            "p ppppp\n",
            "s sssss\n",
            "o ooooo\n",
            "f fffff\n",
            "t ttttt\n",
            "s sssss\n",
            "e eeeee\n",
            "r rrrrr\n",
            "v vvvvv\n",
            "e eeeee\n",
            "p ppppp\n",
            "y yyyyy\n",
            "t ttttt\n",
            "h hhhhh\n",
            "o ooooo\n",
            "n nnnnn\n",
            "l lllll\n",
            "i iiiii\n",
            "n nnnnn\n",
            "u uuuuu\n",
            "x xxxxx\n"
          ]
        }
      ]
    },
    {
      "cell_type": "code",
      "source": [
        "for letra in texto:\n",
        "  if letra == \".\":\n",
        "    pass\n",
        "  print(letra, letra * 5)"
      ],
      "metadata": {
        "colab": {
          "base_uri": "https://localhost:8080/"
        },
        "id": "dZSb0NWnmKl5",
        "outputId": "a3c41742-0f35-4c57-d5b6-bb576a0203ce"
      },
      "execution_count": 40,
      "outputs": [
        {
          "output_type": "stream",
          "name": "stdout",
          "text": [
            "b bbbbb\n",
            "o ooooo\n",
            "o ooooo\n",
            "t ttttt\n",
            "c ccccc\n",
            "a aaaaa\n",
            "m mmmmm\n",
            "p ppppp\n",
            ". .....\n",
            "s sssss\n",
            "o ooooo\n",
            "f fffff\n",
            "t ttttt\n",
            "s sssss\n",
            "e eeeee\n",
            "r rrrrr\n",
            "v vvvvv\n",
            "e eeeee\n",
            ". .....\n",
            "p ppppp\n",
            "y yyyyy\n",
            "t ttttt\n",
            "h hhhhh\n",
            "o ooooo\n",
            "n nnnnn\n",
            ". .....\n",
            "l lllll\n",
            "i iiiii\n",
            "n nnnnn\n",
            "u uuuuu\n",
            "x xxxxx\n"
          ]
        }
      ]
    },
    {
      "cell_type": "markdown",
      "source": [
        "### **BREAK**\n",
        "\n",
        "Sirve tanto para for como para while"
      ],
      "metadata": {
        "id": "E7UpCl23kt_z"
      }
    },
    {
      "cell_type": "code",
      "source": [
        "print(texto)\n",
        "print(len(texto))\n",
        "for letra in texto:\n",
        "  if letra == \".\":\n",
        "    break\n",
        "  print(letra, letra * 5)\n",
        "else:\n",
        "  print(\"ejecutando el else!\")\n",
        "\n",
        "print(\"continúa ejecutando las líneas siguientes...\")"
      ],
      "metadata": {
        "colab": {
          "base_uri": "https://localhost:8080/"
        },
        "id": "QrJ8izGoktOm",
        "outputId": "41f69c2b-6c45-45e2-db6c-fa579d0b5f13"
      },
      "execution_count": 41,
      "outputs": [
        {
          "output_type": "stream",
          "name": "stdout",
          "text": [
            "bootcamp.softserve.python.linux\n",
            "31\n",
            "b bbbbb\n",
            "o ooooo\n",
            "o ooooo\n",
            "t ttttt\n",
            "c ccccc\n",
            "a aaaaa\n",
            "m mmmmm\n",
            "p ppppp\n",
            "continúa ejecutando las líneas siguientes...\n"
          ]
        }
      ]
    },
    {
      "cell_type": "markdown",
      "source": [
        "### **FOR ANIDADOS**\n",
        "\n",
        "Nota: aplica para if, para bucles y para funciones"
      ],
      "metadata": {
        "id": "3obp53CrpNXp"
      }
    },
    {
      "cell_type": "code",
      "source": [
        "# Multiplicación\n",
        "for numero_1 in range(1,11):\n",
        "  # Al nivel de indentación del bucle | break o continue se ponen donde quiere que se rompa u omita\n",
        "  for numero_2 in range(1,11):\n",
        "    #if ..:\n",
        "      # lógica\n",
        "    print(f\"{numero_1} x {numero_2} = {numero_1 * numero_2}\")"
      ],
      "metadata": {
        "colab": {
          "base_uri": "https://localhost:8080/"
        },
        "id": "96jyeLbmooBU",
        "outputId": "2726698f-3847-48ab-f6c9-c33f41a307a6"
      },
      "execution_count": 42,
      "outputs": [
        {
          "output_type": "stream",
          "name": "stdout",
          "text": [
            "1 x 1 = 1\n",
            "1 x 2 = 2\n",
            "1 x 3 = 3\n",
            "1 x 4 = 4\n",
            "1 x 5 = 5\n",
            "1 x 6 = 6\n",
            "1 x 7 = 7\n",
            "1 x 8 = 8\n",
            "1 x 9 = 9\n",
            "1 x 10 = 10\n",
            "2 x 1 = 2\n",
            "2 x 2 = 4\n",
            "2 x 3 = 6\n",
            "2 x 4 = 8\n",
            "2 x 5 = 10\n",
            "2 x 6 = 12\n",
            "2 x 7 = 14\n",
            "2 x 8 = 16\n",
            "2 x 9 = 18\n",
            "2 x 10 = 20\n",
            "3 x 1 = 3\n",
            "3 x 2 = 6\n",
            "3 x 3 = 9\n",
            "3 x 4 = 12\n",
            "3 x 5 = 15\n",
            "3 x 6 = 18\n",
            "3 x 7 = 21\n",
            "3 x 8 = 24\n",
            "3 x 9 = 27\n",
            "3 x 10 = 30\n",
            "4 x 1 = 4\n",
            "4 x 2 = 8\n",
            "4 x 3 = 12\n",
            "4 x 4 = 16\n",
            "4 x 5 = 20\n",
            "4 x 6 = 24\n",
            "4 x 7 = 28\n",
            "4 x 8 = 32\n",
            "4 x 9 = 36\n",
            "4 x 10 = 40\n",
            "5 x 1 = 5\n",
            "5 x 2 = 10\n",
            "5 x 3 = 15\n",
            "5 x 4 = 20\n",
            "5 x 5 = 25\n",
            "5 x 6 = 30\n",
            "5 x 7 = 35\n",
            "5 x 8 = 40\n",
            "5 x 9 = 45\n",
            "5 x 10 = 50\n",
            "6 x 1 = 6\n",
            "6 x 2 = 12\n",
            "6 x 3 = 18\n",
            "6 x 4 = 24\n",
            "6 x 5 = 30\n",
            "6 x 6 = 36\n",
            "6 x 7 = 42\n",
            "6 x 8 = 48\n",
            "6 x 9 = 54\n",
            "6 x 10 = 60\n",
            "7 x 1 = 7\n",
            "7 x 2 = 14\n",
            "7 x 3 = 21\n",
            "7 x 4 = 28\n",
            "7 x 5 = 35\n",
            "7 x 6 = 42\n",
            "7 x 7 = 49\n",
            "7 x 8 = 56\n",
            "7 x 9 = 63\n",
            "7 x 10 = 70\n",
            "8 x 1 = 8\n",
            "8 x 2 = 16\n",
            "8 x 3 = 24\n",
            "8 x 4 = 32\n",
            "8 x 5 = 40\n",
            "8 x 6 = 48\n",
            "8 x 7 = 56\n",
            "8 x 8 = 64\n",
            "8 x 9 = 72\n",
            "8 x 10 = 80\n",
            "9 x 1 = 9\n",
            "9 x 2 = 18\n",
            "9 x 3 = 27\n",
            "9 x 4 = 36\n",
            "9 x 5 = 45\n",
            "9 x 6 = 54\n",
            "9 x 7 = 63\n",
            "9 x 8 = 72\n",
            "9 x 9 = 81\n",
            "9 x 10 = 90\n",
            "10 x 1 = 10\n",
            "10 x 2 = 20\n",
            "10 x 3 = 30\n",
            "10 x 4 = 40\n",
            "10 x 5 = 50\n",
            "10 x 6 = 60\n",
            "10 x 7 = 70\n",
            "10 x 8 = 80\n",
            "10 x 9 = 90\n",
            "10 x 10 = 100\n"
          ]
        }
      ]
    },
    {
      "cell_type": "markdown",
      "source": [
        "### **FOR COMPREHENSION**\n",
        "\n",
        "- Siempre devolverá una lista\n",
        "- Permite for anidados\n",
        "\n",
        "\n",
        "\n",
        "```python\n",
        "[ acciones for temporal in iterable condiciones]\n",
        "```\n",
        "\n",
        "Cómo abordar un for comprimido\n",
        "\n",
        "1.   Especificar el código de iteración\n",
        "2.   Especificar las acciones\n",
        "\n",
        "\n",
        "\n"
      ],
      "metadata": {
        "id": "jIreOsYaqxed"
      }
    },
    {
      "cell_type": "markdown",
      "source": [
        "\n",
        "\n",
        "```\n",
        "for letra in texto:\n",
        "  print(letra, letra * 5)\n",
        "```\n",
        "\n"
      ],
      "metadata": {
        "id": "QQb4ck3psPax"
      }
    },
    {
      "cell_type": "code",
      "source": [
        "texto: str = \"bootcamp.softserve.python.linux\""
      ],
      "metadata": {
        "id": "5fpmybRVroTG"
      },
      "execution_count": 43,
      "outputs": []
    },
    {
      "cell_type": "markdown",
      "source": [
        "#### **SIMPLE**"
      ],
      "metadata": {
        "id": "QWeJDPD4szJB"
      }
    },
    {
      "cell_type": "code",
      "source": [
        "resultado = [ letra * 5 for letra in texto]\n",
        "print(resultado)"
      ],
      "metadata": {
        "colab": {
          "base_uri": "https://localhost:8080/"
        },
        "id": "XBUDC8zVrqwS",
        "outputId": "63fce1a4-6e16-4ca1-886f-c07a3939e306"
      },
      "execution_count": 44,
      "outputs": [
        {
          "output_type": "stream",
          "name": "stdout",
          "text": [
            "['bbbbb', 'ooooo', 'ooooo', 'ttttt', 'ccccc', 'aaaaa', 'mmmmm', 'ppppp', '.....', 'sssss', 'ooooo', 'fffff', 'ttttt', 'sssss', 'eeeee', 'rrrrr', 'vvvvv', 'eeeee', '.....', 'ppppp', 'yyyyy', 'ttttt', 'hhhhh', 'ooooo', 'nnnnn', '.....', 'lllll', 'iiiii', 'nnnnn', 'uuuuu', 'xxxxx']\n"
          ]
        }
      ]
    },
    {
      "cell_type": "markdown",
      "source": [
        "#### **RETORNO DOBLE**"
      ],
      "metadata": {
        "id": "bnIcqu91s2hd"
      }
    },
    {
      "cell_type": "code",
      "source": [
        "[ (letra, letra * 5) for letra in texto]"
      ],
      "metadata": {
        "colab": {
          "base_uri": "https://localhost:8080/"
        },
        "id": "552d2Bn0rqq4",
        "outputId": "09ab9220-f321-4731-fe01-9d16ea9d080d"
      },
      "execution_count": 45,
      "outputs": [
        {
          "output_type": "execute_result",
          "data": {
            "text/plain": [
              "[('b', 'bbbbb'),\n",
              " ('o', 'ooooo'),\n",
              " ('o', 'ooooo'),\n",
              " ('t', 'ttttt'),\n",
              " ('c', 'ccccc'),\n",
              " ('a', 'aaaaa'),\n",
              " ('m', 'mmmmm'),\n",
              " ('p', 'ppppp'),\n",
              " ('.', '.....'),\n",
              " ('s', 'sssss'),\n",
              " ('o', 'ooooo'),\n",
              " ('f', 'fffff'),\n",
              " ('t', 'ttttt'),\n",
              " ('s', 'sssss'),\n",
              " ('e', 'eeeee'),\n",
              " ('r', 'rrrrr'),\n",
              " ('v', 'vvvvv'),\n",
              " ('e', 'eeeee'),\n",
              " ('.', '.....'),\n",
              " ('p', 'ppppp'),\n",
              " ('y', 'yyyyy'),\n",
              " ('t', 'ttttt'),\n",
              " ('h', 'hhhhh'),\n",
              " ('o', 'ooooo'),\n",
              " ('n', 'nnnnn'),\n",
              " ('.', '.....'),\n",
              " ('l', 'lllll'),\n",
              " ('i', 'iiiii'),\n",
              " ('n', 'nnnnn'),\n",
              " ('u', 'uuuuu'),\n",
              " ('x', 'xxxxx')]"
            ]
          },
          "metadata": {},
          "execution_count": 45
        }
      ]
    },
    {
      "cell_type": "markdown",
      "source": [
        "#### **CON IF**"
      ],
      "metadata": {
        "id": "bwcXrIYas6ml"
      }
    },
    {
      "cell_type": "code",
      "source": [
        "[ (letra, letra * 5) for letra in texto[:10]]"
      ],
      "metadata": {
        "colab": {
          "base_uri": "https://localhost:8080/"
        },
        "id": "WLU2S2axspa2",
        "outputId": "3708a5eb-117d-4409-f7e3-4815a66ccf5b"
      },
      "execution_count": 46,
      "outputs": [
        {
          "output_type": "execute_result",
          "data": {
            "text/plain": [
              "[('b', 'bbbbb'),\n",
              " ('o', 'ooooo'),\n",
              " ('o', 'ooooo'),\n",
              " ('t', 'ttttt'),\n",
              " ('c', 'ccccc'),\n",
              " ('a', 'aaaaa'),\n",
              " ('m', 'mmmmm'),\n",
              " ('p', 'ppppp'),\n",
              " ('.', '.....'),\n",
              " ('s', 'sssss')]"
            ]
          },
          "metadata": {},
          "execution_count": 46
        }
      ]
    },
    {
      "cell_type": "markdown",
      "source": [
        "```python\n",
        "\n",
        "lista = []\n",
        "for letra in texto[:10]:\n",
        "  if letra != \".\":\n",
        "    lista.append((letra, letra * 5))\n",
        "else:\n",
        "  print(lista)\n",
        "```"
      ],
      "metadata": {
        "id": "ObyTg_GItacX"
      }
    },
    {
      "cell_type": "code",
      "source": [
        "[ (letra, letra * 5) for letra in texto[:10] if letra != \".\"]"
      ],
      "metadata": {
        "colab": {
          "base_uri": "https://localhost:8080/"
        },
        "id": "mgwr3c0PswQN",
        "outputId": "bd850a31-4384-4ac4-9972-1d796a0353a8"
      },
      "execution_count": 47,
      "outputs": [
        {
          "output_type": "execute_result",
          "data": {
            "text/plain": [
              "[('b', 'bbbbb'),\n",
              " ('o', 'ooooo'),\n",
              " ('o', 'ooooo'),\n",
              " ('t', 'ttttt'),\n",
              " ('c', 'ccccc'),\n",
              " ('a', 'aaaaa'),\n",
              " ('m', 'mmmmm'),\n",
              " ('p', 'ppppp'),\n",
              " ('s', 'sssss')]"
            ]
          },
          "metadata": {},
          "execution_count": 47
        }
      ]
    },
    {
      "cell_type": "code",
      "source": [
        "lista = []\n",
        "for letra in texto[:10]:\n",
        "  if letra != \".\":\n",
        "    lista.append((letra, letra * 5))\n",
        "else:\n",
        "  print(lista)"
      ],
      "metadata": {
        "colab": {
          "base_uri": "https://localhost:8080/"
        },
        "id": "b8x0ltqztHw_",
        "outputId": "d1eca4bb-ba9b-426c-c56c-6f730135195f"
      },
      "execution_count": 48,
      "outputs": [
        {
          "output_type": "stream",
          "name": "stdout",
          "text": [
            "[('b', 'bbbbb'), ('o', 'ooooo'), ('o', 'ooooo'), ('t', 'ttttt'), ('c', 'ccccc'), ('a', 'aaaaa'), ('m', 'mmmmm'), ('p', 'ppppp'), ('s', 'sssss')]\n"
          ]
        }
      ]
    },
    {
      "cell_type": "markdown",
      "source": [
        "#### **CON FOR**\n",
        "\n",
        "\n",
        "\n",
        "```python\n",
        "# Multiplicación\n",
        "for numero_1 in range(1,11):\n",
        "  for numero_2 in range(1,11):\n",
        "    print(f\"{numero_1} x {numero_2} = {numero_1 * numero_2}\")\n",
        "```\n",
        "\n"
      ],
      "metadata": {
        "id": "ymKI1hp6tq27"
      }
    },
    {
      "cell_type": "code",
      "source": [
        "[ f\"{numero_1} x {numero_2} = {numero_1 * numero_2}\" for numero_1 in range(1,11) for numero_2 in range(1,11)]"
      ],
      "metadata": {
        "colab": {
          "base_uri": "https://localhost:8080/"
        },
        "id": "lfvki6Hdtqsc",
        "outputId": "27411cd7-2fb2-4b83-847e-75596702361b"
      },
      "execution_count": 49,
      "outputs": [
        {
          "output_type": "execute_result",
          "data": {
            "text/plain": [
              "['1 x 1 = 1',\n",
              " '1 x 2 = 2',\n",
              " '1 x 3 = 3',\n",
              " '1 x 4 = 4',\n",
              " '1 x 5 = 5',\n",
              " '1 x 6 = 6',\n",
              " '1 x 7 = 7',\n",
              " '1 x 8 = 8',\n",
              " '1 x 9 = 9',\n",
              " '1 x 10 = 10',\n",
              " '2 x 1 = 2',\n",
              " '2 x 2 = 4',\n",
              " '2 x 3 = 6',\n",
              " '2 x 4 = 8',\n",
              " '2 x 5 = 10',\n",
              " '2 x 6 = 12',\n",
              " '2 x 7 = 14',\n",
              " '2 x 8 = 16',\n",
              " '2 x 9 = 18',\n",
              " '2 x 10 = 20',\n",
              " '3 x 1 = 3',\n",
              " '3 x 2 = 6',\n",
              " '3 x 3 = 9',\n",
              " '3 x 4 = 12',\n",
              " '3 x 5 = 15',\n",
              " '3 x 6 = 18',\n",
              " '3 x 7 = 21',\n",
              " '3 x 8 = 24',\n",
              " '3 x 9 = 27',\n",
              " '3 x 10 = 30',\n",
              " '4 x 1 = 4',\n",
              " '4 x 2 = 8',\n",
              " '4 x 3 = 12',\n",
              " '4 x 4 = 16',\n",
              " '4 x 5 = 20',\n",
              " '4 x 6 = 24',\n",
              " '4 x 7 = 28',\n",
              " '4 x 8 = 32',\n",
              " '4 x 9 = 36',\n",
              " '4 x 10 = 40',\n",
              " '5 x 1 = 5',\n",
              " '5 x 2 = 10',\n",
              " '5 x 3 = 15',\n",
              " '5 x 4 = 20',\n",
              " '5 x 5 = 25',\n",
              " '5 x 6 = 30',\n",
              " '5 x 7 = 35',\n",
              " '5 x 8 = 40',\n",
              " '5 x 9 = 45',\n",
              " '5 x 10 = 50',\n",
              " '6 x 1 = 6',\n",
              " '6 x 2 = 12',\n",
              " '6 x 3 = 18',\n",
              " '6 x 4 = 24',\n",
              " '6 x 5 = 30',\n",
              " '6 x 6 = 36',\n",
              " '6 x 7 = 42',\n",
              " '6 x 8 = 48',\n",
              " '6 x 9 = 54',\n",
              " '6 x 10 = 60',\n",
              " '7 x 1 = 7',\n",
              " '7 x 2 = 14',\n",
              " '7 x 3 = 21',\n",
              " '7 x 4 = 28',\n",
              " '7 x 5 = 35',\n",
              " '7 x 6 = 42',\n",
              " '7 x 7 = 49',\n",
              " '7 x 8 = 56',\n",
              " '7 x 9 = 63',\n",
              " '7 x 10 = 70',\n",
              " '8 x 1 = 8',\n",
              " '8 x 2 = 16',\n",
              " '8 x 3 = 24',\n",
              " '8 x 4 = 32',\n",
              " '8 x 5 = 40',\n",
              " '8 x 6 = 48',\n",
              " '8 x 7 = 56',\n",
              " '8 x 8 = 64',\n",
              " '8 x 9 = 72',\n",
              " '8 x 10 = 80',\n",
              " '9 x 1 = 9',\n",
              " '9 x 2 = 18',\n",
              " '9 x 3 = 27',\n",
              " '9 x 4 = 36',\n",
              " '9 x 5 = 45',\n",
              " '9 x 6 = 54',\n",
              " '9 x 7 = 63',\n",
              " '9 x 8 = 72',\n",
              " '9 x 9 = 81',\n",
              " '9 x 10 = 90',\n",
              " '10 x 1 = 10',\n",
              " '10 x 2 = 20',\n",
              " '10 x 3 = 30',\n",
              " '10 x 4 = 40',\n",
              " '10 x 5 = 50',\n",
              " '10 x 6 = 60',\n",
              " '10 x 7 = 70',\n",
              " '10 x 8 = 80',\n",
              " '10 x 9 = 90',\n",
              " '10 x 10 = 100']"
            ]
          },
          "metadata": {},
          "execution_count": 49
        }
      ]
    },
    {
      "cell_type": "code",
      "source": [
        "[ f\"{numero_1} x {numero_2} = {numero_1 * numero_2}\" for numero_1 in range(1,11) if numero_1 %2 == 0 for numero_2 in range(1,11)]"
      ],
      "metadata": {
        "colab": {
          "base_uri": "https://localhost:8080/"
        },
        "id": "rNCNNCFQuWj3",
        "outputId": "f86cd640-ae76-44f6-acfb-81de2217d347"
      },
      "execution_count": 50,
      "outputs": [
        {
          "output_type": "execute_result",
          "data": {
            "text/plain": [
              "['2 x 1 = 2',\n",
              " '2 x 2 = 4',\n",
              " '2 x 3 = 6',\n",
              " '2 x 4 = 8',\n",
              " '2 x 5 = 10',\n",
              " '2 x 6 = 12',\n",
              " '2 x 7 = 14',\n",
              " '2 x 8 = 16',\n",
              " '2 x 9 = 18',\n",
              " '2 x 10 = 20',\n",
              " '4 x 1 = 4',\n",
              " '4 x 2 = 8',\n",
              " '4 x 3 = 12',\n",
              " '4 x 4 = 16',\n",
              " '4 x 5 = 20',\n",
              " '4 x 6 = 24',\n",
              " '4 x 7 = 28',\n",
              " '4 x 8 = 32',\n",
              " '4 x 9 = 36',\n",
              " '4 x 10 = 40',\n",
              " '6 x 1 = 6',\n",
              " '6 x 2 = 12',\n",
              " '6 x 3 = 18',\n",
              " '6 x 4 = 24',\n",
              " '6 x 5 = 30',\n",
              " '6 x 6 = 36',\n",
              " '6 x 7 = 42',\n",
              " '6 x 8 = 48',\n",
              " '6 x 9 = 54',\n",
              " '6 x 10 = 60',\n",
              " '8 x 1 = 8',\n",
              " '8 x 2 = 16',\n",
              " '8 x 3 = 24',\n",
              " '8 x 4 = 32',\n",
              " '8 x 5 = 40',\n",
              " '8 x 6 = 48',\n",
              " '8 x 7 = 56',\n",
              " '8 x 8 = 64',\n",
              " '8 x 9 = 72',\n",
              " '8 x 10 = 80',\n",
              " '10 x 1 = 10',\n",
              " '10 x 2 = 20',\n",
              " '10 x 3 = 30',\n",
              " '10 x 4 = 40',\n",
              " '10 x 5 = 50',\n",
              " '10 x 6 = 60',\n",
              " '10 x 7 = 70',\n",
              " '10 x 8 = 80',\n",
              " '10 x 9 = 90',\n",
              " '10 x 10 = 100']"
            ]
          },
          "metadata": {},
          "execution_count": 50
        }
      ]
    },
    {
      "cell_type": "code",
      "source": [
        "[ f\"{numero_1} x {numero_2} = {numero_1 * numero_2}\" for numero_1 in range(1,11) if numero_1 %2 == 0 for numero_2 in range(1,11) if numero_2 %2 == 0]"
      ],
      "metadata": {
        "colab": {
          "base_uri": "https://localhost:8080/"
        },
        "id": "3Sqs88Lium4R",
        "outputId": "6c810d61-a35b-42f9-8a9b-c65b21d3b1dd"
      },
      "execution_count": 51,
      "outputs": [
        {
          "output_type": "execute_result",
          "data": {
            "text/plain": [
              "['2 x 2 = 4',\n",
              " '2 x 4 = 8',\n",
              " '2 x 6 = 12',\n",
              " '2 x 8 = 16',\n",
              " '2 x 10 = 20',\n",
              " '4 x 2 = 8',\n",
              " '4 x 4 = 16',\n",
              " '4 x 6 = 24',\n",
              " '4 x 8 = 32',\n",
              " '4 x 10 = 40',\n",
              " '6 x 2 = 12',\n",
              " '6 x 4 = 24',\n",
              " '6 x 6 = 36',\n",
              " '6 x 8 = 48',\n",
              " '6 x 10 = 60',\n",
              " '8 x 2 = 16',\n",
              " '8 x 4 = 32',\n",
              " '8 x 6 = 48',\n",
              " '8 x 8 = 64',\n",
              " '8 x 10 = 80',\n",
              " '10 x 2 = 20',\n",
              " '10 x 4 = 40',\n",
              " '10 x 6 = 60',\n",
              " '10 x 8 = 80',\n",
              " '10 x 10 = 100']"
            ]
          },
          "metadata": {},
          "execution_count": 51
        }
      ]
    },
    {
      "cell_type": "code",
      "source": [
        "lista = [1,2,3,4,5]\n",
        "evaluacion = [\"par\" if numero %2 == 0 else \"impar\" for numero in lista]"
      ],
      "metadata": {
        "id": "i-Z3lnDi0tqe"
      },
      "execution_count": 52,
      "outputs": []
    },
    {
      "cell_type": "code",
      "source": [
        "for index in range(len(lista)):\n",
        "  print(\"el numero\",lista[index], \"es\",evaluacion[index])"
      ],
      "metadata": {
        "colab": {
          "base_uri": "https://localhost:8080/"
        },
        "id": "vfWXiFAO1EY6",
        "outputId": "dca95d25-6470-41ff-db80-0580c955953f"
      },
      "execution_count": 53,
      "outputs": [
        {
          "output_type": "stream",
          "name": "stdout",
          "text": [
            "el numero 1 es impar\n",
            "el numero 2 es par\n",
            "el numero 3 es impar\n",
            "el numero 4 es par\n",
            "el numero 5 es impar\n"
          ]
        }
      ]
    },
    {
      "cell_type": "code",
      "source": [
        "for resultado in [\"par\" if numero %2 == 0 else \"impar\" for numero in lista]:\n",
        "  print(resultado)"
      ],
      "metadata": {
        "colab": {
          "base_uri": "https://localhost:8080/"
        },
        "id": "bcR0yrGu1p7v",
        "outputId": "6cef091c-0403-4d71-90f5-ebda3f538953"
      },
      "execution_count": 54,
      "outputs": [
        {
          "output_type": "stream",
          "name": "stdout",
          "text": [
            "impar\n",
            "par\n",
            "impar\n",
            "par\n",
            "impar\n"
          ]
        }
      ]
    },
    {
      "cell_type": "markdown",
      "source": [
        "## ***WHILE***\n",
        "Funciona iterando hasta que se cumpla una condición\n",
        "\n",
        "**CUIDADO!** Es un ciclo no controlado, es decir que usted debe indicar cuándo termina\n",
        "\n",
        "\n",
        "\n",
        "\n",
        "```\n",
        "while condicion: [obligatoria]\n",
        "  pass o la logica que quieran\n",
        "else: [opcional]\n",
        "  ---\n",
        "```\n",
        "\n",
        "\n"
      ],
      "metadata": {
        "id": "u8qqLWkmcpm8"
      }
    },
    {
      "cell_type": "code",
      "source": [
        "rango: int = 5\n",
        "contador: int = 0\n",
        "\n",
        "while contador < rango:\n",
        "  print(contador)\n",
        "  #contador = contador + 1\n",
        "  contador += 1\n",
        "else:\n",
        "  print(\"finalizó!\")"
      ],
      "metadata": {
        "colab": {
          "base_uri": "https://localhost:8080/"
        },
        "id": "iaUEI7Stvpnr",
        "outputId": "a8dfc1bb-f3e5-49da-b82d-ee3f1ddfbfeb"
      },
      "execution_count": 55,
      "outputs": [
        {
          "output_type": "stream",
          "name": "stdout",
          "text": [
            "0\n",
            "1\n",
            "2\n",
            "3\n",
            "4\n",
            "finalizó!\n"
          ]
        }
      ]
    },
    {
      "cell_type": "code",
      "source": [
        "rango: int = 5\n",
        "contador: int = 0\n",
        "\n",
        "while contador < rango:\n",
        "  if contador %2 == 0:\n",
        "    break\n",
        "  #contador = contador + 1\n",
        "  contador += 1\n",
        "else:\n",
        "  print(\"finalizó!\")"
      ],
      "metadata": {
        "id": "vPGi4YSQw-2w"
      },
      "execution_count": 56,
      "outputs": []
    },
    {
      "cell_type": "markdown",
      "source": [
        "### **EJEMPLO**"
      ],
      "metadata": {
        "id": "AnUjEyrcxyOc"
      }
    },
    {
      "cell_type": "code",
      "source": [
        "max_intentos: int = 3\n",
        "contador: int = 0\n",
        "\n",
        "while True:\n",
        "  contador+=1\n",
        "  if contador > max_intentos:\n",
        "    print(f\"sudo: {max_intentos} incorrect password attempts\")\n",
        "    break\n",
        "  clave = input(\"Password\")\n",
        "  if len(clave.strip()) > 0:\n",
        "    print(\"credenciales ingresadas\")\n",
        "    break\n",
        "  else:\n",
        "    print(\"Sorry, try again.\")\n",
        "\n"
      ],
      "metadata": {
        "colab": {
          "base_uri": "https://localhost:8080/"
        },
        "id": "OBIFNMd-xvtR",
        "outputId": "0cc14add-d854-4ef2-907c-f45a331a3658"
      },
      "execution_count": 57,
      "outputs": [
        {
          "output_type": "stream",
          "name": "stdout",
          "text": [
            "Password\n",
            "Sorry, try again.\n",
            "Password\n",
            "Sorry, try again.\n",
            "Password\n",
            "Sorry, try again.\n",
            "sudo: 3 incorrect password attempts\n"
          ]
        }
      ]
    },
    {
      "cell_type": "markdown",
      "source": [
        "Password:\n",
        "Sorry, try again."
      ],
      "metadata": {
        "id": "MIbBEZ7Ux_JM"
      }
    }
  ]
}