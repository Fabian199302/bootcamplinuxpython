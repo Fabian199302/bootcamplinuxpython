{
  "nbformat": 4,
  "nbformat_minor": 0,
  "metadata": {
    "colab": {
      "provenance": []
    },
    "kernelspec": {
      "name": "python3",
      "display_name": "Python 3"
    },
    "language_info": {
      "name": "python"
    }
  },
  "cells": [
    {
      "cell_type": "markdown",
      "source": [
        "<p><img src=\"https://i.postimg.cc/cCjTSn8r/ss-cumf.png\" alt=\"\" width=\"1280\" height=\"300\" /></p>"
      ],
      "metadata": {
        "id": "tvMUG8pT5V-R"
      }
    },
    {
      "cell_type": "markdown",
      "source": [
        "# **NÚMEROS Y BOOLEANOS**"
      ],
      "metadata": {
        "id": "RueVSUHC5ykN"
      }
    },
    {
      "cell_type": "markdown",
      "source": [
        "## **NÚMEROS**"
      ],
      "metadata": {
        "id": "Y8MTfv2u53-z"
      }
    },
    {
      "cell_type": "code",
      "execution_count": null,
      "metadata": {
        "id": "X8DbcyPR5EMB"
      },
      "outputs": [],
      "source": [
        "valor1:int = 5\n",
        "valor2:int = 2"
      ]
    },
    {
      "cell_type": "code",
      "source": [
        "print(\"suma           : \", valor1 + valor2)\n",
        "print(\"resta          : \", valor1 - valor2)\n",
        "print(\"multiplicacion : \", valor1 * valor2)\n",
        "print(\"division       : \", valor1 / valor2)\n",
        "print(\"operaciones    : \", ((valor1 * valor2) + 555) / 35)"
      ],
      "metadata": {
        "colab": {
          "base_uri": "https://localhost:8080/"
        },
        "id": "m0Q5WjBo5qeb",
        "outputId": "893e0d3f-ef53-4e82-c7d6-702c45433700"
      },
      "execution_count": null,
      "outputs": [
        {
          "output_type": "stream",
          "name": "stdout",
          "text": [
            "suma           :  7\n",
            "resta          :  3\n",
            "multiplicacion :  10\n",
            "division       :  2.5\n",
            "operaciones    :  16.142857142857142\n"
          ]
        }
      ]
    },
    {
      "cell_type": "code",
      "source": [
        "resultado_suma = valor1 + valor2\n",
        "print(type(resultado_suma), resultado_suma)"
      ],
      "metadata": {
        "colab": {
          "base_uri": "https://localhost:8080/"
        },
        "id": "xjv5cs0jQ-5R",
        "outputId": "e424f0da-e181-4784-ee20-0bb3e177fd86"
      },
      "execution_count": null,
      "outputs": [
        {
          "output_type": "stream",
          "name": "stdout",
          "text": [
            "<class 'int'> 7\n"
          ]
        }
      ]
    },
    {
      "cell_type": "code",
      "source": [
        "resultado_division = valor1 / valor2\n",
        "print(type(resultado_division), resultado_division)"
      ],
      "metadata": {
        "colab": {
          "base_uri": "https://localhost:8080/"
        },
        "id": "fakQR-3ERLvh",
        "outputId": "9343a267-66f2-44ba-bcc1-c146b64319ad"
      },
      "execution_count": null,
      "outputs": [
        {
          "output_type": "stream",
          "name": "stdout",
          "text": [
            "<class 'float'> 2.5\n"
          ]
        }
      ]
    },
    {
      "cell_type": "code",
      "source": [
        "# ejemplo grupal | tomar dos numeros y multiplicarlos\n",
        "valor_ingresado_1: int = int(input(\"ingrese número 1: \"))\n",
        "valor_ingresado_2: int = int(input(\"ingrese número 2: \"))\n",
        "print(type(valor_ingresado_1), type(valor_ingresado_2))\n",
        "resultado:int = valor_ingresado_1 * valor_ingresado_2\n",
        "print(resultado)"
      ],
      "metadata": {
        "colab": {
          "base_uri": "https://localhost:8080/"
        },
        "id": "qDNSJlPYRZu0",
        "outputId": "fc8aa327-3d0d-4d23-c407-4f500fc4d1ce"
      },
      "execution_count": null,
      "outputs": [
        {
          "output_type": "stream",
          "name": "stdout",
          "text": [
            "ingrese número 1: 5\n",
            "ingrese número 2: 5\n",
            "<class 'int'> <class 'int'>\n",
            "25\n"
          ]
        }
      ]
    },
    {
      "cell_type": "code",
      "source": [
        "\"*\" * 100"
      ],
      "metadata": {
        "colab": {
          "base_uri": "https://localhost:8080/",
          "height": 35
        },
        "id": "7sIa1QRfSavq",
        "outputId": "b2d91793-07c7-4d55-c7aa-7e716b9dfc4a"
      },
      "execution_count": null,
      "outputs": [
        {
          "output_type": "execute_result",
          "data": {
            "text/plain": [
              "'****************************************************************************************************'"
            ],
            "application/vnd.google.colaboratory.intrinsic+json": {
              "type": "string"
            }
          },
          "metadata": {},
          "execution_count": 8
        }
      ]
    },
    {
      "cell_type": "markdown",
      "source": [
        "## **BOOLEANOS**\n",
        "\n",
        "*   `True  = 1`\n",
        "*   `False = 0`\n",
        "\n",
        "Los boleanos en python tambien aplican como numeros, es decir se puede realizar\n",
        "operaciones matemáticas"
      ],
      "metadata": {
        "id": "7Aieiytq59Ng"
      }
    },
    {
      "cell_type": "code",
      "source": [
        "es_verdadero:bool = True\n",
        "es_falso = False"
      ],
      "metadata": {
        "id": "NAMGZy-76ag-"
      },
      "execution_count": null,
      "outputs": []
    },
    {
      "cell_type": "code",
      "source": [
        "print(es_verdadero, es_falso, type(es_verdadero), type(es_falso))"
      ],
      "metadata": {
        "colab": {
          "base_uri": "https://localhost:8080/"
        },
        "id": "WT7-juSsTkLW",
        "outputId": "c180304b-b263-404c-d869-4e689b74c286"
      },
      "execution_count": null,
      "outputs": [
        {
          "output_type": "stream",
          "name": "stdout",
          "text": [
            "True False <class 'bool'> <class 'bool'>\n"
          ]
        }
      ]
    },
    {
      "cell_type": "code",
      "source": [
        "print(1 + True + False + True)"
      ],
      "metadata": {
        "colab": {
          "base_uri": "https://localhost:8080/"
        },
        "id": "OgRPL3_iT55r",
        "outputId": "e8415ea4-5c63-4aed-b937-19b2706e13d8"
      },
      "execution_count": null,
      "outputs": [
        {
          "output_type": "stream",
          "name": "stdout",
          "text": [
            "3\n"
          ]
        }
      ]
    },
    {
      "cell_type": "code",
      "source": [
        "# =  | asignación\n",
        "# == | comparación\n",
        "\n",
        "1 == 2"
      ],
      "metadata": {
        "colab": {
          "base_uri": "https://localhost:8080/"
        },
        "id": "NqsKfU5bbpDW",
        "outputId": "6012771e-1e2c-4f76-8d0f-772042e5b5f9"
      },
      "execution_count": null,
      "outputs": [
        {
          "output_type": "execute_result",
          "data": {
            "text/plain": [
              "False"
            ]
          },
          "metadata": {},
          "execution_count": 19
        }
      ]
    }
  ]
}