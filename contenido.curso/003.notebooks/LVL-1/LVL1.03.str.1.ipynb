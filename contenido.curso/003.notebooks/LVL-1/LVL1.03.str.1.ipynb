{
  "nbformat": 4,
  "nbformat_minor": 0,
  "metadata": {
    "colab": {
      "provenance": []
    },
    "kernelspec": {
      "name": "python3",
      "display_name": "Python 3"
    },
    "language_info": {
      "name": "python"
    }
  },
  "cells": [
    {
      "cell_type": "markdown",
      "source": [
        "<p><img src=\"https://i.postimg.cc/cCjTSn8r/ss-cumf.png\" alt=\"\" width=\"1280\" height=\"300\" /></p>"
      ],
      "metadata": {
        "id": "lOBmWT8kI0rK"
      }
    },
    {
      "cell_type": "markdown",
      "source": [
        "# **STRINGS (STR)**"
      ],
      "metadata": {
        "id": "sttmil0sJYf_"
      }
    },
    {
      "cell_type": "markdown",
      "source": [
        "## **HELP**"
      ],
      "metadata": {
        "id": "0IlHscnZPcOM"
      }
    },
    {
      "cell_type": "code",
      "source": [
        "help(str.upper)"
      ],
      "metadata": {
        "colab": {
          "base_uri": "https://localhost:8080/"
        },
        "id": "yKgXodhEPb4S",
        "outputId": "4c68cc8d-d48a-440d-ffa8-88e783ea6e2d"
      },
      "execution_count": 6,
      "outputs": [
        {
          "output_type": "stream",
          "name": "stdout",
          "text": [
            "Help on method_descriptor:\n",
            "\n",
            "upper(self, /)\n",
            "    Return a copy of the string converted to uppercase.\n",
            "\n"
          ]
        }
      ]
    },
    {
      "cell_type": "markdown",
      "source": [
        "## **INPUT**"
      ],
      "metadata": {
        "id": "oHyHAW8dNjbY"
      }
    },
    {
      "cell_type": "code",
      "source": [
        "nombre: str = input(\"ingrese nombre: \")\n",
        "print(nombre)\n",
        "print(\"tipo:\", type(nombre), \"valor:\",nombre)"
      ],
      "metadata": {
        "colab": {
          "base_uri": "https://localhost:8080/"
        },
        "id": "XClbDuE5NtJG",
        "outputId": "2f26cee1-5235-47b6-9029-07092eae46f6"
      },
      "execution_count": 3,
      "outputs": [
        {
          "output_type": "stream",
          "name": "stdout",
          "text": [
            "ingrese nombre: strings\n",
            "strings\n",
            "tipo: <class 'str'> valor: strings\n"
          ]
        }
      ]
    },
    {
      "cell_type": "markdown",
      "source": [
        "## **COMENTARIOS**"
      ],
      "metadata": {
        "id": "eTmLO00HNm2d"
      }
    },
    {
      "cell_type": "markdown",
      "source": [
        "### **SIMPLES**"
      ],
      "metadata": {
        "id": "xpYKTCU5Ohif"
      }
    },
    {
      "cell_type": "code",
      "source": [
        "# esto es un com simple"
      ],
      "metadata": {
        "id": "f_7jxyDoOnDI"
      },
      "execution_count": 10,
      "outputs": []
    },
    {
      "cell_type": "markdown",
      "source": [
        "### **MULTIPLES**"
      ],
      "metadata": {
        "id": "jUWWViBXOhfW"
      }
    },
    {
      "cell_type": "code",
      "source": [
        "\"\"\"\n",
        "esto\n",
        "es un\n",
        "comentario\n",
        "multiple\n",
        "\"\"\""
      ],
      "metadata": {
        "colab": {
          "base_uri": "https://localhost:8080/",
          "height": 35
        },
        "id": "sFTKLOdaPMPD",
        "outputId": "f484128a-f76a-413c-c863-e58e1e4d8445"
      },
      "execution_count": 9,
      "outputs": [
        {
          "output_type": "execute_result",
          "data": {
            "text/plain": [
              "'\\nesto\\nes un \\ncomentario\\nmultiple\\n'"
            ],
            "application/vnd.google.colaboratory.intrinsic+json": {
              "type": "string"
            }
          },
          "metadata": {},
          "execution_count": 9
        }
      ]
    },
    {
      "cell_type": "code",
      "source": [
        "'''\n",
        "esto\n",
        "es un\n",
        "comentario\n",
        "multiple\n",
        "'''"
      ],
      "metadata": {
        "colab": {
          "base_uri": "https://localhost:8080/",
          "height": 35
        },
        "id": "qNOa4JKlPZaK",
        "outputId": "aa3ed6eb-eaa3-4013-86e3-da95290895a1"
      },
      "execution_count": 18,
      "outputs": [
        {
          "output_type": "execute_result",
          "data": {
            "text/plain": [
              "'\\nesto\\nes un \\ncomentario\\nmultiple\\n'"
            ],
            "application/vnd.google.colaboratory.intrinsic+json": {
              "type": "string"
            }
          },
          "metadata": {},
          "execution_count": 18
        }
      ]
    },
    {
      "cell_type": "markdown",
      "source": [
        "## **COMILLAS SIMPLES Y DOBLES**\n",
        "\n",
        "quieren que el texto les salga con comillas simples,la cadena debe estar encerrada por dobles, y si quieren dobles, deben estar encerradas por simple"
      ],
      "metadata": {
        "id": "URakvMjuNm0G"
      }
    },
    {
      "cell_type": "markdown",
      "source": [
        "### **SIMPLE**"
      ],
      "metadata": {
        "id": "wDWuHKdfNmxp"
      }
    },
    {
      "cell_type": "code",
      "source": [
        "nombre: str = 'Algo'\n",
        "apellido: str = 'como le va señor \"vasquez\"'\n",
        "print(apellido)"
      ],
      "metadata": {
        "colab": {
          "base_uri": "https://localhost:8080/"
        },
        "id": "CtCAIkPoRQpX",
        "outputId": "a55cdf39-8808-4fa8-bda2-79215fa84823"
      },
      "execution_count": 14,
      "outputs": [
        {
          "output_type": "stream",
          "name": "stdout",
          "text": [
            "como le va señor \"vasquez\"\n"
          ]
        }
      ]
    },
    {
      "cell_type": "markdown",
      "source": [
        "### **DOBLES**"
      ],
      "metadata": {
        "id": "93cPLjoVNmvE"
      }
    },
    {
      "cell_type": "code",
      "source": [
        "nombre: str = \"Algo\"\n",
        "apellido: str = \"como le va señor 'vasquez'\"\n",
        "print(apellido)"
      ],
      "metadata": {
        "colab": {
          "base_uri": "https://localhost:8080/"
        },
        "id": "8q4Tm9ImRWF2",
        "outputId": "0d2cd285-c720-40e9-b474-24997ab55bea"
      },
      "execution_count": 15,
      "outputs": [
        {
          "output_type": "stream",
          "name": "stdout",
          "text": [
            "como le va señor 'vasquez'\n"
          ]
        }
      ]
    },
    {
      "cell_type": "code",
      "source": [
        "pepito_julanito: str = \"Algo\"\n",
        "print(apellido)"
      ],
      "metadata": {
        "colab": {
          "base_uri": "https://localhost:8080/"
        },
        "id": "3mZ7OBUNTrXN",
        "outputId": "05ceb358-3cbc-481e-a70f-88e41b6356c8"
      },
      "execution_count": 19,
      "outputs": [
        {
          "output_type": "stream",
          "name": "stdout",
          "text": [
            "como le va señor 'vasquez'\n"
          ]
        }
      ]
    },
    {
      "cell_type": "markdown",
      "source": [
        "### **EJEMPLO**"
      ],
      "metadata": {
        "id": "Q8gyAy_0Nmsi"
      }
    },
    {
      "cell_type": "code",
      "source": [
        "print(\"email:str = 'pepito@gmail.com'\")\n",
        "print(\"print(email)\")"
      ],
      "metadata": {
        "colab": {
          "base_uri": "https://localhost:8080/"
        },
        "id": "udrk1jBjSNxL",
        "outputId": "ebb79a4a-c817-4f25-962e-ada7bc2b34f1"
      },
      "execution_count": 16,
      "outputs": [
        {
          "output_type": "stream",
          "name": "stdout",
          "text": [
            "email:str = 'pepito@gmail.com'\n",
            "print(email)\n"
          ]
        }
      ]
    },
    {
      "cell_type": "code",
      "source": [
        "email:str = 'pepito@gmail.com'\n",
        "print(email)"
      ],
      "metadata": {
        "colab": {
          "base_uri": "https://localhost:8080/"
        },
        "id": "sVEYMu6xSf_j",
        "outputId": "109819d1-6157-4c48-cddb-19434f85e772"
      },
      "execution_count": 17,
      "outputs": [
        {
          "output_type": "stream",
          "name": "stdout",
          "text": [
            "pepito@gmail.com\n"
          ]
        }
      ]
    },
    {
      "cell_type": "markdown",
      "source": [
        "## **SLICES**\n",
        "\n",
        "Manipuar elementos de una lista de diferentes formas:\n",
        "\n",
        "1.   strings\n",
        "2.   listas\n",
        "3.   tuplcas\n",
        "\n",
        "los strings en python se manejan como iterables para obtener valores\n",
        "\n",
        "\n",
        "\n",
        "```\n",
        "variable[rango_inicial: rango_final:saltos]\n",
        "HOLA\n",
        "[H | O | L | A]\n",
        "[0 | 1 | 2 | 3] -- postivo\n",
        "[-4 | -3 | -2 | -1] -- negativa\n",
        "```\n",
        "\n",
        "cuando yo trabajo con iterables, el indice enpieza en cero\n"
      ],
      "metadata": {
        "id": "oD0B-_9ENmqJ"
      }
    },
    {
      "cell_type": "code",
      "source": [
        "curso: str = \"CoDiG.Up.My.Future\""
      ],
      "metadata": {
        "id": "Hp-mVAUQVObe"
      },
      "execution_count": 37,
      "outputs": []
    },
    {
      "cell_type": "markdown",
      "source": [
        "## **INDICE POSITIVO**\n",
        "\n",
        "obtiene un solo valor"
      ],
      "metadata": {
        "id": "aPWn_EeNWVBm"
      }
    },
    {
      "cell_type": "code",
      "source": [
        "print(curso[5])\n",
        "print(\"postivo\", curso[12])"
      ],
      "metadata": {
        "colab": {
          "base_uri": "https://localhost:8080/"
        },
        "id": "Eb9t6KaxVbpJ",
        "outputId": "3ffcfbd0-1164-45f1-e9f8-26d5c9e5238e"
      },
      "execution_count": 25,
      "outputs": [
        {
          "output_type": "stream",
          "name": "stdout",
          "text": [
            ".\n",
            "postivo F\n"
          ]
        }
      ]
    },
    {
      "cell_type": "markdown",
      "source": [
        "## **INDICE NEGATIVO**"
      ],
      "metadata": {
        "id": "EarcPWgONmnk"
      }
    },
    {
      "cell_type": "code",
      "source": [
        "print(\"negativo\", curso[-6])"
      ],
      "metadata": {
        "colab": {
          "base_uri": "https://localhost:8080/"
        },
        "id": "p60py94CYi4B",
        "outputId": "b871809a-2b10-4ab3-a4a6-29a408dc4e06"
      },
      "execution_count": 26,
      "outputs": [
        {
          "output_type": "stream",
          "name": "stdout",
          "text": [
            "negativo F\n"
          ]
        }
      ]
    },
    {
      "cell_type": "markdown",
      "source": [
        "## **RANGOS**\n",
        "\n",
        "`rango[inicia:final -1]`\n",
        "\n",
        "```\n",
        "CoDiG.Up.My.Future\n",
        "```\n",
        "\n"
      ],
      "metadata": {
        "id": "HMo53DyoNmlJ"
      }
    },
    {
      "cell_type": "markdown",
      "source": [
        "### **INICIAL**"
      ],
      "metadata": {
        "id": "A5Lw7z7MZbcV"
      }
    },
    {
      "cell_type": "code",
      "source": [
        "print(curso[0: 6])"
      ],
      "metadata": {
        "colab": {
          "base_uri": "https://localhost:8080/"
        },
        "id": "rhHwKbH1Yt2w",
        "outputId": "37f68c1f-5de5-46d5-ba90-ad3b129b16bd"
      },
      "execution_count": 52,
      "outputs": [
        {
          "output_type": "stream",
          "name": "stdout",
          "text": [
            "CoDiG.\n"
          ]
        }
      ]
    },
    {
      "cell_type": "code",
      "source": [
        "print(curso[: 5])"
      ],
      "metadata": {
        "colab": {
          "base_uri": "https://localhost:8080/"
        },
        "id": "QecA-excYtz_",
        "outputId": "dd84f6a0-3e95-4269-db68-68ef26a8eb19"
      },
      "execution_count": 29,
      "outputs": [
        {
          "output_type": "stream",
          "name": "stdout",
          "text": [
            "CoDiG\n"
          ]
        }
      ]
    },
    {
      "cell_type": "markdown",
      "source": [
        "### **FINAL**"
      ],
      "metadata": {
        "id": "tQniRHJYZhxG"
      }
    },
    {
      "cell_type": "code",
      "source": [
        "print(curso[5: 7])"
      ],
      "metadata": {
        "colab": {
          "base_uri": "https://localhost:8080/"
        },
        "id": "7z0PTkcTYtwb",
        "outputId": "c2d4174e-82ac-44dc-de43-618319287796"
      },
      "execution_count": 31,
      "outputs": [
        {
          "output_type": "stream",
          "name": "stdout",
          "text": [
            ".U\n"
          ]
        }
      ]
    },
    {
      "cell_type": "code",
      "source": [
        "print(curso[5: ])"
      ],
      "metadata": {
        "colab": {
          "base_uri": "https://localhost:8080/"
        },
        "id": "O3MH_wRsZzNl",
        "outputId": "8214b1af-131b-4894-d8c1-8a7edb616102"
      },
      "execution_count": 32,
      "outputs": [
        {
          "output_type": "stream",
          "name": "stdout",
          "text": [
            ".Up.My.Future\n"
          ]
        }
      ]
    },
    {
      "cell_type": "code",
      "source": [
        "print(curso[-5: -2])"
      ],
      "metadata": {
        "colab": {
          "base_uri": "https://localhost:8080/"
        },
        "id": "oZrDDqU2avag",
        "outputId": "c657704d-c39d-416b-84ae-dcd7121817ee"
      },
      "execution_count": 43,
      "outputs": [
        {
          "output_type": "stream",
          "name": "stdout",
          "text": [
            "utu\n"
          ]
        }
      ]
    },
    {
      "cell_type": "markdown",
      "source": [
        "### **EJEMPLO**\n",
        "\n",
        "\n",
        "\n",
        "```\n",
        "estoy en el bootcamp con Ruta N #SSCodingupmyfuture\n",
        "```\n",
        "\n"
      ],
      "metadata": {
        "id": "QUUg_5kVZ4dX"
      }
    },
    {
      "cell_type": "code",
      "source": [
        "hashtag: str = \"estoy en el bootcamp con Ruta N #SSCodingupmyfuture\"\n",
        "print(hashtag[32:])\n",
        "print(hashtag[-19:])"
      ],
      "metadata": {
        "colab": {
          "base_uri": "https://localhost:8080/"
        },
        "id": "wH98O3SkZ3TG",
        "outputId": "47e8758a-b660-4f80-f1c7-c529464221e0"
      },
      "execution_count": 34,
      "outputs": [
        {
          "output_type": "stream",
          "name": "stdout",
          "text": [
            "#SSCodingupmyfuture\n",
            "#SSCodingupmyfuture\n"
          ]
        }
      ]
    },
    {
      "cell_type": "markdown",
      "source": [
        "### **RANGOS**\n",
        "\n",
        "\n",
        "\n",
        "```\n",
        "CoDiG.Up.My.Future\n",
        "```\n",
        "\n"
      ],
      "metadata": {
        "id": "0FkEJ0tkNmiy"
      }
    },
    {
      "cell_type": "code",
      "source": [
        "print(curso[::])"
      ],
      "metadata": {
        "colab": {
          "base_uri": "https://localhost:8080/"
        },
        "id": "yj2Hm8xrb-Vy",
        "outputId": "69a58835-4f26-4290-9303-77932ad9d2c5"
      },
      "execution_count": 51,
      "outputs": [
        {
          "output_type": "stream",
          "name": "stdout",
          "text": [
            "CoDiG.Up.My.Future\n"
          ]
        }
      ]
    },
    {
      "cell_type": "code",
      "source": [
        "print(curso[::2])"
      ],
      "metadata": {
        "colab": {
          "base_uri": "https://localhost:8080/"
        },
        "id": "zBixut2ccKTw",
        "outputId": "733b5fbe-ed43-4277-8d0e-90ed04e4ea06"
      },
      "execution_count": 47,
      "outputs": [
        {
          "output_type": "stream",
          "name": "stdout",
          "text": [
            "CDGU.yFtr\n"
          ]
        }
      ]
    },
    {
      "cell_type": "code",
      "source": [
        "print(curso[::3])"
      ],
      "metadata": {
        "colab": {
          "base_uri": "https://localhost:8080/"
        },
        "id": "z2bcLJxQcXbc",
        "outputId": "c490c6f6-c7e3-420f-ac5d-b7c0d1ffcf2e"
      },
      "execution_count": 48,
      "outputs": [
        {
          "output_type": "stream",
          "name": "stdout",
          "text": [
            "CiUMFu\n"
          ]
        }
      ]
    },
    {
      "cell_type": "code",
      "source": [
        "print(curso[::-1])"
      ],
      "metadata": {
        "colab": {
          "base_uri": "https://localhost:8080/"
        },
        "id": "keSMzDXgcd8K",
        "outputId": "dd07a8c6-2c83-4269-d283-83a7bb3e6630"
      },
      "execution_count": 53,
      "outputs": [
        {
          "output_type": "stream",
          "name": "stdout",
          "text": [
            "oC\n"
          ]
        }
      ]
    },
    {
      "cell_type": "code",
      "source": [
        "# iG.Up.My\n",
        "print(curso[3:10:2])"
      ],
      "metadata": {
        "colab": {
          "base_uri": "https://localhost:8080/"
        },
        "id": "tM72iKKBcv18",
        "outputId": "98e3535c-ec62-4381-d8b4-b2a4768c3650"
      },
      "execution_count": 50,
      "outputs": [
        {
          "output_type": "stream",
          "name": "stdout",
          "text": [
            "i.pM\n"
          ]
        }
      ]
    },
    {
      "cell_type": "markdown",
      "source": [
        "## **PRINCIPALES OPERACIONES DE LOS STRINGS**"
      ],
      "metadata": {
        "id": "NwKyX5vRNmd_"
      }
    },
    {
      "cell_type": "code",
      "source": [
        "curso: str = \"CoDiG.Up.My.Future\"\n",
        "espacios_izquierda = '         hola espacios inzquierdos'\n",
        "espacios_derecha   = 'hola espacios derechos            '\n",
        "espacios_ambos     ='             espacio central       '"
      ],
      "metadata": {
        "id": "9v_FTa3efKly"
      },
      "execution_count": 66,
      "outputs": []
    },
    {
      "cell_type": "markdown",
      "source": [
        "### **LOWER**"
      ],
      "metadata": {
        "id": "tnQZ-eeCNmbW"
      }
    },
    {
      "cell_type": "code",
      "source": [
        "print(curso.lower())\n",
        "alterna = curso.lower()\n",
        "print(alterna)"
      ],
      "metadata": {
        "colab": {
          "base_uri": "https://localhost:8080/"
        },
        "id": "Xn-QFyVPflN0",
        "outputId": "7effb8e0-b09e-439f-f813-85546a205c76"
      },
      "execution_count": 56,
      "outputs": [
        {
          "output_type": "stream",
          "name": "stdout",
          "text": [
            "codig.up.my.future\n",
            "codig.up.my.future\n"
          ]
        }
      ]
    },
    {
      "cell_type": "markdown",
      "source": [
        "### **UPPER**"
      ],
      "metadata": {
        "id": "NS3tSiuDi_ex"
      }
    },
    {
      "cell_type": "code",
      "source": [
        "print(curso)\n",
        "print(curso.upper())"
      ],
      "metadata": {
        "colab": {
          "base_uri": "https://localhost:8080/"
        },
        "id": "K2ZWNsIkjDGi",
        "outputId": "340d631e-8762-4da0-ffbc-7e10ea0e120c"
      },
      "execution_count": 68,
      "outputs": [
        {
          "output_type": "stream",
          "name": "stdout",
          "text": [
            "CoDiG.Up.My.Future\n",
            "CODIG.UP.MY.FUTURE\n"
          ]
        }
      ]
    },
    {
      "cell_type": "markdown",
      "source": [
        "### **STARTSWITH**"
      ],
      "metadata": {
        "id": "ePUVg5ZeNmZK"
      }
    },
    {
      "cell_type": "code",
      "source": [
        "print(curso)\n",
        "print(curso.startswith(\"C\"))\n",
        "print(curso.startswith(\"c\"))\n",
        "print(\"CC:121212;nombre;genero\".startswith(\"CC\"))"
      ],
      "metadata": {
        "colab": {
          "base_uri": "https://localhost:8080/"
        },
        "id": "k-GGFQHbgYQO",
        "outputId": "e80d16b8-b2bd-4dd8-8a92-f216ca210121"
      },
      "execution_count": 64,
      "outputs": [
        {
          "output_type": "stream",
          "name": "stdout",
          "text": [
            "CoDiG.Up.My.Future\n",
            "True\n",
            "False\n",
            "True\n"
          ]
        }
      ]
    },
    {
      "cell_type": "markdown",
      "source": [
        "### **CONCATENACIÓN DE OPERACIONES**"
      ],
      "metadata": {
        "id": "ylc3zMDANmWp"
      }
    },
    {
      "cell_type": "markdown",
      "source": [
        "### **LARGO**"
      ],
      "metadata": {
        "id": "T5KCL4aZhmLs"
      }
    },
    {
      "cell_type": "code",
      "source": [
        "curso_minuscula: str = curso.lower()\n",
        "print(curso_minuscula.startswith(\"c\"))"
      ],
      "metadata": {
        "colab": {
          "base_uri": "https://localhost:8080/"
        },
        "id": "HAWfO-_KhlxP",
        "outputId": "b1a35cc1-fb0c-4818-a845-17631ea1d73f"
      },
      "execution_count": 65,
      "outputs": [
        {
          "output_type": "stream",
          "name": "stdout",
          "text": [
            "True\n"
          ]
        }
      ]
    },
    {
      "cell_type": "markdown",
      "source": [
        "### **CORTO**"
      ],
      "metadata": {
        "id": "1IJDjeSnNmUM"
      }
    },
    {
      "cell_type": "code",
      "source": [
        "\"\"\"\n",
        "1. curso.lower() = codig.up.my.future\n",
        "2. codig.up.my.future y evalua si empieza con C\n",
        "\"\"\"\n",
        "print(curso.lower().startswith(\"c\"))"
      ],
      "metadata": {
        "id": "wiBiT4BDh-8q"
      },
      "execution_count": null,
      "outputs": []
    },
    {
      "cell_type": "markdown",
      "source": [
        "### **CAPITALIZE**"
      ],
      "metadata": {
        "id": "WmGXJmviNmR0"
      }
    },
    {
      "cell_type": "code",
      "source": [
        "print(curso)\n",
        "print(curso.capitalize())\n",
        "print(\"codig up my future\".capitalize())"
      ],
      "metadata": {
        "colab": {
          "base_uri": "https://localhost:8080/"
        },
        "id": "RN8CiHJOjXpQ",
        "outputId": "3f5e0462-ee76-4632-99af-132469895ee3"
      },
      "execution_count": 84,
      "outputs": [
        {
          "output_type": "stream",
          "name": "stdout",
          "text": [
            "CoDiG.Up.My.Future\n",
            "Codig.up.my.future\n",
            "Codig up my future\n"
          ]
        }
      ]
    },
    {
      "cell_type": "markdown",
      "source": [
        "### **TITLE**"
      ],
      "metadata": {
        "id": "Ejd5h6gWNmPQ"
      }
    },
    {
      "cell_type": "code",
      "source": [
        "print(curso)\n",
        "print(curso.title())\n",
        "print(\"title-->\",\"codig up my future\".title())"
      ],
      "metadata": {
        "colab": {
          "base_uri": "https://localhost:8080/"
        },
        "id": "MtxvrgOyjmXJ",
        "outputId": "7cd630d0-cfdc-48ac-971f-da676f6d3b1f"
      },
      "execution_count": 83,
      "outputs": [
        {
          "output_type": "stream",
          "name": "stdout",
          "text": [
            "CoDiG.Up.My.Future\n",
            "Codig.Up.My.Future\n",
            "title--> Codig Up My Future\n"
          ]
        }
      ]
    },
    {
      "cell_type": "markdown",
      "source": [
        "### **CENTER**\n",
        "\n",
        "\n",
        "\n",
        "\n",
        "```\n",
        "**********hola********\n",
        "```\n",
        "\n"
      ],
      "metadata": {
        "id": "u-KitOObj90O"
      }
    },
    {
      "cell_type": "code",
      "source": [
        "help(str.center)"
      ],
      "metadata": {
        "colab": {
          "base_uri": "https://localhost:8080/"
        },
        "id": "S546iXA9ljXE",
        "outputId": "9aa4e7f1-ebe9-481d-c90c-bdc1c52cba81"
      },
      "execution_count": 82,
      "outputs": [
        {
          "output_type": "stream",
          "name": "stdout",
          "text": [
            "Help on method_descriptor:\n",
            "\n",
            "center(self, width, fillchar=' ', /)\n",
            "    Return a centered string of length width.\n",
            "    \n",
            "    Padding is done using the specified fill character (default is a space).\n",
            "\n"
          ]
        }
      ]
    },
    {
      "cell_type": "code",
      "source": [
        "print(curso)\n",
        "print(curso.lower().center(50, \"*\"))\n",
        "print(curso.lower().center(50, \"@\"))\n",
        "print(curso.lower().center(50, \" \"))\n",
        "print(curso[-6:].lower().center(50, \" \"))"
      ],
      "metadata": {
        "colab": {
          "base_uri": "https://localhost:8080/"
        },
        "id": "MEgcMj75j7GC",
        "outputId": "6e8a975e-6b9d-4eb4-9ae1-a78bb8418404"
      },
      "execution_count": 81,
      "outputs": [
        {
          "output_type": "stream",
          "name": "stdout",
          "text": [
            "CoDiG.Up.My.Future\n",
            "****************codig.up.my.future****************\n",
            "@@@@@@@@@@@@@@@@codig.up.my.future@@@@@@@@@@@@@@@@\n",
            "                codig.up.my.future                \n",
            "                      future                      \n"
          ]
        }
      ]
    }
  ]
}