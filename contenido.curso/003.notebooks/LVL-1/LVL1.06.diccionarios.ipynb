{
  "cells": [
    {
      "cell_type": "markdown",
      "metadata": {
        "id": "S8gTUH4D-q12"
      },
      "source": [
        "<p><img src=\"https://i.postimg.cc/cCjTSn8r/ss-cumf.png\" alt=\"\" width=\"1280\" height=\"300\" /></p>"
      ]
    },
    {
      "cell_type": "markdown",
      "metadata": {
        "id": "I9y4uJNz_kvS"
      },
      "source": [
        "# **DICCIONARIOS**\n",
        "\n",
        "Son estructuras de datos no ordenadas, las cuales se representan por llave y por valor, y pueden tener múltiples elementos\n",
        "\n",
        "Consideraciones:\n",
        "\n",
        "\n",
        "1.   Si vas a asignar varios elementos en un diccionario, deben ir separados por \",\" menos el último\n",
        "2.   Las llaves son únicas\n",
        "3.   Si asigno un valor a una llave existente, no crea una nueva llave, pero sí reemplaza el valor\n",
        "4.   Las llaves pueden ser de otros tipos de datos diferentes a texto\n",
        "5.   Si la llave no existe la crea automáticamente al momento de asignar valor\n",
        "6.   Si la llave no existe y se quiere acceder a ella, genera error\n",
        "7.   Me permite manejar niveles\n",
        "8.   Los valores pueden ser cualquier tipo de dato"
      ]
    },
    {
      "cell_type": "code",
      "execution_count": 5,
      "metadata": {
        "colab": {
          "base_uri": "https://localhost:8080/"
        },
        "id": "UawIpi49-X05",
        "outputId": "a5876223-8c18-452c-a754-5e083a8ead89"
      },
      "outputs": [
        {
          "name": "stdout",
          "output_type": "stream",
          "text": [
            "<class 'dict'> {'llave': 'valor', 'edad': 18.5}\n"
          ]
        }
      ],
      "source": [
        "dvacio: dict = {}\n",
        "dinicializado = {\"llave\": \"valor\", \"edad\": 18.5}\n",
        "print(type(dinicializado), dinicializado)"
      ]
    },
    {
      "cell_type": "code",
      "execution_count": 6,
      "metadata": {
        "colab": {
          "base_uri": "https://localhost:8080/"
        },
        "id": "_Sxv7zWUxgnx",
        "outputId": "8d60df45-c2cf-4027-8be7-a644cb18a019"
      },
      "outputs": [
        {
          "name": "stdout",
          "output_type": "stream",
          "text": [
            "18.5\n"
          ]
        }
      ],
      "source": [
        "# llaves de primer nivel\n",
        "# acceso elemental propenso a errores\n",
        "print(dinicializado[\"edad\"])"
      ]
    },
    {
      "cell_type": "code",
      "execution_count": 7,
      "metadata": {
        "colab": {
          "base_uri": "https://localhost:8080/",
          "height": 194
        },
        "id": "QPT20gQQx3Sy",
        "outputId": "05bec3ca-dd20-4891-9f57-bfcf96cdf8db"
      },
      "outputs": [
        {
          "ename": "AttributeError",
          "evalue": "'dict' object has no attribute 'edad'",
          "output_type": "error",
          "traceback": [
            "\u001b[1;31m---------------------------------------------------------------------------\u001b[0m",
            "\u001b[1;31mAttributeError\u001b[0m                            Traceback (most recent call last)",
            "Cell \u001b[1;32mIn[7], line 2\u001b[0m\n\u001b[0;32m      1\u001b[0m \u001b[39m# forma no permitida\u001b[39;00m\n\u001b[1;32m----> 2\u001b[0m \u001b[39mprint\u001b[39m(dinicializado\u001b[39m.\u001b[39;49medad)\n",
            "\u001b[1;31mAttributeError\u001b[0m: 'dict' object has no attribute 'edad'"
          ]
        }
      ],
      "source": [
        "# forma no permitida\n",
        "print(dinicializado.edad)"
      ]
    },
    {
      "cell_type": "code",
      "execution_count": null,
      "metadata": {
        "colab": {
          "base_uri": "https://localhost:8080/",
          "height": 211
        },
        "id": "xmcCymsEyHCH",
        "outputId": "25013259-851c-4c42-8691-7d504a9fcf2a"
      },
      "outputs": [
        {
          "name": "stdout",
          "output_type": "stream",
          "text": [
            "{'llave': 'valor', 'edad': 18.5}\n"
          ]
        },
        {
          "ename": "KeyError",
          "evalue": "ignored",
          "output_type": "error",
          "traceback": [
            "\u001b[0;31m---------------------------------------------------------------------------\u001b[0m",
            "\u001b[0;31mKeyError\u001b[0m                                  Traceback (most recent call last)",
            "\u001b[0;32m<ipython-input-4-cf525ef72dbf>\u001b[0m in \u001b[0;36m<cell line: 2>\u001b[0;34m()\u001b[0m\n\u001b[1;32m      1\u001b[0m \u001b[0mprint\u001b[0m\u001b[0;34m(\u001b[0m\u001b[0mdinicializado\u001b[0m\u001b[0;34m)\u001b[0m\u001b[0;34m\u001b[0m\u001b[0;34m\u001b[0m\u001b[0m\n\u001b[0;32m----> 2\u001b[0;31m \u001b[0mprint\u001b[0m\u001b[0;34m(\u001b[0m\u001b[0mdinicializado\u001b[0m\u001b[0;34m[\u001b[0m\u001b[0;34m\"digame_el_futuro\"\u001b[0m\u001b[0;34m]\u001b[0m\u001b[0;34m)\u001b[0m\u001b[0;34m\u001b[0m\u001b[0;34m\u001b[0m\u001b[0m\n\u001b[0m",
            "\u001b[0;31mKeyError\u001b[0m: 'digame_el_futuro'"
          ]
        }
      ],
      "source": [
        "print(dinicializado)\n",
        "print(dinicializado[\"dígame_el_futuro\"])"
      ]
    },
    {
      "cell_type": "markdown",
      "metadata": {
        "id": "2Y08FgocyZ6j"
      },
      "source": [
        "## **GET**\n",
        "\n",
        "Recomendada cuando se tenga incertidumbre\n",
        "\n",
        "\n",
        "Nota: no queda almacenado en el diccionario\n",
        "```\n",
        "# nota: cualquier tipo de dato\n",
        "diccionario.get(\"llave\", \"valor en caso de que no exita la llave\")\n",
        "```\n",
        "\n"
      ]
    },
    {
      "cell_type": "code",
      "execution_count": null,
      "metadata": {
        "colab": {
          "base_uri": "https://localhost:8080/"
        },
        "id": "ApCrHyTgyYcf",
        "outputId": "5e8ef4a7-cb24-4b5f-f5e9-1f8e350ad12f"
      },
      "outputs": [
        {
          "name": "stdout",
          "output_type": "stream",
          "text": [
            "{'llave': 'valor', 'edad': 18.5}\n",
            "sacan 5, si estudian.\n"
          ]
        }
      ],
      "source": [
        "print(dinicializado)\n",
        "print(dinicializado.get(\"dígame_el_futuro\", \"sacan 5, si estudian.\"))"
      ]
    },
    {
      "cell_type": "code",
      "execution_count": null,
      "metadata": {
        "colab": {
          "base_uri": "https://localhost:8080/"
        },
        "id": "InKXluwxzdMU",
        "outputId": "608415b2-a77b-436a-bab4-2beca0e3cb24"
      },
      "outputs": [
        {
          "name": "stdout",
          "output_type": "stream",
          "text": [
            "{'llave': 'valor', 'edad': 18.5}\n",
            "18.5\n",
            "{'llave': 'valor', 'edad': 18.5}\n"
          ]
        }
      ],
      "source": [
        "print(dinicializado)\n",
        "print(dinicializado.get(\"edad\", True))\n",
        "print(dinicializado)"
      ]
    },
    {
      "cell_type": "code",
      "execution_count": null,
      "metadata": {
        "colab": {
          "base_uri": "https://localhost:8080/"
        },
        "id": "raG9DShQAACG",
        "outputId": "2e708fe9-6e08-4031-8977-364ec08c576d"
      },
      "outputs": [
        {
          "data": {
            "text/plain": [
              "-1"
            ]
          },
          "execution_count": 30,
          "metadata": {},
          "output_type": "execute_result"
        }
      ],
      "source": [
        "# forma 1 | pregunta\n",
        "dinicializado.get(\"fafa\", -1)"
      ]
    },
    {
      "cell_type": "markdown",
      "metadata": {
        "id": "bDxBLJUK0Gst"
      },
      "source": [
        "## **KEYS**\n",
        "\n",
        "Solamente traen los elementos del primer nivel"
      ]
    },
    {
      "cell_type": "code",
      "execution_count": null,
      "metadata": {
        "colab": {
          "base_uri": "https://localhost:8080/"
        },
        "id": "KNAL34Y80FnR",
        "outputId": "9a0ad3dc-05e1-4180-b165-ab73e18c8965"
      },
      "outputs": [
        {
          "name": "stdout",
          "output_type": "stream",
          "text": [
            "{'llave': 'valor', 'edad': 18.5}\n",
            "dict_keys(['llave', 'edad'])\n",
            "['llave', 'edad']\n"
          ]
        }
      ],
      "source": [
        "print(dinicializado)\n",
        "print(dinicializado.keys())\n",
        "print(list(dinicializado.keys()))"
      ]
    },
    {
      "cell_type": "markdown",
      "metadata": {
        "id": "50ZwrYLO0isR"
      },
      "source": [
        "## **VALUES**\n",
        "\n",
        "Solamente traen los elementos del primer nivel"
      ]
    },
    {
      "cell_type": "code",
      "execution_count": null,
      "metadata": {
        "colab": {
          "base_uri": "https://localhost:8080/"
        },
        "id": "jiCoYSJe0jDA",
        "outputId": "7b721628-02e0-4c6d-b6d2-cb453c2d515c"
      },
      "outputs": [
        {
          "name": "stdout",
          "output_type": "stream",
          "text": [
            "{'llave': 'valor', 'edad': 18.5}\n",
            "dict_values(['valor', 18.5])\n",
            "['valor', 18.5]\n"
          ]
        }
      ],
      "source": [
        "print(dinicializado)\n",
        "print(dinicializado.values())\n",
        "print(list(dinicializado.values()))"
      ]
    },
    {
      "cell_type": "markdown",
      "metadata": {
        "id": "748jQ6wl007e"
      },
      "source": [
        "## **ITEMS**"
      ]
    },
    {
      "cell_type": "code",
      "execution_count": null,
      "metadata": {
        "colab": {
          "base_uri": "https://localhost:8080/"
        },
        "id": "P3MYDuci00f8",
        "outputId": "2621519a-bac5-4063-a55c-d9ba0bd2050f"
      },
      "outputs": [
        {
          "name": "stdout",
          "output_type": "stream",
          "text": [
            "{'llave': 'valor', 'edad': 18.5}\n",
            "dict_items([('llave', 'valor'), ('edad', 18.5)])\n",
            "[('llave', 'valor'), ('edad', 18.5)]\n"
          ]
        }
      ],
      "source": [
        "print(dinicializado)\n",
        "print(dinicializado.items())\n",
        "items = list(dinicializado.items())\n",
        "print(items)"
      ]
    },
    {
      "cell_type": "code",
      "execution_count": null,
      "metadata": {
        "colab": {
          "base_uri": "https://localhost:8080/"
        },
        "id": "vj9_jI2r1erB",
        "outputId": "006a04e0-78fe-4e82-f9c7-b39411578b73"
      },
      "outputs": [
        {
          "name": "stdout",
          "output_type": "stream",
          "text": [
            "('llave', 'valor')\n",
            "llave\n"
          ]
        }
      ],
      "source": [
        "print(items[0])\n",
        "print(items[0][0])"
      ]
    },
    {
      "cell_type": "code",
      "execution_count": null,
      "metadata": {
        "colab": {
          "base_uri": "https://localhost:8080/"
        },
        "id": "0zNg4afZ2G2T",
        "outputId": "46d50679-a4f7-492b-d96c-720b26524c52"
      },
      "outputs": [
        {
          "name": "stdout",
          "output_type": "stream",
          "text": [
            "elemento_1: ('edad', 18.5)\n",
            "elemento_2: ('python_level', 1)\n"
          ]
        }
      ],
      "source": [
        "elemento_1, elemento_2 = list(dinicializado.items())\n",
        "print(\"elemento_1:\",elemento_1)\n",
        "print(\"elemento_2:\",elemento_2)"
      ]
    },
    {
      "cell_type": "code",
      "execution_count": null,
      "metadata": {
        "colab": {
          "base_uri": "https://localhost:8080/"
        },
        "id": "hAk8yFK92Qz3",
        "outputId": "89c97320-e70d-4a65-b058-0d5b1549a9ae"
      },
      "outputs": [
        {
          "ename": "NameError",
          "evalue": "name 'dinicializado' is not defined",
          "output_type": "error",
          "traceback": [
            "\u001b[1;31m---------------------------------------------------------------------------\u001b[0m",
            "\u001b[1;31mNameError\u001b[0m                                 Traceback (most recent call last)",
            "Cell \u001b[1;32mIn[1], line 2\u001b[0m\n\u001b[0;32m      1\u001b[0m \u001b[39m# nivel 2\u001b[39;00m\n\u001b[1;32m----> 2\u001b[0m \u001b[39mfor\u001b[39;00m key, value \u001b[39min\u001b[39;00m dinicializado\u001b[39m.\u001b[39mitems():\n\u001b[0;32m      3\u001b[0m   \u001b[39mprint\u001b[39m(\u001b[39m\"\u001b[39m\u001b[39mllave: \u001b[39m\u001b[39m\"\u001b[39m, key)\n\u001b[0;32m      4\u001b[0m   \u001b[39mprint\u001b[39m(\u001b[39m\"\u001b[39m\u001b[39mvalor: \u001b[39m\u001b[39m\"\u001b[39m, value)\n",
            "\u001b[1;31mNameError\u001b[0m: name 'dinicializado' is not defined"
          ]
        }
      ],
      "source": [
        "# nivel 2\n",
        "for key, value in dinicializado.items():\n",
        "  print(\"llave: \", key)\n",
        "  print(\"valor: \", value)"
      ]
    },
    {
      "cell_type": "markdown",
      "metadata": {
        "id": "ixn32ChN2woo"
      },
      "source": [
        "\n",
        "\n",
        "```\n",
        "antes de ':' es la llave, despues de los 'valores'\n",
        "{'llave': 'valor', 'edad': 18.5}\n",
        "\n",
        "llaves:\n",
        "'llave'\n",
        "'edad'\n",
        "\n",
        "valores:\n",
        "'valor'\n",
        "18.5\n",
        "```\n",
        "\n"
      ]
    },
    {
      "cell_type": "markdown",
      "metadata": {
        "id": "z4AGiZrq3qov"
      },
      "source": [
        "## **ASIGNACIÓN**"
      ]
    },
    {
      "cell_type": "code",
      "execution_count": null,
      "metadata": {
        "colab": {
          "base_uri": "https://localhost:8080/"
        },
        "id": "zRBSuf5k3uy6",
        "outputId": "153b265d-103a-4b0f-aae7-d2f4d2585510"
      },
      "outputs": [
        {
          "name": "stdout",
          "output_type": "stream",
          "text": [
            "{'llave': 'valor', 'edad': 18.5}\n",
            "{'llave': 'valor', 'edad': 18.5, 'python_level': 1}\n"
          ]
        }
      ],
      "source": [
        "print(dinicializado)\n",
        "dinicializado[\"python_level\"] = 1\n",
        "print(dinicializado)"
      ]
    },
    {
      "cell_type": "markdown",
      "metadata": {
        "id": "uADsu85Q3_2s"
      },
      "source": [
        "## **POP**"
      ]
    },
    {
      "cell_type": "code",
      "execution_count": null,
      "metadata": {
        "colab": {
          "base_uri": "https://localhost:8080/"
        },
        "id": "s5oshMvK3_Z0",
        "outputId": "53c47c3a-2b69-4328-e134-6595d6430c39"
      },
      "outputs": [
        {
          "name": "stdout",
          "output_type": "stream",
          "text": [
            "{'llave': 'valor', 'edad': 18.5, 'python_level': 1}\n",
            "{'edad': 18.5, 'python_level': 1}\n"
          ]
        }
      ],
      "source": [
        "print(dinicializado)\n",
        "dinicializado.pop('llave')\n",
        "print(dinicializado)"
      ]
    },
    {
      "cell_type": "markdown",
      "metadata": {
        "id": "1EHWGHFI5fA-"
      },
      "source": [
        "## **COPY**"
      ]
    },
    {
      "cell_type": "code",
      "execution_count": null,
      "metadata": {
        "colab": {
          "base_uri": "https://localhost:8080/"
        },
        "id": "E37ohiO25htn",
        "outputId": "7d5f8e3a-cf2b-423e-8b99-1063a8ebca51"
      },
      "outputs": [
        {
          "name": "stdout",
          "output_type": "stream",
          "text": [
            "{'edad': 18.5, 'python_level': 1}\n",
            "{'edad': 18.5, 'python_level': 1}\n"
          ]
        }
      ],
      "source": [
        "copia_a = dinicializado.copy()\n",
        "copia_b = dinicializado.copy()\n",
        "print(copia_a)\n",
        "print(copia_b)"
      ]
    },
    {
      "cell_type": "markdown",
      "metadata": {
        "id": "bdYp0s3P4RtA"
      },
      "source": [
        "## **UPDATE**"
      ]
    },
    {
      "cell_type": "code",
      "execution_count": null,
      "metadata": {
        "colab": {
          "base_uri": "https://localhost:8080/"
        },
        "id": "KVWD7JM64QRj",
        "outputId": "4bc500d4-40e5-43e0-ea11-496883154ab1"
      },
      "outputs": [
        {
          "name": "stdout",
          "output_type": "stream",
          "text": [
            "{(6.210587535457488, -75.57099775407882): 'parque del poblado'}\n"
          ]
        }
      ],
      "source": [
        "# Ejemplo con información geográfica | investigar latitud y longitud, SIG\n",
        "a_concatenar = {(6.210587535457488, -75.57099775407882): \"Parque del Poblado\"}\n",
        "print(a_concatenar)"
      ]
    },
    {
      "cell_type": "code",
      "execution_count": null,
      "metadata": {
        "colab": {
          "base_uri": "https://localhost:8080/"
        },
        "id": "G-2qwwwx8k2p",
        "outputId": "e6575f4b-4f5c-409e-8c5b-bd5272098d47"
      },
      "outputs": [
        {
          "name": "stdout",
          "output_type": "stream",
          "text": [
            "parque del poblado\n"
          ]
        }
      ],
      "source": [
        "print(a_concatenar[(6.210587535457488, -75.57099775407882)])"
      ]
    },
    {
      "cell_type": "code",
      "execution_count": null,
      "metadata": {
        "colab": {
          "base_uri": "https://localhost:8080/"
        },
        "id": "OoGGdveH3-rp",
        "outputId": "b7b939bc-ac9f-4f1a-a2a2-236656d47688"
      },
      "outputs": [
        {
          "name": "stdout",
          "output_type": "stream",
          "text": [
            "antes {'edad': 18.5, 'python_level': 1}\n",
            "despues {'edad': 18.5, 'python_level': 1, (6.210587535457488, -75.57099775407882): 'parque del poblado'}\n"
          ]
        }
      ],
      "source": [
        "print(\"antes\",copia_a )\n",
        "copia_a.update(a_concatenar)\n",
        "print(\"después\",copia_a )"
      ]
    },
    {
      "cell_type": "code",
      "execution_count": null,
      "metadata": {
        "colab": {
          "base_uri": "https://localhost:8080/"
        },
        "id": "QzAaqpwk57KL",
        "outputId": "163dc86f-d08e-469f-ca66-54ad3255bfc0"
      },
      "outputs": [
        {
          "name": "stdout",
          "output_type": "stream",
          "text": [
            "dict_keys(['edad', 'python_level', (6.210587535457488, -75.57099775407882)])\n"
          ]
        }
      ],
      "source": [
        "print(copia_a.keys())"
      ]
    },
    {
      "cell_type": "code",
      "execution_count": null,
      "metadata": {
        "colab": {
          "base_uri": "https://localhost:8080/"
        },
        "id": "yRBPF1Fb6AKv",
        "outputId": "5ff67dc9-5847-4dc7-eee0-f381135590c1"
      },
      "outputs": [
        {
          "name": "stdout",
          "output_type": "stream",
          "text": [
            "dict_values([18.5, 1, 'parque del poblado'])\n"
          ]
        }
      ],
      "source": [
        "print(copia_a.values())"
      ]
    },
    {
      "cell_type": "markdown",
      "metadata": {
        "id": "_ftlPlGA6J6U"
      },
      "source": [
        "## **TRUCO**\n",
        "\n",
        "\n",
        "\n",
        "1.   **KEY ARGS | KARGS**: **\n",
        "2.   **ARGS**: *\n",
        "\n"
      ]
    },
    {
      "cell_type": "code",
      "execution_count": null,
      "metadata": {
        "colab": {
          "base_uri": "https://localhost:8080/"
        },
        "id": "MJW2zhwU6H4q",
        "outputId": "8d88bad9-1370-4472-af6d-aab9b50d14e2"
      },
      "outputs": [
        {
          "name": "stdout",
          "output_type": "stream",
          "text": [
            "{'edad': 18.5, 'python_level': 1, (6.210587535457488, -75.57099775407882): 'parque del poblado'}\n"
          ]
        }
      ],
      "source": [
        "dic_final = {**copia_b, **a_concatenar}\n",
        "print(dic_final)"
      ]
    }
  ],
  "metadata": {
    "colab": {
      "provenance": [],
      "toc_visible": true
    },
    "kernelspec": {
      "display_name": "Python 3",
      "name": "python3"
    },
    "language_info": {
      "codemirror_mode": {
        "name": "ipython",
        "version": 3
      },
      "file_extension": ".py",
      "mimetype": "text/x-python",
      "name": "python",
      "nbconvert_exporter": "python",
      "pygments_lexer": "ipython3",
      "version": "3.10.7"
    }
  },
  "nbformat": 4,
  "nbformat_minor": 0
}
