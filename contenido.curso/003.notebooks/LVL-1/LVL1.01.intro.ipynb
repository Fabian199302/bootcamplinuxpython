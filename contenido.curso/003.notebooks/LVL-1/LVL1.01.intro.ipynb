{
  "nbformat": 4,
  "nbformat_minor": 0,
  "metadata": {
    "colab": {
      "provenance": [],
      "toc_visible": true
    },
    "kernelspec": {
      "name": "python3",
      "display_name": "Python 3"
    },
    "language_info": {
      "name": "python"
    }
  },
  "cells": [
    {
      "cell_type": "markdown",
      "source": [
        "<p><img src=\"https://i.postimg.cc/cCjTSn8r/ss-cumf.png\" alt=\"\" width=\"1280\" height=\"300\" /></p>"
      ],
      "metadata": {
        "id": "7Vj8ZBaLuxRf"
      }
    },
    {
      "cell_type": "markdown",
      "source": [
        "# **CONCEPTOS TEÓRICOS**"
      ],
      "metadata": {
        "id": "FosqPaLLvzID"
      }
    },
    {
      "cell_type": "markdown",
      "source": [
        "## **QUE ES UN NOTEBOOK?**\n",
        "\n",
        "Los Jupyter Notebooks son una herramienta interactiva de código abierto muy popular en el ámbito de la ciencia de datos, la investigación y la educación. Proporcionan un entorno computacional interactivo que permite combinar texto, código ejecutable, gráficos y elementos multimedia, todo en un único documento.\n",
        "\n",
        "Para entenderlo veamoslo desde un punto de vista comun:\n",
        "<p><img src=\"https://media.licdn.com/dms/image/D4D12AQH4sRoj9narOg/article-cover_image-shrink_423_752/0/1684856996049?e=1696464000&v=beta&t=l2rZpBStN1O1l1wQ4fwhRurAQ5mUf4_sjHEydT64gmM\" alt=\"\" width=\"468\" height=\"200\" /></p>\n"
      ],
      "metadata": {
        "id": "xreUqKtx8qRO"
      }
    },
    {
      "cell_type": "markdown",
      "source": [
        "## **QUE ES MARKDOWN?**\n",
        "\n",
        "**Markdown** es un lenguaje de marcado ligero y fácil de usar que se utiliza para formatear texto de manera sencilla y rápida. Se diseñó para ser legible en su forma no formateada, lo que lo convierte en una excelente opción para escribir documentos, READMEs, blogs y páginas web.\n",
        "\n",
        "\n",
        "\n",
        "*   [**TUTORIAL DETALLADO**](https://markdown.es/sintaxis-markdown/)\n",
        "\n",
        "*   [**HERRAMIENTA RECOMENDADA**](https://hackmd.io/)\n",
        "\n",
        "\n",
        "\n",
        "---\n",
        "**EJEMPLOS:**"
      ],
      "metadata": {
        "id": "VyV6mvgkwIF8"
      }
    },
    {
      "cell_type": "markdown",
      "source": [
        "### **ENLACES EXTERNOS (LINKS)**\n",
        "\n",
        "[Click Aquí](https://www.python.org/static/community_logos/python-logo.png)"
      ],
      "metadata": {
        "id": "3NpO0s26wIDI"
      }
    },
    {
      "cell_type": "markdown",
      "source": [
        "### **TABLAS**\n",
        "\n",
        "| Nombre     |   Edad |   Profesión   |   Profesión   |\n",
        "|:----------:|------:|:--------------|-------------|\n",
        "|   Ana      |    30 | Desarrollador | Programadora |\n",
        "|   Carlos   |    25 | Diseñador     | Diseñador            |\n",
        "|   Laura    |    28 | Escritor      | Escritor             |\n",
        "\n",
        "\n",
        "\n",
        "\n",
        "\n",
        "```\n",
        ":--: |centrado\n",
        ":--: | centrado derecha\n",
        ":--  | centrado izquierda\n",
        "--   | centrado izquierda\n",
        "```\n",
        "\n"
      ],
      "metadata": {
        "id": "vU74bktLwIAa"
      }
    },
    {
      "cell_type": "markdown",
      "source": [
        "### **BIÑETAS**\n",
        "\n",
        "\n",
        "\n",
        "*   AAAA\n",
        "  - AAAA-1\n",
        "*   BBBB\n",
        "  - BBBB-2\n"
      ],
      "metadata": {
        "id": "s7071KsvwH92"
      }
    },
    {
      "cell_type": "markdown",
      "source": [
        "### **NÚMEROS**\n",
        "\n",
        "\n",
        "\n",
        "1.   111\n",
        "  - 111-A\n",
        "  * 111-A\n",
        "2.   222\n",
        "  - 222-A"
      ],
      "metadata": {
        "id": "4e2op1qcz-JR"
      }
    },
    {
      "cell_type": "markdown",
      "source": [
        "### **SEPARACIÓN POR LINEA**\n",
        "\n",
        "---"
      ],
      "metadata": {
        "id": "ElyEMxce0vVd"
      }
    },
    {
      "cell_type": "markdown",
      "source": [
        "### **CÓDIGO UNILÍNEA**\n",
        "\n",
        "Etoy ejecutando el comando `hola` y genera un error.\n",
        "\n",
        "\n"
      ],
      "metadata": {
        "id": "V9kO4e4x0CPn"
      }
    },
    {
      "cell_type": "markdown",
      "source": [
        "### **CÓDIGO MULTILÍNEA**\n",
        "\n",
        "Etoy ejecutando el comando `hola` y genera el siguiente error:\n",
        "\n",
        "\n",
        "\n",
        "```\n",
        "como van?\n",
        "como están?\n",
        "..\n",
        "..\n",
        "..\n",
        "bye!\n",
        "```\n",
        "\n",
        "Nota:\n",
        "\n",
        "Cuando se tiene  código multilínea, se le puede especificar el lenguaje para\n",
        "resaltar su sintaxis después de las 3 comillas invertidas.\n",
        "\n",
        "\n",
        "\n",
        "\n",
        "*   `java` para Java\n",
        "*   `python` para Python\n",
        "*   `javascript` para JavaScript\n",
        "*   `html` para HTML\n",
        "*   `css` para CSS\n",
        "*   `bash` para comandos de la terminal (Bash)\n",
        "*   `sql` para SQL (Structured Query Language)\n",
        "*   `ruby` para Ruby\n",
        "*   `cpp` o `c++` para C++\n",
        "*   `php` para PHP\n",
        "*   `markdown` para el propio Markdown (útil para mostrar ejemplos de Markdown)\n"
      ],
      "metadata": {
        "id": "xu8UcN4X0HXw"
      }
    },
    {
      "cell_type": "markdown",
      "source": [
        "### **HTML**\n",
        "\n",
        "\n",
        "\n",
        "\n",
        "**Encabezados HTML:**\n",
        "\n",
        "html\n",
        "Copy code\n",
        "<!-- HTML -->\n",
        "<h1>Título 1</h1>\n",
        "<h2>Título 2</h2>\n",
        "<h3>Título 3</h3>\n",
        "\n",
        "\n",
        "**Equivalente en Markdown:**\n",
        "\n",
        "\n",
        "```\n",
        "# Título 1\n",
        "## Título 2\n",
        "### Título 3\n",
        "```\n",
        "\n",
        "<p><img src=\"https://i.postimg.cc/cCjTSn8r/ss-cumf.png\" alt=\"\" width=\"260\" height=\"63\" /></p>\n"
      ],
      "metadata": {
        "id": "1_XNQeGi0MND"
      }
    },
    {
      "cell_type": "markdown",
      "source": [
        "### **LATEX**\n",
        "\n",
        "Pará mas información, visite: [link](https://manualdelatex.com/tutoriales)\n",
        "\n",
        "\n",
        "\\begin{align}\n",
        "\\mathbf{a} \\cdot \\mathbf{b} = \\sum_{i=1}^n a_i b_i.\n",
        "\\end{align}\n",
        "\n",
        "\n",
        "\n",
        "\n",
        "\n",
        "LaTeX | symbol\n",
        "--- | :---:\n",
        "`\\approx` | $\\approx$\n",
        "`\\sim` | $\\sim$\n",
        "`\\propto` | $\\propto$\n",
        "`\\le` | $\\le$\n",
        "`ge` | $\\ge$\n",
        "`\\pm` | $\\pm$\n",
        "`\\in` | $\\in$\n",
        "`\\ln` | $\\ln$\n",
        "`\\exp` | $\\exp$\n",
        "`\\prod_{i\\in D}` | ${\\displaystyle \\prod_{i\\in D}}$\n",
        "`\\sum_{i\\in D}` | ${\\displaystyle \\sum_{i\\in D}}$\n",
        "`\\frac{\\partial f}{\\partial x}` | ${\\displaystyle \\frac{\\partial f}{\\partial x}}$\n",
        "`\\sqrt{x}` | $\\sqrt{x}$\n",
        "`\\bar{x}` | $\\bar{x}$\n",
        "`\\langle x \\rangle` | $\\langle x \\rangle$\n",
        "`\\left\\langle \\frac{x}{y} \\right\\rangle` | $\\left\\langle \\frac{x}{y} \\right\\rangle$"
      ],
      "metadata": {
        "id": "_DlmTxllglj2"
      }
    },
    {
      "cell_type": "markdown",
      "source": [
        "## **COMO APRENDER A PROGRAMAR?**\n",
        "\n",
        "\n",
        "<p><img src=\"https://i.postimg.cc/FzpXQ3bt/caap.jpg\" alt=\"\" width=\"1024\" height=\"723\" /></p>\n"
      ],
      "metadata": {
        "id": "cvKY7UIt-P_u"
      }
    },
    {
      "cell_type": "markdown",
      "source": [
        "## **CONCEPTOS ELEMENTALES**"
      ],
      "metadata": {
        "id": "oAES1xAjqp-u"
      }
    },
    {
      "cell_type": "markdown",
      "source": [
        "### **QUE ES UNA PYTHON?**\n",
        "\n",
        "\n",
        "<p><img src=\"https://upload.wikimedia.org/wikipedia/commons/thumb/6/66/Guido_van_Rossum_OSCON_2006.jpg/1200px-Guido_van_Rossum_OSCON_2006.jpg\" alt=\"\" width=\"225\" height=\"320\" /></p>\n",
        "\n",
        "\n",
        "Python es un lenguaje de programación de alto nivel, interpretado, de propósito general y con una sintaxis clara y legible. Fue creado por Guido van Rossum, un programador holandés, y la primera versión de Python se lanzó en 1991. Desde entonces, ha ganado una gran popularidad debido a su facilidad de uso, su enfoque en la legibilidad del código y su amplia comunidad de desarrolladores que han creado una gran cantidad de bibliotecas y módulos que facilitan el desarrollo de aplicaciones en diversos campos.\n",
        "\n",
        "[que versión usar](https://devguide.python.org/versions/)?\n"
      ],
      "metadata": {
        "id": "xWCkCH_mvpWH"
      }
    },
    {
      "cell_type": "markdown",
      "source": [
        "### **QUE ES UNA VARIABLE?**\n",
        "\n",
        "Una variable es un contenedor que se utiliza para almacenar y representar datos en memoria. Puedes pensar en una variable como una caja etiquetada en la que puedes poner un valor específico, y luego referirte a ese valor usando el nombre de la variable.\n",
        "\n",
        "\n",
        "<p><img src=\"https://blogger.googleusercontent.com/img/b/R29vZ2xl/AVvXsEhCnQzYw8GAj_eq6r2OR10JTYpw4RTQ93oSdpG1NB9KDrbsAyxT3HuDBlQUwBdfhg_w_k0jpuXLr4b9vECrNGv9ZegTlmEt668iQn3vuJc0VIy6DTzTWnByErxaAh3silXD67I6tqS3ekt4xkvUs3v6Urly0R9n4j5M6MLX6-9GxiJJfZdyiydrQ5AYQg/s800/image%20(15).webp\" alt=\"\" width=\"544\" height=\"233\" /></p>\n",
        "\n",
        "\n",
        "Miremoslo desde una mirada mas simple:\n",
        "<p><img src=\"https://img.yumpu.com/43636336/1/500x640/formulario-de-cambio-de-partidos-fecha-lugar-hora-federacian-.jpg\" alt=\"\" width=\"452\" height=\"640\" /></p>\n",
        "\n",
        "\n",
        "\n",
        "\n"
      ],
      "metadata": {
        "id": "Qfd8cIJFqysB"
      }
    },
    {
      "cell_type": "markdown",
      "source": [
        "### **QUE ES UN LENGUAJE DE PROGRAMACIÓN?**\n",
        "\n",
        "<p><img src=\"https://piperlab.es/wp-content/uploads/2020/09/lenguajes-de-programacion.jpg\" alt=\"\" width=\"544\" height=\"233\" /></p>\n",
        "\n",
        "\n",
        "Un lenguaje de programación es como un conjunto de instrucciones que le das a una computadora para que realice tareas específicas. Puedes pensar en ello como si estuvieras dando una serie de pasos detallados y precisos a una persona para que realice una tarea.\n",
        "\n",
        "\n",
        "Un lenguaje de programación consta de elementos como palabras clave, operadores, símbolos especiales, reglas de sintaxis y semántica, entre otros. Los programas escritos en un lenguaje de programación deben cumplir con las reglas y estructuras definidas en ese lenguaje para que sean comprensibles y ejecutables por la máquina.\n",
        "\n",
        "\n",
        "\n"
      ],
      "metadata": {
        "id": "xEZYHmK5qymi"
      }
    },
    {
      "cell_type": "markdown",
      "source": [
        "## **CONOCIMIENTO DEL LENGUAJE DE PROGRAMACIÓN**\n",
        "\n",
        "\n",
        "Las cinco preguntas que siempre se recomienda preguntar:"
      ],
      "metadata": {
        "id": "q-ifh44M-P84"
      }
    },
    {
      "cell_type": "markdown",
      "source": [],
      "metadata": {
        "id": "4iRcfEIb-P44"
      }
    },
    {
      "cell_type": "markdown",
      "source": [
        "### **1.LENGUAJE COMPILADO O INTERPRETADO**\n",
        "\n",
        "\n",
        "<p><img src=\"https://i.postimg.cc/FHg0cxb5/cmvsnocm.png\" alt=\"\" width=\"544\" height=\"233\" /></p>\n",
        "\n"
      ],
      "metadata": {
        "id": "54HtHGcvclDa"
      }
    },
    {
      "cell_type": "markdown",
      "source": [
        "### **2.QUE PARADIGMAS DE PROGRAMACIÓN MANEJA?**\n",
        "\n",
        "<p><img src=\"https://keepcoding.io/wp-content/uploads/2022/08/paradigmas-de-programacion.jpg\" alt=\"\" width=\"544\" height=\"233\" /></p>\n",
        "\n",
        "\n",
        "\n",
        "Para entenderlo veamoslo desde un punto de vista comun:\n",
        "<p><img src=\"https://i.postimg.cc/FzSV6dqj/pinturas.png\" alt=\"\" width=\"468\" height=\"146\" /></p>\n",
        "\n",
        "\n",
        "\n",
        "1.   Acuarela.\n",
        "2.   Óleo.\n",
        "3.   Gouache.\n",
        "4.   Aerografía.\n",
        "5.   Pintura al pastel.\n",
        "6.   Temple o témpera.\n",
        "7.   Fresco.\n",
        "8.   Acrílico.\n",
        "\n"
      ],
      "metadata": {
        "id": "acjdKdDeck9U"
      }
    },
    {
      "cell_type": "markdown",
      "source": [
        "#### **PROGRAMACIÓM IMPERACTIVA**\n",
        "\n",
        "Python es un lenguaje imperativo en su núcleo, lo que significa que se ejecuta línea por línea, indicando cómo lograr el resultado paso a paso. Los programas en Python están compuestos principalmente por declaraciones y comandos que modifican el estado del programa.\n",
        "\n",
        "\n",
        "\n",
        "```python\n",
        "def factorial_iterative(n):\n",
        "    result = 1\n",
        "    for i in range(1, n+1):\n",
        "        result *= i\n",
        "    return result\n",
        "\n",
        "print(factorial_iterative(5))  # Salida: 120\n",
        "```\n",
        "\n"
      ],
      "metadata": {
        "id": "d7cxBfBZhnzQ"
      }
    },
    {
      "cell_type": "markdown",
      "source": [
        "#### **PROGRAMACIÓN ORIENTADA A OBJETOS (OOP)**\n",
        "\n",
        " Python es un lenguaje orientado a objetos, lo que permite la definición de clases y objetos. Los objetos encapsulan datos y comportamientos, y las clases son plantillas que definen cómo se crean esos objetos. Python facilita la creación de objetos y el uso de herencia, polimorfismo y encapsulación.\n",
        "\n",
        "\n",
        "\n",
        "```python\n",
        "class Persona:\n",
        "    def __init__(self, nombre, edad):\n",
        "        self.nombre = nombre\n",
        "        self.edad = edad\n",
        "\n",
        "    def saludar(self):\n",
        "        return f\"Hola, mi nombre es {self.nombre} y tengo {self.edad} años.\"\n",
        "\n",
        "persona1 = Persona(\"Juan\", 30)\n",
        "print(persona1.saludar())  # Salida: \"Hola, mi nombre es Juan y tengo 30 años.\"e\n",
        "```\n",
        "\n"
      ],
      "metadata": {
        "id": "LtqEPRioBRFw"
      }
    },
    {
      "cell_type": "markdown",
      "source": [
        "#### **PROGRAMACIÓN FUNCIONAL**\n",
        "\n",
        "Python admite programación funcional, que se centra en el uso de funciones como elementos de primer orden. Esto significa que las funciones pueden tratarse como cualquier otro objeto, lo que permite el uso de funciones anónimas (lambda), funciones de orden superior y operaciones de mapeo y reducción.\n",
        "\n",
        "\n",
        "\n",
        "```python\n",
        "numeros = [1, 2, 3, 4, 5]\n",
        "\n",
        "# Usando funciones de orden superior\n",
        "cuadrados = list(map(lambda x: x ** 2, numeros))\n",
        "print(cuadrados)  # Salida: [1, 4, 9, 16, 25]\n",
        "\n",
        "# Usando comprensiones de listas\n",
        "cubos = [x ** 3 for x in numeros]\n",
        "print(cubos)  # Salida: [1, 8, 27, 64, 125]\n",
        "```\n",
        "\n"
      ],
      "metadata": {
        "id": "jMXBVjZrhntk"
      }
    },
    {
      "cell_type": "markdown",
      "source": [
        "#### **PROGRAMACIÓN PROCEDURAL**\n",
        "\n",
        "Python es adecuado para la programación procedural, que es un estilo de programación estructurado que divide el programa en procedimientos y subrutinas para resolver problemas.\n",
        "\n",
        "\n",
        "\n",
        "\n",
        "```python\n",
        "def suma(a, b):\n",
        "    return a + b\n",
        "\n",
        "resultado = suma(3, 5)\n",
        "print(resultado)  # Salida: 8\n",
        "```\n",
        "\n",
        "\n"
      ],
      "metadata": {
        "id": "cYE5VzcFhnni"
      }
    },
    {
      "cell_type": "markdown",
      "source": [
        "### **3. LENGUAJE DE TIPADO DINÁMICO O ESTÁTICO**\n",
        "\n",
        "<p><img src=\"https://res.cloudinary.com/practicaldev/image/fetch/s--i1yqfSl1--/c_imagga_scale,f_auto,fl_progressive,h_900,q_auto,w_1600/https://miro.medium.com/max/1400/1%2ABddwVWW6hFU0miT9DCbUWQ.png\" alt=\"\" width=\"544\" height=\"233\" /></p>\n",
        "\n"
      ],
      "metadata": {
        "id": "-2Vpz_aWhna0"
      }
    },
    {
      "cell_type": "markdown",
      "source": [
        "#### **ESTÁTICO O FUERTE**\n",
        "\n",
        "En un lenguaje tipado, también llamados de tipado estricto, se caracterizan por que requieren que que definamos el tipo de dato específico de las variables y expresiones que vamos a utilizar.\n",
        "\n",
        "\n",
        "```java\n",
        "int numero = 5;\n",
        "int resultado = numero + 10;\n",
        "resultado = \"hola\"; // error\n",
        "```\n",
        "\n"
      ],
      "metadata": {
        "id": "VUhrOhxThnUI"
      }
    },
    {
      "cell_type": "markdown",
      "source": [
        "\n",
        "#### **NO TIPADO O DINÁMICO**\n",
        "En un lenguaje no tipados, también llamados de tipado dinámico, no necesitan que indiquemos el tipo de las variables y expresiones al declarar la variable.\n",
        "\n",
        "\n",
        "\n",
        "```python\n",
        "numero = 5\n",
        "resultado = numero + 10\n",
        "resultado = \"hola\" # OK\n",
        "```\n",
        "\n"
      ],
      "metadata": {
        "id": "nzDsEqhDpYBK"
      }
    },
    {
      "cell_type": "markdown",
      "source": [
        "### **4. INDENTACIÓN DEL CÓDIGO**\n",
        "\n",
        "<p><img src=\"https://python.pages.doc.ic.ac.uk/java/lessons/java/01-intro/_images/guessing_game_braces.png\" alt=\"\" width=\"1365\" height=\"653\" /></p>\n",
        "\n",
        "\n",
        "\n",
        "---\n",
        "\n"
      ],
      "metadata": {
        "id": "YMp9n6YMgIkn"
      }
    },
    {
      "cell_type": "markdown",
      "source": [
        "### **5. TIPOS DE DATOS QUE SOPORTA**\n",
        "\n",
        "En Python, existen varios tipos de datos que se utilizan para representar diferentes tipos de valores. Algunos de los tipos de datos más comunes en Python son los siguientes:\n",
        "\n",
        "### **Números**\n",
        "\n",
        "- **Enteros (int):** Representan números enteros positivos o negativos, por ejemplo, `1`, `100`, `-42`.\n",
        "\n",
        "- **Números de Punto Flotante (float):** Representan números con parte decimal, por ejemplo, `3.14`, `2.718`.\n",
        "\n",
        "\n",
        "\n",
        "- **Cadenas de caracteres (str):** Son secuencias de caracteres encerradas entre comillas, por ejemplo, `\"Hola, mundo\"`.\n",
        "\n",
        "\n",
        "\n",
        "- **Valores booleanos (bool):** Representan la verdad o la falsedad de una expresión. Pueden ser `True` o `False`.\n",
        "\n",
        "\n",
        "- **Listas (list):** Son secuencias ordenadas de elementos que pueden ser de diferentes tipos, por ejemplo, `[1, 2, 3]`, `['a', 'b', 'c']`.\n",
        "\n",
        "\n",
        "- **Tuplas (tuple):** Son secuencias ordenadas de elementos inmutables, por ejemplo, `(1, 2, 3)`.\n",
        "\n",
        "\n",
        "- **Conjuntos (set):** Son colecciones no ordenadas de elementos únicos, por ejemplo, `{1, 2, 3}`.\n",
        "\n",
        "\n",
        "- **Diccionarios (dict):** Son colecciones de pares clave-valor, por ejemplo, `{'nombre': 'Juan', 'edad': 30}`.\n",
        "\n",
        "\n",
        "\n",
        "- **None:** Es un tipo especial que representa la ausencia de valor, similar a `null` en otros lenguajes.\n",
        "\n"
      ],
      "metadata": {
        "id": "BHGZYH_aBRDu"
      }
    },
    {
      "cell_type": "markdown",
      "source": [
        "##  **MANOS A LA OBRA!!**"
      ],
      "metadata": {
        "id": "5F6jxwLFwKv2"
      }
    }
  ]
}