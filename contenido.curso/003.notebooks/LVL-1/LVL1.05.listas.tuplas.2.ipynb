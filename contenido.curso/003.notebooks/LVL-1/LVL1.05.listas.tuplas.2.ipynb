{
  "cells": [
    {
      "cell_type": "markdown",
      "metadata": {
        "id": "qNgykDMA5hee"
      },
      "source": [
        "<p><img src=\"https://i.postimg.cc/cCjTSn8r/ss-cumf.png\" alt=\"\" width=\"1280\" height=\"300\" /></p>"
      ]
    },
    {
      "cell_type": "markdown",
      "metadata": {
        "id": "x3xS7_CG66Ie"
      },
      "source": [
        "# **LISTAS Y TUPLAS**"
      ]
    },
    {
      "cell_type": "markdown",
      "metadata": {
        "id": "kfjmD7cy69JB"
      },
      "source": [
        "## **LISTAS**\n",
        "\n",
        "Las listas son una estructura de datos fundamental en Python. Se utiliza para almacenar una colección ordenada de elementos. Estos elementos pueden ser de cualquier tipo, como números, cadenas de texto, objetos, u otras listas. Las listas son muy flexibles y versátiles, y se utilizan comúnmente para almacenar datos relacionados.\n",
        "\n",
        "<img src=\"https://controlautomaticoeducacion.com/wp-content/uploads/Objetos-en-una-lista-en-python-768x233.png\"\n",
        "     width=\"350\"\n",
        "     height=\"150\"  class=\"center\"/>\n",
        "\n",
        "\n",
        "Para un mejor entendimiento, veámoslo de otra manera usando Excel.\n",
        "\n",
        "\n",
        "\n",
        "```python\n",
        "objetivo: str = \"ENSEÑANZA\"\n",
        "lista: list = [1, 1.1, 'hola', True, False, [1,2,3], {1,2,3}, {1:1}, (1,2,3)]\n",
        "```\n",
        "\n",
        "\n",
        "\n",
        "<img src=\"https://i.postimg.cc/ZKbk0XfX/listeasyv2.png\"\n",
        "     width=\"250\"\n",
        "     height=\"250\"  class=\"center\"/>\n",
        "\n",
        "     \n",
        "\n",
        "\n",
        "**Consideraciones**\n",
        "\n",
        "\n",
        "\n",
        "1.  Permiten almacenar cualquier tipo de valor como enteros, cadenas y hasta otras funciones\n",
        "2.  Son mutables\n",
        "3.  Los slices vistos en strings funcionan exactamente igual en las listas"
      ]
    },
    {
      "cell_type": "code",
      "execution_count": null,
      "metadata": {
        "id": "y6BvA3645g_0"
      },
      "outputs": [],
      "source": [
        "lista_vacia = []\n",
        "lista_numeros = [1, 2, 3, 4 ,5 ,6]\n",
        "lista_letras = [\"a\", \"b\", \"c\"]\n",
        "lista_mix = [1, True, 3.5, [1,2], str.upper, (1,2), \"hola!\"]"
      ]
    },
    {
      "cell_type": "code",
      "execution_count": null,
      "metadata": {
        "colab": {
          "base_uri": "https://localhost:8080/"
        },
        "id": "ivut_eCd7wHD",
        "outputId": "08056d7d-c934-455a-8198-490ec69c7ff0"
      },
      "outputs": [
        {
          "name": "stdout",
          "output_type": "stream",
          "text": [
            "ESTAMOS APRENDIENDO\n"
          ]
        }
      ],
      "source": [
        "print(lista_mix[4](\"estamos aprendiendo\"))"
      ]
    },
    {
      "cell_type": "code",
      "execution_count": null,
      "metadata": {
        "colab": {
          "base_uri": "https://localhost:8080/"
        },
        "id": "OYj3AorH7wEX",
        "outputId": "b8b49283-cae8-4b45-add6-ad668496f54f"
      },
      "outputs": [
        {
          "name": "stdout",
          "output_type": "stream",
          "text": [
            "larga :  2\n",
            "corta :  2\n",
            "corta :  [2, 1]\n"
          ]
        }
      ],
      "source": [
        "obtengo_lista: list = lista_mix[3]\n",
        "print(\"larga : \", obtengo_lista[1])\n",
        "print(\"corta : \", lista_mix[3][1])\n",
        "print(\"corta : \", lista_mix[3][::-1])"
      ]
    },
    {
      "cell_type": "code",
      "execution_count": null,
      "metadata": {
        "colab": {
          "base_uri": "https://localhost:8080/"
        },
        "id": "I8RLrHhF7wBv",
        "outputId": "086e0872-32fa-45de-8004-c26901b68546"
      },
      "outputs": [
        {
          "name": "stdout",
          "output_type": "stream",
          "text": [
            "17.5\n",
            "hola!hola!hola!hola!hola!\n"
          ]
        }
      ],
      "source": [
        "print(lista_mix[2] * 5)\n",
        "print(lista_mix[-1] * 5)"
      ]
    },
    {
      "cell_type": "code",
      "execution_count": null,
      "metadata": {
        "colab": {
          "base_uri": "https://localhost:8080/"
        },
        "id": "xCl8lxyL7v_V",
        "outputId": "b8e908d9-94e5-4967-9a00-cf8cb3179751"
      },
      "outputs": [
        {
          "name": "stdout",
          "output_type": "stream",
          "text": [
            "paso # 1:  [[5, 6, [7, 8]], 3, 4]\n",
            "paso # 2:  [5, 6, [7, 8]]\n",
            "paso # 3:  [7, 8]\n",
            "paso # 4:  8\n"
          ]
        }
      ],
      "source": [
        "# que lo hagan de la manera larga, definiendo variables\n",
        "valor = [1, 2, [[5,6, [7,8]],3,4 ]]\n",
        "print(\"paso # 1: \", valor[2])\n",
        "print(\"paso # 2: \", valor[2][0])\n",
        "print(\"paso # 3: \", valor[2][0][2])\n",
        "print(\"paso # 4: \", valor[2][0][2][1])"
      ]
    },
    {
      "cell_type": "code",
      "execution_count": null,
      "metadata": {
        "colab": {
          "base_uri": "https://localhost:8080/",
          "height": 228
        },
        "id": "KcCtNwlqnwSx",
        "outputId": "c4b2ab40-3b05-42e5-b025-8adba5c98e67"
      },
      "outputs": [
        {
          "name": "stdout",
          "output_type": "stream",
          "text": [
            "[1, 2, [[5, 6, [7, 8]], 3, 4]]\n"
          ]
        },
        {
          "ename": "TypeError",
          "evalue": "ignored",
          "output_type": "error",
          "traceback": [
            "\u001b[0;31m---------------------------------------------------------------------------\u001b[0m",
            "\u001b[0;31mTypeError\u001b[0m                                 Traceback (most recent call last)",
            "\u001b[0;32m<ipython-input-54-854e1a1ab42b>\u001b[0m in \u001b[0;36m<cell line: 2>\u001b[0;34m()\u001b[0m\n\u001b[1;32m      1\u001b[0m \u001b[0mprint\u001b[0m\u001b[0;34m(\u001b[0m\u001b[0mvalor\u001b[0m\u001b[0;34m)\u001b[0m\u001b[0;34m\u001b[0m\u001b[0;34m\u001b[0m\u001b[0m\n\u001b[0;32m----> 2\u001b[0;31m \u001b[0mvalor\u001b[0m\u001b[0;34m.\u001b[0m\u001b[0msort\u001b[0m\u001b[0;34m(\u001b[0m\u001b[0;34m)\u001b[0m\u001b[0;34m\u001b[0m\u001b[0;34m\u001b[0m\u001b[0m\n\u001b[0m\u001b[1;32m      3\u001b[0m \u001b[0mprint\u001b[0m\u001b[0;34m(\u001b[0m\u001b[0mvalor\u001b[0m\u001b[0;34m)\u001b[0m\u001b[0;34m\u001b[0m\u001b[0;34m\u001b[0m\u001b[0m\n",
            "\u001b[0;31mTypeError\u001b[0m: '<' not supported between instances of 'list' and 'int'"
          ]
        }
      ],
      "source": [
        "# no soporta cuando hay listas embebidas\n",
        "print(valor)\n",
        "valor.sort()\n",
        "print(valor)"
      ]
    },
    {
      "cell_type": "markdown",
      "metadata": {
        "id": "fQq7UTvScshD"
      },
      "source": [
        "### **APPEND**\n",
        "\n",
        "Siempre inserta en la última posición"
      ]
    },
    {
      "cell_type": "code",
      "execution_count": null,
      "metadata": {
        "colab": {
          "base_uri": "https://localhost:8080/"
        },
        "id": "q6yoYIU_dO6B",
        "outputId": "663bd516-f713-44b2-99a8-f4c62c0dd887"
      },
      "outputs": [
        {
          "name": "stdout",
          "output_type": "stream",
          "text": [
            "pepito\n",
            "PEPITO\n"
          ]
        }
      ],
      "source": [
        "nombre = \"pepito\"\n",
        "nombre.upper()\n",
        "print(nombre)\n",
        "nombre = nombre.upper()\n",
        "print(nombre)"
      ]
    },
    {
      "cell_type": "code",
      "execution_count": null,
      "metadata": {
        "colab": {
          "base_uri": "https://localhost:8080/"
        },
        "id": "pBvkpF4Qc0m-",
        "outputId": "82db6d4f-c4a3-45a9-cf1d-4b5019074bc3"
      },
      "outputs": [
        {
          "name": "stdout",
          "output_type": "stream",
          "text": [
            "[1]\n"
          ]
        }
      ],
      "source": [
        "# inplace\n",
        "lista_vacia.append(1)\n",
        "print(lista_vacia)"
      ]
    },
    {
      "cell_type": "code",
      "execution_count": null,
      "metadata": {
        "colab": {
          "base_uri": "https://localhost:8080/"
        },
        "id": "Xo0cgPUpdvR4",
        "outputId": "83a8a5c6-91ee-4f1d-cc98-37a3eb131002"
      },
      "outputs": [
        {
          "name": "stdout",
          "output_type": "stream",
          "text": [
            "[1, 7]\n"
          ]
        }
      ],
      "source": [
        "lista_vacia.append(7)\n",
        "print(lista_vacia)"
      ]
    },
    {
      "cell_type": "code",
      "execution_count": null,
      "metadata": {
        "colab": {
          "base_uri": "https://localhost:8080/"
        },
        "id": "7ac3X9FiowOv",
        "outputId": "ab2d8c5b-fa32-4a95-efee-a1f9357e58aa"
      },
      "outputs": [
        {
          "name": "stdout",
          "output_type": "stream",
          "text": [
            "[1, 2, 3, [4, 5, 6]]\n"
          ]
        }
      ],
      "source": [
        "pregunta = [1,2,3]\n",
        "pregunta.append([4,5,6])\n",
        "print(pregunta)"
      ]
    },
    {
      "cell_type": "markdown",
      "metadata": {
        "id": "zbTn9op7d3aw"
      },
      "source": [
        "### **INSERT**\n",
        "\n",
        "(índice, elemento a adicionar)"
      ]
    },
    {
      "cell_type": "code",
      "execution_count": null,
      "metadata": {
        "colab": {
          "base_uri": "https://localhost:8080/"
        },
        "id": "-8RHD3p9eHlA",
        "outputId": "a15004a2-3c2b-421d-a3bb-855e1a19cd56"
      },
      "outputs": [
        {
          "name": "stdout",
          "output_type": "stream",
          "text": [
            "[10, 1, 7]\n"
          ]
        }
      ],
      "source": [
        "lista_vacia.insert(0, 10)\n",
        "print(lista_vacia)"
      ]
    },
    {
      "cell_type": "code",
      "execution_count": null,
      "metadata": {
        "colab": {
          "base_uri": "https://localhost:8080/"
        },
        "id": "uNdQW8u_ea5z",
        "outputId": "4241fa1d-13fa-4e5f-8496-de1c37ee06fb"
      },
      "outputs": [
        {
          "name": "stdout",
          "output_type": "stream",
          "text": [
            "[10, 1, 7, 69]\n"
          ]
        }
      ],
      "source": [
        "lista_vacia.insert(20, 69)\n",
        "print(lista_vacia)"
      ]
    },
    {
      "cell_type": "code",
      "execution_count": null,
      "metadata": {
        "colab": {
          "base_uri": "https://localhost:8080/"
        },
        "id": "unND9avTeqQZ",
        "outputId": "f79942ae-2b40-4730-ad6b-d748d4a6a419"
      },
      "outputs": [
        {
          "data": {
            "text/plain": [
              "69"
            ]
          },
          "execution_count": 21,
          "metadata": {},
          "output_type": "execute_result"
        }
      ],
      "source": [
        "lista_vacia[3]"
      ]
    },
    {
      "cell_type": "code",
      "execution_count": null,
      "metadata": {
        "colab": {
          "base_uri": "https://localhost:8080/"
        },
        "id": "h9A29KawpEq9",
        "outputId": "6610b07f-cc15-46fe-9322-b102f1658b45"
      },
      "outputs": [
        {
          "name": "stdout",
          "output_type": "stream",
          "text": [
            "[1, 2, 69, 3]\n"
          ]
        }
      ],
      "source": [
        "pregunta_fredy = [1,2,3]\n",
        "pregunta_fredy.insert(-1, 69) # en esta forma en particular \"negativamente\" sí respeta el 0 | slices pero positivos\n",
        "print(pregunta_fredy)"
      ]
    },
    {
      "cell_type": "markdown",
      "metadata": {
        "id": "rPvlD6pOe8qH"
      },
      "source": [
        "### **REMOVE**"
      ]
    },
    {
      "cell_type": "code",
      "execution_count": null,
      "metadata": {
        "colab": {
          "base_uri": "https://localhost:8080/"
        },
        "id": "bBnmZ5tze5f_",
        "outputId": "08154170-9e38-4bb3-a11c-70e259399862"
      },
      "outputs": [
        {
          "name": "stdout",
          "output_type": "stream",
          "text": [
            "[10, 1, 7, 69, 7]\n"
          ]
        }
      ],
      "source": [
        "lista_vacia.append(7)\n",
        "print(lista_vacia)"
      ]
    },
    {
      "cell_type": "code",
      "execution_count": null,
      "metadata": {
        "colab": {
          "base_uri": "https://localhost:8080/"
        },
        "id": "LqD3O8QgfIzj",
        "outputId": "4d58e36c-a263-4be9-be3b-c7cf28c07155"
      },
      "outputs": [
        {
          "name": "stdout",
          "output_type": "stream",
          "text": [
            "[10, 1, 69, 7]\n"
          ]
        }
      ],
      "source": [
        "lista_vacia.remove(7)\n",
        "print(lista_vacia)"
      ]
    },
    {
      "cell_type": "code",
      "execution_count": null,
      "metadata": {
        "colab": {
          "base_uri": "https://localhost:8080/",
          "height": 193
        },
        "id": "aHrkAHOVfXsm",
        "outputId": "300f2f5b-15db-454e-eb71-1e4a7a1a27e4"
      },
      "outputs": [
        {
          "ename": "ValueError",
          "evalue": "ignored",
          "output_type": "error",
          "traceback": [
            "\u001b[0;31m---------------------------------------------------------------------------\u001b[0m",
            "\u001b[0;31mValueError\u001b[0m                                Traceback (most recent call last)",
            "\u001b[0;32m<ipython-input-24-94579878f98c>\u001b[0m in \u001b[0;36m<cell line: 1>\u001b[0;34m()\u001b[0m\n\u001b[0;32m----> 1\u001b[0;31m \u001b[0mlista_vacia\u001b[0m\u001b[0;34m.\u001b[0m\u001b[0mremove\u001b[0m\u001b[0;34m(\u001b[0m\u001b[0;36m17\u001b[0m\u001b[0;34m)\u001b[0m\u001b[0;34m\u001b[0m\u001b[0;34m\u001b[0m\u001b[0m\n\u001b[0m\u001b[1;32m      2\u001b[0m \u001b[0mprint\u001b[0m\u001b[0;34m(\u001b[0m\u001b[0mlista_vacia\u001b[0m\u001b[0;34m)\u001b[0m\u001b[0;34m\u001b[0m\u001b[0;34m\u001b[0m\u001b[0m\n",
            "\u001b[0;31mValueError\u001b[0m: list.remove(x): x not in list"
          ]
        }
      ],
      "source": [
        "lista_vacia.remove(17)\n",
        "print(lista_vacia)"
      ]
    },
    {
      "cell_type": "markdown",
      "metadata": {
        "id": "6JNjwyz1fhy_"
      },
      "source": [
        "### **POP**\n",
        "FIFO Y LIFO: investigar\n",
        "\n",
        "\n",
        "```\n",
        "lista.pop([opcional index])\n",
        "sin índice, elimina el último\n",
        "con índice, elimina la posición designada\n",
        "```\n",
        "\n"
      ]
    },
    {
      "cell_type": "code",
      "execution_count": null,
      "metadata": {
        "colab": {
          "base_uri": "https://localhost:8080/"
        },
        "id": "jeF3lJ91fhcx",
        "outputId": "1b0d29e0-56aa-417c-ae7c-37da24fa4415"
      },
      "outputs": [
        {
          "name": "stdout",
          "output_type": "stream",
          "text": [
            "[10, 1, 69, 7]\n",
            "[10, 1, 69]\n"
          ]
        }
      ],
      "source": [
        "print(lista_vacia)\n",
        "lista_vacia.pop()\n",
        "print(lista_vacia)"
      ]
    },
    {
      "cell_type": "code",
      "execution_count": null,
      "metadata": {
        "colab": {
          "base_uri": "https://localhost:8080/"
        },
        "id": "SromUMWYgF2G",
        "outputId": "ed9b4245-b559-4fbf-b2e5-f5ef5126bd01"
      },
      "outputs": [
        {
          "name": "stdout",
          "output_type": "stream",
          "text": [
            "[10, 1, 69]\n",
            "[1, 69]\n",
            "el elemento eliminado es :  10\n"
          ]
        }
      ],
      "source": [
        "print(lista_vacia)\n",
        "valor_eliminado = lista_vacia.pop(0)\n",
        "print(lista_vacia)\n",
        "print(\"El elemento eliminado es:\", valor_eliminado)"
      ]
    },
    {
      "cell_type": "markdown",
      "metadata": {
        "id": "-va3V3fXgr0Z"
      },
      "source": [
        "### **INDEX**\n",
        "\n",
        "Busca el índice donde está el valor\n",
        "\n",
        "Nota: el parámetro que se envía es el valor\n"
      ]
    },
    {
      "cell_type": "code",
      "execution_count": null,
      "metadata": {
        "colab": {
          "base_uri": "https://localhost:8080/"
        },
        "id": "O5Tbbjj0gweQ",
        "outputId": "ea2a6f7c-021f-431e-daac-d870ef8fe3f3"
      },
      "outputs": [
        {
          "name": "stdout",
          "output_type": "stream",
          "text": [
            "[1, 69, 3, 7]\n",
            "2\n"
          ]
        }
      ],
      "source": [
        "lista_vacia.append(3)\n",
        "lista_vacia.append(7)\n",
        "print(lista_vacia)\n",
        "print(lista_vacia.index(3))"
      ]
    },
    {
      "cell_type": "code",
      "execution_count": null,
      "metadata": {
        "colab": {
          "base_uri": "https://localhost:8080/"
        },
        "id": "nq5pFetkhP3F",
        "outputId": "d9e25235-d1f2-462a-d968-2e70d34996f4"
      },
      "outputs": [
        {
          "name": "stdout",
          "output_type": "stream",
          "text": [
            "[1, 69, 3, 7, 3]\n"
          ]
        }
      ],
      "source": [
        "print(lista_vacia)"
      ]
    },
    {
      "cell_type": "code",
      "execution_count": null,
      "metadata": {
        "colab": {
          "base_uri": "https://localhost:8080/"
        },
        "id": "UKzPJEJWhM5L",
        "outputId": "74b8c967-e7e7-4393-b322-b85f280224fb"
      },
      "outputs": [
        {
          "name": "stdout",
          "output_type": "stream",
          "text": [
            "2\n"
          ]
        }
      ],
      "source": [
        "lista_vacia.append(3)\n",
        "print(lista_vacia.index(3))"
      ]
    },
    {
      "cell_type": "code",
      "execution_count": null,
      "metadata": {
        "colab": {
          "base_uri": "https://localhost:8080/",
          "height": 176
        },
        "id": "mIIOIL_FhIMS",
        "outputId": "d510b175-cc60-435a-fb82-b09472f316eb"
      },
      "outputs": [
        {
          "ename": "ValueError",
          "evalue": "ignored",
          "output_type": "error",
          "traceback": [
            "\u001b[0;31m---------------------------------------------------------------------------\u001b[0m",
            "\u001b[0;31mValueError\u001b[0m                                Traceback (most recent call last)",
            "\u001b[0;32m<ipython-input-30-e2d31825bd16>\u001b[0m in \u001b[0;36m<cell line: 1>\u001b[0;34m()\u001b[0m\n\u001b[0;32m----> 1\u001b[0;31m \u001b[0mprint\u001b[0m\u001b[0;34m(\u001b[0m\u001b[0mlista_vacia\u001b[0m\u001b[0;34m.\u001b[0m\u001b[0mindex\u001b[0m\u001b[0;34m(\u001b[0m\u001b[0;36m322\u001b[0m\u001b[0;34m)\u001b[0m\u001b[0;34m)\u001b[0m\u001b[0;34m\u001b[0m\u001b[0;34m\u001b[0m\u001b[0m\n\u001b[0m",
            "\u001b[0;31mValueError\u001b[0m: 322 is not in list"
          ]
        }
      ],
      "source": [
        "print(lista_vacia.index(322))"
      ]
    },
    {
      "cell_type": "markdown",
      "metadata": {
        "id": "iqgAvTAYhUou"
      },
      "source": [
        "### **COUNT**\n"
      ]
    },
    {
      "cell_type": "code",
      "execution_count": null,
      "metadata": {
        "colab": {
          "base_uri": "https://localhost:8080/"
        },
        "id": "cFnGnWFLhYvO",
        "outputId": "450ac8e2-3764-4032-c76c-c8345e71b24c"
      },
      "outputs": [
        {
          "name": "stdout",
          "output_type": "stream",
          "text": [
            "[1, 69, 3, 7, 3]\n",
            "2\n"
          ]
        }
      ],
      "source": [
        "print(lista_vacia)\n",
        "print(lista_vacia.count(3))"
      ]
    },
    {
      "cell_type": "code",
      "execution_count": null,
      "metadata": {
        "colab": {
          "base_uri": "https://localhost:8080/"
        },
        "id": "2rS0QA5lhg62",
        "outputId": "e5279a0c-f4cc-41e2-9b17-dc0cce3b7c93"
      },
      "outputs": [
        {
          "name": "stdout",
          "output_type": "stream",
          "text": [
            "[1, 69, 3, 7, 3, 'python1']\n",
            "1\n"
          ]
        }
      ],
      "source": [
        "lista_vacia.append(\"python1\")\n",
        "print(lista_vacia)\n",
        "print(lista_vacia.count(\"python1\"))"
      ]
    },
    {
      "cell_type": "markdown",
      "metadata": {
        "id": "mJgz3m2mhUmZ"
      },
      "source": [
        "### **SORT**"
      ]
    },
    {
      "cell_type": "code",
      "execution_count": null,
      "metadata": {
        "colab": {
          "base_uri": "https://localhost:8080/"
        },
        "id": "mYeDqAU_hvm7",
        "outputId": "972b225c-4fca-41a0-d60f-a95e1719b372"
      },
      "outputs": [
        {
          "name": "stdout",
          "output_type": "stream",
          "text": [
            "[3, 1, 2]\n",
            "[1, 2, 3]\n"
          ]
        }
      ],
      "source": [
        "resultado = [3, 1, 2]\n",
        "print(resultado)\n",
        "resultado.sort()\n",
        "print(resultado)"
      ]
    },
    {
      "cell_type": "code",
      "execution_count": null,
      "metadata": {
        "colab": {
          "base_uri": "https://localhost:8080/"
        },
        "id": "jw0jMKx3iDLU",
        "outputId": "04053774-c163-4999-ecf0-cd800130a02a"
      },
      "outputs": [
        {
          "name": "stdout",
          "output_type": "stream",
          "text": [
            "[3, 1, 2]\n",
            "[3, 2, 1]\n"
          ]
        }
      ],
      "source": [
        "resultado = [3, 1, 2]\n",
        "print(resultado)\n",
        "resultado.sort(reverse=True)\n",
        "print(resultado)"
      ]
    },
    {
      "cell_type": "code",
      "execution_count": null,
      "metadata": {
        "colab": {
          "base_uri": "https://localhost:8080/"
        },
        "id": "Usv6NA25iKEE",
        "outputId": "69089b19-40a6-4d45-f730-1d4908ad302c"
      },
      "outputs": [
        {
          "name": "stdout",
          "output_type": "stream",
          "text": [
            "[3, 2, 1]\n"
          ]
        }
      ],
      "source": [
        "resultado = [3, 1, 2]\n",
        "resultado.sort()\n",
        "print(resultado[::-1])"
      ]
    },
    {
      "cell_type": "markdown",
      "metadata": {
        "id": "9K20GV55ide2"
      },
      "source": [
        "### **REVERSE**"
      ]
    },
    {
      "cell_type": "code",
      "execution_count": null,
      "metadata": {
        "colab": {
          "base_uri": "https://localhost:8080/"
        },
        "id": "jU7C3dMkigGe",
        "outputId": "85b786de-c973-41d0-ce24-0de90f82b4fe"
      },
      "outputs": [
        {
          "name": "stdout",
          "output_type": "stream",
          "text": [
            "[1, 69, 3, 7, 3, 'python1']\n",
            "['python1', 3, 7, 3, 69, 1]\n"
          ]
        }
      ],
      "source": [
        "print(lista_vacia)\n",
        "lista_vacia.reverse()\n",
        "print(lista_vacia)"
      ]
    },
    {
      "cell_type": "code",
      "execution_count": null,
      "metadata": {
        "colab": {
          "base_uri": "https://localhost:8080/"
        },
        "id": "qOVH9-MSipak",
        "outputId": "04db8a6a-f0e4-4746-f663-9a405f8a1710"
      },
      "outputs": [
        {
          "data": {
            "text/plain": [
              "[1, 69, 3, 7, 3, 'python1']"
            ]
          },
          "execution_count": 39,
          "metadata": {},
          "output_type": "execute_result"
        }
      ],
      "source": [
        "lista_vacia[::-1]"
      ]
    },
    {
      "cell_type": "markdown",
      "metadata": {
        "id": "X2Y8XGavi4d6"
      },
      "source": [
        "### **CLEAR**"
      ]
    },
    {
      "cell_type": "code",
      "execution_count": null,
      "metadata": {
        "colab": {
          "base_uri": "https://localhost:8080/"
        },
        "id": "67D1CPagi73y",
        "outputId": "47f78b83-f01a-4bb6-c707-5274a45e9329"
      },
      "outputs": [
        {
          "name": "stdout",
          "output_type": "stream",
          "text": [
            "[3, 1, 2]\n",
            "[]\n"
          ]
        }
      ],
      "source": [
        "resultado = [3, 1, 2]\n",
        "print(resultado)\n",
        "resultado.clear()\n",
        "print(resultado)"
      ]
    },
    {
      "cell_type": "markdown",
      "metadata": {
        "id": "SyxEKvmOjsBb"
      },
      "source": [
        "### **COPY**\n"
      ]
    },
    {
      "cell_type": "code",
      "execution_count": null,
      "metadata": {
        "colab": {
          "base_uri": "https://localhost:8080/"
        },
        "id": "mUQr3C4CjwXQ",
        "outputId": "dc0f7ef8-1a9f-4d84-da16-2757c080ef37"
      },
      "outputs": [
        {
          "name": "stdout",
          "output_type": "stream",
          "text": [
            "[1, 2, 3, 4, 5, 6]\n",
            "['a', 'b', 'c']\n"
          ]
        }
      ],
      "source": [
        "# cs_lista_numeros = lista_numeros\n",
        "cs_lista_numeros = lista_numeros.copy() # esta es la recomendada\n",
        "cs_lista_letras = lista_letras.copy()\n",
        "print(cs_lista_numeros)\n",
        "print(cs_lista_letras)"
      ]
    },
    {
      "cell_type": "markdown",
      "metadata": {
        "id": "UxJRM9-7jPNM"
      },
      "source": [
        "### **EXTEND**\n",
        "\n",
        "Sirve para concatenar listas"
      ]
    },
    {
      "cell_type": "code",
      "execution_count": null,
      "metadata": {
        "colab": {
          "base_uri": "https://localhost:8080/"
        },
        "id": "EhowhTL0jOlG",
        "outputId": "c7ffc45f-e3b0-48e7-dee9-c23977e49eb9"
      },
      "outputs": [
        {
          "name": "stdout",
          "output_type": "stream",
          "text": [
            "[1, 2, 3, 4, 5, 6]\n",
            "['a', 'b', 'c']\n"
          ]
        }
      ],
      "source": [
        "print(lista_numeros)\n",
        "print(lista_letras)"
      ]
    },
    {
      "cell_type": "code",
      "execution_count": null,
      "metadata": {
        "colab": {
          "base_uri": "https://localhost:8080/"
        },
        "id": "gZThXiZLjNpf",
        "outputId": "9e7d8725-5f36-43d3-d3f8-1baebc1784d1"
      },
      "outputs": [
        {
          "name": "stdout",
          "output_type": "stream",
          "text": [
            "[1, 2, 3, 4, 5, 6]\n",
            "[1, 2, 3, 4, 5, 6, 'a', 'b', 'c']\n"
          ]
        }
      ],
      "source": [
        "print(lista_numeros)\n",
        "lista_numeros.extend(lista_letras)\n",
        "print(lista_numeros)"
      ]
    },
    {
      "cell_type": "code",
      "execution_count": null,
      "metadata": {
        "colab": {
          "base_uri": "https://localhost:8080/"
        },
        "id": "fooupjMckXP8",
        "outputId": "b520af84-06f5-4fc1-9863-acf8aabb5a00"
      },
      "outputs": [
        {
          "name": "stdout",
          "output_type": "stream",
          "text": [
            "['a', 'b', 'c']\n",
            "['a', 'b', 'c', 1, 2, 3, 4, 5, 6]\n"
          ]
        }
      ],
      "source": [
        "# Es lo mismo\n",
        "print(cs_lista_letras)\n",
        "cs_lista_letras += cs_lista_numeros\n",
        "print(cs_lista_letras)"
      ]
    },
    {
      "cell_type": "code",
      "execution_count": null,
      "metadata": {
        "colab": {
          "base_uri": "https://localhost:8080/"
        },
        "id": "aCt646gokoRo",
        "outputId": "9a756c33-7d68-4c77-cde0-35720c901b71"
      },
      "outputs": [
        {
          "name": "stdout",
          "output_type": "stream",
          "text": [
            "['python1', 3, 7, 3, 69, 1]\n",
            "['python1', 3, 7, 3, 69, 1, 'c', 'o', 'd', 'i', 'n', 'g', '.', 'u', 'p', '.', 'm', 'y', 'f', 'u', 't', 'u', 'r', 'e']\n"
          ]
        }
      ],
      "source": [
        "# coding.up.myfuture\n",
        "print(lista_vacia)\n",
        "lista_vacia.extend(\"coding.up.myfuture\")\n",
        "print(lista_vacia)"
      ]
    },
    {
      "cell_type": "code",
      "execution_count": null,
      "metadata": {
        "colab": {
          "base_uri": "https://localhost:8080/"
        },
        "id": "S2NoLwrnlMDV",
        "outputId": "8592fd74-7843-4257-c148-d43e1d089303"
      },
      "outputs": [
        {
          "name": "stdout",
          "output_type": "stream",
          "text": [
            "['python1', 3, 7, 3, 69, 1, 'c', 'o', 'd', 'i', 'n', 'g', '.', 'u', 'p', '.', 'm', 'y', 'f', 'u', 't', 'u', 'r', 'e']\n",
            "['python1', 3, 7, 3, 69, 1, 'c', 'o', 'd', 'i', 'n', 'g', '.', 'u', 'p', '.', 'm', 'y', 'f', 'u', 't', 'u', 'r', 'e', 'coding', 'up', 'myfuture']\n"
          ]
        }
      ],
      "source": [
        "print(lista_vacia)\n",
        "lista_vacia.extend(\"coding.up.myfuture\".split(\".\"))\n",
        "print(lista_vacia)"
      ]
    },
    {
      "cell_type": "code",
      "execution_count": null,
      "metadata": {
        "colab": {
          "base_uri": "https://localhost:8080/"
        },
        "id": "_RK6HcKVlvDr",
        "outputId": "e39389d2-1418-4187-a59a-8ad78e2f2b32"
      },
      "outputs": [
        {
          "data": {
            "text/plain": [
              "['coding', 'up', 'myfuture']"
            ]
          },
          "execution_count": 48,
          "metadata": {},
          "output_type": "execute_result"
        }
      ],
      "source": [
        "\"coding.up.myfuture\".split(\".\")"
      ]
    },
    {
      "cell_type": "markdown",
      "metadata": {
        "id": "Z-lTsmzomCtK"
      },
      "source": [
        "### **MODIFICANDO VALOR POR ÍNDICE**"
      ]
    },
    {
      "cell_type": "markdown",
      "metadata": {
        "id": "HgS4DHH0mZoX"
      },
      "source": [
        "#### **UN VALOR SOLITO**"
      ]
    },
    {
      "cell_type": "code",
      "execution_count": null,
      "metadata": {
        "colab": {
          "base_uri": "https://localhost:8080/"
        },
        "id": "90J_gC-Nl-1x",
        "outputId": "91c64378-bf94-46ed-bd57-02760027de8b"
      },
      "outputs": [
        {
          "name": "stdout",
          "output_type": "stream",
          "text": [
            "['python1', 3, 7, 3, 69, 1, 'c', 'o', 'd', 'i', 'n', 'g', '.', 'u', 'p', '.', 'm', 'y', 'f', 'u', 't', 'u', 'r', 'e', 'coding', 'up', 'myfuture']\n",
            "['zero to hero', 3, 7, 3, 69, 1, 'c', 'o', 'd', 'i', 'n', 'g', '.', 'u', 'p', '.', 'm', 'y', 'f', 'u', 't', 'u', 'r', 'e', 'coding', 'up', 'myfuture']\n"
          ]
        }
      ],
      "source": [
        "print(lista_vacia)\n",
        "lista_vacia[0] = \"zero to hero\"\n",
        "print(lista_vacia)"
      ]
    },
    {
      "cell_type": "markdown",
      "metadata": {
        "id": "C2sZWwW-mctx"
      },
      "source": [
        "#### **MODIFICAR RANGO**"
      ]
    },
    {
      "cell_type": "code",
      "execution_count": null,
      "metadata": {
        "colab": {
          "base_uri": "https://localhost:8080/"
        },
        "id": "MbxMEORKmQHn",
        "outputId": "a802dd31-9b01-439a-9d04-27ef208ee9e7"
      },
      "outputs": [
        {
          "name": "stdout",
          "output_type": "stream",
          "text": [
            "['zero to hero', 3, 7, 3, 69, 1, 'c', 'o', 'd', 'i', 'n', 'g', '.', 'u', 'p', '.', 'm', 'y', 'f', 'u', 't', 'u', 'r', 'e', 'coding', 'up', 'myfuture']\n",
            "['zero to hero', 3, 1, 1, 1, 1, 'c', 'o', 'd', 'i', 'n', 'g', '.', 'u', 'p', '.', 'm', 'y', 'f', 'u', 't', 'u', 'r', 'e', 'coding', 'up', 'myfuture']\n"
          ]
        }
      ],
      "source": [
        "print(lista_vacia)\n",
        "lista_vacia[2:5] = [1,1,1]\n",
        "print(lista_vacia)"
      ]
    },
    {
      "cell_type": "markdown",
      "metadata": {
        "id": "TVGMGHxgk9Vy"
      },
      "source": [
        "### **MAPEO O DESACOPLAMIENTO DE VALORES**\n",
        "\n",
        "Trucos:\n",
        "\n",
        "1. **TOTAL**: igual número de elementos de la lista, igual número de variables\n",
        "2. **PARCIAL**: solo toma una parte en variables, y la última toma todo\n",
        "**NOTA: NO EXCEDERSE**\n",
        "\n"
      ]
    },
    {
      "cell_type": "code",
      "execution_count": null,
      "metadata": {
        "colab": {
          "base_uri": "https://localhost:8080/"
        },
        "id": "9xaLQt4llIgs",
        "outputId": "5e2cd55f-73df-41c7-b74a-df514367799c"
      },
      "outputs": [
        {
          "name": "stdout",
          "output_type": "stream",
          "text": [
            "['coding', 'up', 'my', 'future']\n"
          ]
        }
      ],
      "source": [
        "datos:list = \"coding.up.my.future\".split(\".\")\n",
        "print(datos)"
      ]
    },
    {
      "cell_type": "code",
      "execution_count": null,
      "metadata": {
        "colab": {
          "base_uri": "https://localhost:8080/"
        },
        "id": "iXoU7tsilsti",
        "outputId": "44e21d3b-1506-4c58-f5b0-5c79068e63ce"
      },
      "outputs": [
        {
          "name": "stdout",
          "output_type": "stream",
          "text": [
            "coding -- up -- my -- future\n"
          ]
        }
      ],
      "source": [
        "variable1 = datos[0]\n",
        "variable2 = datos[1]\n",
        "variable3 = datos[2]\n",
        "variable4 = datos[3]\n",
        "print(variable1,variable2,variable3,variable4, sep=\" -- \")"
      ]
    },
    {
      "cell_type": "code",
      "execution_count": null,
      "metadata": {
        "colab": {
          "base_uri": "https://localhost:8080/"
        },
        "id": "-z4eDR3lmNhy",
        "outputId": "2b011952-8819-44f2-d413-350c38932342"
      },
      "outputs": [
        {
          "name": "stdout",
          "output_type": "stream",
          "text": [
            "['c@ding', 'up', 'my', 'future']\n",
            "c@ding -- up -- my -- future\n"
          ]
        }
      ],
      "source": [
        "datos:list = \"c@ding.up.my.future\".split(\".\")\n",
        "# ['c@ding', 'up', 'my', 'future']\n",
        "#    var1.    var2 var3  var4\n",
        "print(datos)\n",
        "variable1, variable2, variable3, variable4 = datos\n",
        "print(variable1,variable2,variable3,variable4, sep=\" -- \")"
      ]
    },
    {
      "cell_type": "code",
      "execution_count": null,
      "metadata": {
        "colab": {
          "base_uri": "https://localhost:8080/"
        },
        "id": "5rfjE7ikm65l",
        "outputId": "23af1919-3252-43af-f266-e35b6d75419e"
      },
      "outputs": [
        {
          "name": "stdout",
          "output_type": "stream",
          "text": [
            "c@ding\n",
            "['up', 'my', 'future']\n"
          ]
        }
      ],
      "source": [
        "# primera parte\n",
        "\n",
        "que_hacemos, *el_resto = datos\n",
        "print(que_hacemos)\n",
        "print(el_resto)"
      ]
    },
    {
      "cell_type": "code",
      "execution_count": null,
      "metadata": {
        "colab": {
          "base_uri": "https://localhost:8080/"
        },
        "id": "I40EF2QjnuFk",
        "outputId": "b0ed406d-f792-426f-dcf0-0e2d58c7563f"
      },
      "outputs": [
        {
          "name": "stdout",
          "output_type": "stream",
          "text": [
            "['c@ding', 'up', 'my', 'future']\n",
            "variables c@ding up\n",
            "['my', 'future']\n"
          ]
        }
      ],
      "source": [
        "# primera parte\n",
        "print(datos)\n",
        "que_hacemos_1,que_hacemos_2, *el_resto = datos\n",
        "print(\"variables\",que_hacemos_1,que_hacemos_2)\n",
        "print(el_resto)"
      ]
    },
    {
      "cell_type": "code",
      "execution_count": null,
      "metadata": {
        "colab": {
          "base_uri": "https://localhost:8080/",
          "height": 178
        },
        "id": "yKiqKfOXoSst",
        "outputId": "38a0e161-0c24-4e25-ea60-9a73d69206d6"
      },
      "outputs": [
        {
          "ename": "ValueError",
          "evalue": "ignored",
          "output_type": "error",
          "traceback": [
            "\u001b[0;31m---------------------------------------------------------------------------\u001b[0m",
            "\u001b[0;31mValueError\u001b[0m                                Traceback (most recent call last)",
            "\u001b[0;32m<ipython-input-14-c641f1820eec>\u001b[0m in \u001b[0;36m<cell line: 1>\u001b[0;34m()\u001b[0m\n\u001b[0;32m----> 1\u001b[0;31m \u001b[0mvariable1\u001b[0m\u001b[0;34m,\u001b[0m \u001b[0mvariable2\u001b[0m\u001b[0;34m,\u001b[0m \u001b[0mvariable3\u001b[0m\u001b[0;34m,\u001b[0m \u001b[0mvariable4\u001b[0m\u001b[0;34m,\u001b[0m \u001b[0mvariable5\u001b[0m \u001b[0;34m=\u001b[0m \u001b[0mdatos\u001b[0m\u001b[0;34m\u001b[0m\u001b[0;34m\u001b[0m\u001b[0m\n\u001b[0m",
            "\u001b[0;31mValueError\u001b[0m: not enough values to unpack (expected 5, got 4)"
          ]
        }
      ],
      "source": [
        "variable1, variable2, variable3, variable4, variable5 = datos"
      ]
    },
    {
      "cell_type": "code",
      "execution_count": null,
      "metadata": {
        "colab": {
          "base_uri": "https://localhost:8080/",
          "height": 178
        },
        "id": "dtOMyLzLoWZm",
        "outputId": "33f60b17-0d8d-4343-b53c-475b7756475c"
      },
      "outputs": [
        {
          "ename": "ValueError",
          "evalue": "ignored",
          "output_type": "error",
          "traceback": [
            "\u001b[0;31m---------------------------------------------------------------------------\u001b[0m",
            "\u001b[0;31mValueError\u001b[0m                                Traceback (most recent call last)",
            "\u001b[0;32m<ipython-input-15-fd5918970b25>\u001b[0m in \u001b[0;36m<cell line: 1>\u001b[0;34m()\u001b[0m\n\u001b[0;32m----> 1\u001b[0;31m \u001b[0mvariable1\u001b[0m\u001b[0;34m,\u001b[0m \u001b[0mvariable2\u001b[0m\u001b[0;34m,\u001b[0m \u001b[0mvariable3\u001b[0m \u001b[0;34m=\u001b[0m \u001b[0mdatos\u001b[0m\u001b[0;34m\u001b[0m\u001b[0;34m\u001b[0m\u001b[0m\n\u001b[0m",
            "\u001b[0;31mValueError\u001b[0m: too many values to unpack (expected 3)"
          ]
        }
      ],
      "source": [
        "variable1, variable2, variable3 = datos"
      ]
    },
    {
      "cell_type": "code",
      "execution_count": null,
      "metadata": {
        "colab": {
          "base_uri": "https://localhost:8080/"
        },
        "id": "0fbxA7KDoeY9",
        "outputId": "bfe00e19-4b47-463b-9c11-f9964747ee4b"
      },
      "outputs": [
        {
          "name": "stdout",
          "output_type": "stream",
          "text": [
            "c@ding\n",
            "['up', 'my', 'future']\n"
          ]
        }
      ],
      "source": [
        "# truco\n",
        "que_hacemos, *_ = datos\n",
        "print(que_hacemos)\n",
        "print(_)"
      ]
    },
    {
      "cell_type": "code",
      "execution_count": null,
      "metadata": {
        "colab": {
          "base_uri": "https://localhost:8080/"
        },
        "id": "8lg6RIFHozgC",
        "outputId": "6d8fa91f-034c-478a-9faf-09ba3865c43c"
      },
      "outputs": [
        {
          "name": "stdout",
          "output_type": "stream",
          "text": [
            "W\n"
          ]
        }
      ],
      "source": [
        "a,b,c,d = \"WXYZ\"\n",
        "print(a)"
      ]
    },
    {
      "cell_type": "code",
      "execution_count": null,
      "metadata": {
        "colab": {
          "base_uri": "https://localhost:8080/"
        },
        "id": "1VOYn3CUo-UJ",
        "outputId": "3ad97f9d-3694-4375-dd2a-c11f1df22ced"
      },
      "outputs": [
        {
          "name": "stdout",
          "output_type": "stream",
          "text": [
            "W\n",
            "['X', 'Y', 'Z']\n"
          ]
        }
      ],
      "source": [
        "a,*el_nombre_que_quieran = \"WXYZ\"\n",
        "print(a)\n",
        "print(el_nombre_que_quieran)"
      ]
    },
    {
      "cell_type": "code",
      "execution_count": null,
      "metadata": {
        "id": "cvhHDtKtszZF"
      },
      "outputs": [],
      "source": [
        "# truco con asignación variables | con listas ok, pero con variables y valores es mala practica\n",
        "a,b,c,d = True, True,1,2\n"
      ]
    },
    {
      "cell_type": "code",
      "execution_count": null,
      "metadata": {
        "id": "TC4jeO_KtlaF"
      },
      "outputs": [],
      "source": [
        "a,*c,n = \"ABCDW\""
      ]
    },
    {
      "cell_type": "code",
      "execution_count": null,
      "metadata": {
        "colab": {
          "base_uri": "https://localhost:8080/"
        },
        "id": "ZTl4VkDgtyrC",
        "outputId": "48e1c692-9d0b-4174-ea0d-9ab1e58ce958"
      },
      "outputs": [
        {
          "name": "stdout",
          "output_type": "stream",
          "text": [
            "A\n",
            "['B', 'C', 'D']\n",
            "W\n"
          ]
        }
      ],
      "source": [
        "print(a)\n",
        "print(c)\n",
        "print(n)"
      ]
    },
    {
      "cell_type": "markdown",
      "metadata": {
        "id": "KDlUYlM-8e-a"
      },
      "source": [
        "## **TUPLAS**\n",
        "\n",
        "\n",
        "\n",
        "1.   Se acceden con slices\n",
        "2.   Son inmutables\n"
      ]
    },
    {
      "cell_type": "code",
      "execution_count": null,
      "metadata": {
        "colab": {
          "base_uri": "https://localhost:8080/"
        },
        "id": "V7hqUvcJpVyH",
        "outputId": "01753c9b-9f94-4ee3-fee7-778fdd013c83"
      },
      "outputs": [
        {
          "name": "stdout",
          "output_type": "stream",
          "text": [
            "<class 'tuple'> (1, 2, 3)\n"
          ]
        }
      ],
      "source": [
        "tupla: tuple = (1,2,3)\n",
        "print(type(tupla), tupla)"
      ]
    },
    {
      "cell_type": "code",
      "execution_count": null,
      "metadata": {
        "colab": {
          "base_uri": "https://localhost:8080/",
          "height": 178
        },
        "id": "3IvopQP2pvt9",
        "outputId": "4e356919-d39a-4a42-9f34-31520a5fc0bd"
      },
      "outputs": [
        {
          "ename": "TypeError",
          "evalue": "ignored",
          "output_type": "error",
          "traceback": [
            "\u001b[0;31m---------------------------------------------------------------------------\u001b[0m",
            "\u001b[0;31mTypeError\u001b[0m                                 Traceback (most recent call last)",
            "\u001b[0;32m<ipython-input-20-8681a0a13345>\u001b[0m in \u001b[0;36m<cell line: 1>\u001b[0;34m()\u001b[0m\n\u001b[0;32m----> 1\u001b[0;31m \u001b[0mtupla\u001b[0m\u001b[0;34m[\u001b[0m\u001b[0;36m0\u001b[0m\u001b[0;34m]\u001b[0m \u001b[0;34m=\u001b[0m\u001b[0;36m999\u001b[0m\u001b[0;34m\u001b[0m\u001b[0;34m\u001b[0m\u001b[0m\n\u001b[0m",
            "\u001b[0;31mTypeError\u001b[0m: 'tuple' object does not support item assignment"
          ]
        }
      ],
      "source": [
        "tupla[0] =999"
      ]
    },
    {
      "cell_type": "code",
      "execution_count": null,
      "metadata": {
        "colab": {
          "base_uri": "https://localhost:8080/"
        },
        "id": "DPHRnypNp49n",
        "outputId": "068df851-bb5d-4964-c885-162137c40377"
      },
      "outputs": [
        {
          "name": "stdout",
          "output_type": "stream",
          "text": [
            "(3, 2, 1)\n"
          ]
        }
      ],
      "source": [
        "print(tupla[::-1])"
      ]
    },
    {
      "cell_type": "code",
      "execution_count": null,
      "metadata": {
        "colab": {
          "base_uri": "https://localhost:8080/"
        },
        "id": "nXiebdPYqAJO",
        "outputId": "b3bf508c-20aa-4078-e13d-38a169996abf"
      },
      "outputs": [
        {
          "name": "stdout",
          "output_type": "stream",
          "text": [
            "antes.  :  <class 'list'> ['CC', 'TI', 'CE', 'PASP']\n",
            "despues :  <class 'tuple'> ('CC', 'TI', 'CE', 'PASP')\n"
          ]
        }
      ],
      "source": [
        "tipo_documento: list = [\"CC\", \"TI\", \"CE\", \"PASP\"]\n",
        "print(\"antes.  : \", type(tipo_documento), tipo_documento)\n",
        "tipo_documento = tuple(tipo_documento)\n",
        "print(\"despues : \", type(tipo_documento), tipo_documento)"
      ]
    },
    {
      "cell_type": "code",
      "execution_count": null,
      "metadata": {
        "colab": {
          "base_uri": "https://localhost:8080/",
          "height": 178
        },
        "id": "llvNwrDYqjfa",
        "outputId": "ae962cab-2f37-4369-d1e3-27a3ff0f8c3d"
      },
      "outputs": [
        {
          "ename": "TypeError",
          "evalue": "ignored",
          "output_type": "error",
          "traceback": [
            "\u001b[0;31m---------------------------------------------------------------------------\u001b[0m",
            "\u001b[0;31mTypeError\u001b[0m                                 Traceback (most recent call last)",
            "\u001b[0;32m<ipython-input-24-a3c7dc392e7d>\u001b[0m in \u001b[0;36m<cell line: 1>\u001b[0;34m()\u001b[0m\n\u001b[0;32m----> 1\u001b[0;31m \u001b[0mtipo_docunto\u001b[0m\u001b[0;34m[\u001b[0m\u001b[0;36m0\u001b[0m\u001b[0;34m:\u001b[0m\u001b[0;36m1\u001b[0m\u001b[0;34m]\u001b[0m \u001b[0;34m=\u001b[0m \u001b[0;34m[\u001b[0m\u001b[0;34m\"X\"\u001b[0m\u001b[0;34m,\u001b[0m \u001b[0;34m\"Y\"\u001b[0m\u001b[0;34m]\u001b[0m\u001b[0;34m\u001b[0m\u001b[0;34m\u001b[0m\u001b[0m\n\u001b[0m",
            "\u001b[0;31mTypeError\u001b[0m: 'tuple' object does not support item assignment"
          ]
        }
      ],
      "source": [
        "tipo_documento[0:1] = [\"X\", \"Y\"]"
      ]
    }
  ],
  "metadata": {
    "colab": {
      "provenance": []
    },
    "kernelspec": {
      "display_name": "Python 3",
      "name": "python3"
    },
    "language_info": {
      "name": "python"
    }
  },
  "nbformat": 4,
  "nbformat_minor": 0
}
